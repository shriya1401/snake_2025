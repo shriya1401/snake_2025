{
 "cells": [
  {
   "cell_type": "code",
   "execution_count": null,
   "metadata": {
    "vscode": {
     "languageId": "plaintext"
    }
   },
   "outputs": [],
   "source": [
    "---\n",
    "toc: false\n",
    "comments: true\n",
    "layout: post\n",
    "title: 3.5 Booleans\n",
    "description: Student led teaching on Booleans. Learn how booleans are used in decision-making with logical operators (like less than or greater than).\n",
    "permalink: /csp/big-idea/3-5/p1\n",
    "categories: [CSP Big Ideas]\n",
    "author: Bailey, Travis, Leon, Anyi\n",
    "menu: nav/csp_units/csp_unit3_p1_fundamentals.html\n",
    "---"
   ]
  },
  {
   "cell_type": "markdown",
   "metadata": {},
   "source": [
    "## Booleans\n",
    "### Basic Concept\n",
    "##### Booleans either have a value of true or false\n",
    "- true: Represents a logically true condition.\n",
    "- false: Represents a logically false condition.\n",
    "##### A Boolean Expression is an expression that produces a Boolean (Either true or false) when evaluated\n",
    "- Common Boolean Expressions include equal to(=), greater than(>), less than(<), etc. \n",
    "- These are called Relational Operators\n",
    "##### Logical Operators allow you to combine multiple boolean expressions into one boolean output"
   ]
  },
  {
   "cell_type": "markdown",
   "metadata": {},
   "source": [
    "## Example 1\n",
    "Create a program to check if a boolean is true. Create another to check if both are true or if either is true."
   ]
  },
  {
   "cell_type": "code",
   "execution_count": null,
   "metadata": {
    "vscode": {
     "languageId": "javascript"
    }
   },
   "outputs": [],
   "source": [
    "var variableA = true;\n",
    "var variableB = false;\n",
    "\n",
    "if (variableA == true) {\n",
    "    console.log(\"VariableA is true!\");\n",
    "} else if (variableA == false) {\n",
    "    console.log(\"VariableA is false!\")\n",
    "}\n",
    "\n",
    "if (variableA == true && variableB == false) {\n",
    "    \"variableA is true and variableB is false\"\n",
    "}\n",
    "\n",
    "if (variableA == true || variableB == true) {\n",
    "    \"Either variableA or variableB is true\"\n",
    "}"
   ]
  },
  {
   "cell_type": "markdown",
   "metadata": {},
   "source": [
    "## Relational Operators\n",
    "- Equal to: a == b\n",
    "- Not Equal to: a!=b\n",
    "- Greater than: a > b\n",
    "- Less than: a < b\n",
    "- Greater than or Equal to: a >= b\n",
    "- Less than or Equal to: a <= b"
   ]
  },
  {
   "cell_type": "markdown",
   "metadata": {},
   "source": [
    "## Example 2\n",
    "Create a boolean expression to check if a number is greater than 10."
   ]
  },
  {
   "cell_type": "code",
   "execution_count": null,
   "metadata": {
    "vscode": {
     "languageId": "javascript"
    }
   },
   "outputs": [],
   "source": [
    "if (number > 10) {\n",
    "    console.log(\"number is greater than ten!\");\n",
    "} else {\n",
    "    console.log(\"number is not greater than ten!\")\n",
    "}"
   ]
  },
  {
   "cell_type": "markdown",
   "metadata": {},
   "source": [
    "## Logical Operators\n",
    "- NOT evaluates as true if the condition is false. If the condition is true, it evaluates as false.\n",
    "- AND evaluates as true if both conditions are true. If either or both conditions are false, it evaluates as false.\n",
    "- OR evaluates as true if either condition is true or if both conditions are true. If both are false, it evaluates as false."
   ]
  },
  {
   "cell_type": "markdown",
   "metadata": {},
   "source": [
    "## Example 3\n",
    "Create a boolean expression to check if a number is three digits."
   ]
  },
  {
   "cell_type": "code",
   "execution_count": null,
   "metadata": {
    "vscode": {
     "languageId": "javascript"
    }
   },
   "outputs": [],
   "source": [
    "if (number >= 100) and (number <= 999){\n",
    "    console.log(\"number is three digits!\");\n",
    "} else {\n",
    "    console.log(\"number is not three digits!\")\n",
    "}"
   ]
  },
  {
   "cell_type": "markdown",
   "metadata": {},
   "source": [
    "## Homework Hacks\n",
    "Review the instructions and examples in the lesson and create a truth table using Python. Additionally look up and learn about De Morgan's Law and see how it can be used to create a boolean expression. "
   ]
  },
  {
   "cell_type": "markdown",
   "metadata": {},
   "source": [
    "## Take a quiz\n",
    "Test out your skills with this quiz."
   ]
  },
  {
   "cell_type": "code",
   "execution_count": null,
   "metadata": {
    "vscode": {
     "languageId": "javascript"
    }
   },
   "outputs": [],
   "source": [
    "const link = document.createElement('a');\n",
    "link.href = 'https://quizizz.com/join/quiz/66f58e14ced426df9b54f913/start?studentShare=true';\n",
    "link.textContent = 'Quizizz Link';\n",
    "document.body.appendChild(link);"
   ]
  }
 ],
 "metadata": {
  "kernelspec": {
   "display_name": "Python 3",
   "language": "python",
   "name": "python3"
  },
  "language_info": {
   "codemirror_mode": {
    "name": "ipython",
    "version": 3
   },
   "file_extension": ".py",
   "mimetype": "text/x-python",
   "name": "python",
   "nbconvert_exporter": "python",
   "pygments_lexer": "ipython3",
   "version": "3.10.12"
  }
 },
 "nbformat": 4,
 "nbformat_minor": 2
}
