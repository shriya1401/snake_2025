{
 "cells": [
  {
   "cell_type": "code",
   "execution_count": null,
   "metadata": {
    "vscode": {
     "languageId": "plaintext"
    }
   },
   "outputs": [],
   "source": [
    "---\n",
    "toc: false\n",
    "comments: true\n",
    "layout: post\n",
    "title: 3.3 Mathematical Expressions\n",
    "description: Student led teaching on  Mathematical Expressions. Learn how mathematical expressions involve using arithmetic operators (like addition, subtraction, multiplication, and division) to perform calculations\n",
    "permalink: /csp/big-idea/3-3/p1\n",
    "categories: [CSP Big Ideas]\n",
    "author: Bailey, Travis, Leon, Anyi\n",
    "menu: nav/csp_units/csp_unit3_p1_fundamentals.html\n",
    "---"
   ]
  },
  {
   "cell_type": "markdown",
   "metadata": {},
   "source": [
    "## Mathematical Operations\n",
    "- Addition: a + b\n",
    "- Subtraction: a - b\n",
    "- Multiplication: a * b\n",
    "- Division: a / b\n",
    "- Modulus (remainder of a/b): JavaScript: a MOD b, Python: a % b\n",
    "\n",
    "- Math is performed according to order of operations (PEMDAS)\n",
    "- Modulus is performed at the same time as multiplication or division"
   ]
  },
  {
   "cell_type": "markdown",
   "metadata": {},
   "source": [
    "## Example 1\n",
    "Write a function that will output a y value for y = 7(x+4)-6 when given an input of an x value. "
   ]
  },
  {
   "cell_type": "code",
   "execution_count": null,
   "metadata": {},
   "outputs": [],
   "source": [
    "# Defines the function so that it can be called later\n",
    "def output(x):\n",
    "    # Prints the output by first performing x plus 4, then that quantity times 7 and finally subtracting 6 from that answer.\n",
    "    print(7 * (x + 4) - 6)"
   ]
  },
  {
   "cell_type": "markdown",
   "metadata": {},
   "source": [
    "## Example 2\n",
    "What will the code below print?"
   ]
  },
  {
   "cell_type": "code",
   "execution_count": null,
   "metadata": {},
   "outputs": [],
   "source": [
    "number1 = 8\n",
    "number2 = 3\n",
    "number3 = number1 % number2\n",
    "number4 = number3 * number1 + 70\n",
    "print(number4)"
   ]
  },
  {
   "cell_type": "markdown",
   "metadata": {},
   "source": [
    "## Example 3\n",
    "Create a list of numbers that will all be tested for whether they are divisible by 3. If they are divisible by 3 the output will say that the number is divisible by 3 and if they aren't divisible by 3 the output will be the remainder when the number is divided by 3."
   ]
  },
  {
   "cell_type": "code",
   "execution_count": null,
   "metadata": {},
   "outputs": [],
   "source": [
    "# List of numbers. Can be changed to include any number of integers.\n",
    "numbers = [14, 18, 19, 23]\n",
    "\n",
    "# For loop that will run through every number in the list of numbers.\n",
    "for num in numbers:\n",
    "    # Creates a variable which stores the modulus of each number when divided by 3.\n",
    "    remainder = num % 3\n",
    "    # Checks to see if the modulus is 0 meaning there is no remainder when divided.\n",
    "    if remainder == 0:\n",
    "        # Prints that the number is divisible if there is no remainder.\n",
    "        print(num, \"is divisible by 3\")\n",
    "    # Runs if the remainder is anything other than 0.\n",
    "    else:\n",
    "        # Prints that the remainder when divided by 3 is whatever the modulus was stored as.\n",
    "        print(\"The remainder when\", num, \"is divided by 3 is\", remainder)"
   ]
  },
  {
   "cell_type": "markdown",
   "metadata": {},
   "source": [
    "## Homework Hacks\n",
    "Review the instructions and examples in the lesson and create a function that will produce a certain term in the fibonacci sequence that is inputted as well as one that can find the area of a circle, square, and a rectangle by asking for input on what the shape is, and what the value(s) are that are needed to calculate the area of the shape. \n",
    "Challenge: Add one that can do the volume of rectangluar prisms, spheres, and pyramids."
   ]
  },
  {
   "cell_type": "markdown",
   "metadata": {},
   "source": [
    "## Take a Quiz\n",
    "Test out your skills with this quiz."
   ]
  },
  {
   "cell_type": "code",
   "execution_count": null,
   "metadata": {},
   "outputs": [],
   "source": [
    "from IPython.display import display, HTML\n",
    "display(HTML('<a href=\"https://quizizz.com/admin/quiz/66f587a56e3b4a5563ad14f3\">Quizizz Link</a>'))"
   ]
  }
 ],
 "metadata": {
  "kernelspec": {
   "display_name": ".venv",
   "language": "python",
   "name": "python3"
  },
  "language_info": {
   "codemirror_mode": {
    "name": "ipython",
    "version": 3
   },
   "file_extension": ".py",
   "mimetype": "text/x-python",
   "name": "python",
   "nbconvert_exporter": "python",
   "pygments_lexer": "ipython3",
   "version": "3.12.6"
  }
 },
 "nbformat": 4,
 "nbformat_minor": 2
}
