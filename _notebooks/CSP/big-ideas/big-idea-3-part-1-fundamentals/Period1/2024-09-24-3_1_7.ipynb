{
 "cells": [
  {
   "cell_type": "raw",
   "metadata": {
    "vscode": {
     "languageId": "raw"
    }
   },
   "source": [
    "---\n",
    "toc: true\n",
    "layout: post\n",
    "title: 3.1 Variables and Strings\n",
    "permalink: /csp/big-idea/3-1/p1\n",
    "description: Team Teach String Operations\n",
    "menu: nav/csp_units/csp_unit3_p1_fundamentals.html\n",
    "comments: true\n",
    "---"
   ]
  },
  {
   "cell_type": "markdown",
   "metadata": {},
   "source": [
    "## Homework Hack:\n",
    "in this hack, you will be given a set of personal information, and your job is to format and display it properly, along with generating a unique ID associated to that person using string slicing and concatenation.\n",
    "\n",
    "Data Set:\n",
    "- Full Name: \"John Doe\"\n",
    "- Age: 28\n",
    "- Email Address: \"john.doe@gmail.com\"\n",
    "- Hobby: \"Food Tasting\"\n",
    "- Dietary Preferences: \"Vegan\""
   ]
  },
  {
   "cell_type": "code",
   "execution_count": 1,
   "metadata": {},
   "outputs": [
    {
     "name": "stdout",
     "output_type": "stream",
     "text": [
      "Personal Info:\n",
      "- Full Name: John Doe\n",
      "- Age: 28\n",
      "- Email: john.doe@gmail.com\n",
      "- Hobby: Food Tasting\n",
      "- Dietary Preferences: Vegan\n",
      "- Unique ID: JD28\n"
     ]
    }
   ],
   "source": [
    "full_name = \"John Doe\"\n",
    "age = 28\n",
    "email = \"john.doe@gmail.com\"\n",
    "hobby = \"Food Tasting\"\n",
    "dietary_preferences = \"Vegan\"\n",
    "\n",
    "initials = full_name[0] + full_name[full_name.find(\" \") + 1] \n",
    "unique_id = initials + str(age) \n",
    "\n",
    "formatted_info = \"Personal Info:\\n\" \\\n",
    "                 \"- Full Name: \" + full_name + \"\\n\" \\\n",
    "                 \"- Age: \" + str(age) + \"\\n\" \\\n",
    "                 \"- Email: \" + email + \"\\n\" \\\n",
    "                 \"- Hobby: \" + hobby + \"\\n\" \\\n",
    "                 \"- Dietary Preferences: \" + dietary_preferences + \"\\n\" \\\n",
    "                 \"- Unique ID: \" + unique_id\n",
    "\n",
    "print(formatted_info)\n"
   ]
  },
  {
   "cell_type": "markdown",
   "metadata": {},
   "source": [
    "# Your Goal: \n",
    "### Recreate as javaScript, with different parameters, a different/unique method of creating an ID, and a different way to display/store the data"
   ]
  }
 ],
 "metadata": {
  "kernelspec": {
   "display_name": "Python 3",
   "language": "python",
   "name": "python3"
  },
  "language_info": {
   "codemirror_mode": {
    "name": "ipython",
    "version": 3
   },
   "file_extension": ".py",
   "mimetype": "text/x-python",
   "name": "python",
   "nbconvert_exporter": "python",
   "pygments_lexer": "ipython3",
   "version": "3.12.5"
  }
 },
 "nbformat": 4,
 "nbformat_minor": 2
}
