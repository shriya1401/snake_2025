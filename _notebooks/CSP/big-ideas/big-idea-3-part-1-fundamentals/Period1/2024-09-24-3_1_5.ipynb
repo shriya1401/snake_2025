{
 "cells": [
  {
   "cell_type": "raw",
   "metadata": {
    "vscode": {
     "languageId": "raw"
    }
   },
   "source": [
    "---\n",
    "toc: true\n",
    "layout: post\n",
    "title: 3.1 Variables and Strings\n",
    "permalink: /csp/big-idea/3-1/p1\n",
    "description: Team Teach String Operations\n",
    "menu: nav/csp_units/csp_unit3_p1_fundamentals.html\n",
    "comments: true\n",
    "---"
   ]
  },
  {
   "cell_type": "markdown",
   "metadata": {},
   "source": [
    "## String Operations (basic)\n",
    "- strings can be manipulated in a variety of ways, the simplest of which is concatenation"
   ]
  },
  {
   "cell_type": "code",
   "execution_count": 2,
   "metadata": {},
   "outputs": [
    {
     "name": "stdout",
     "output_type": "stream",
     "text": [
      "hello world, my name is ansh\n"
     ]
    }
   ],
   "source": [
    "# define your strings\n",
    "greeting = \"hello world\"\n",
    "usrname = \"ansh\"\n",
    "\n",
    "# print concatenated strings\n",
    "print(greeting + \", my name is \" + usrname)"
   ]
  },
  {
   "cell_type": "code",
   "execution_count": 3,
   "metadata": {
    "vscode": {
     "languageId": "javascript"
    }
   },
   "outputs": [
    {
     "data": {
      "application/javascript": "\n// define your strings\nlet greeting = \"hello world\";\nlet usrname = \"ansh\";\n\n// print concatenated strings\nconsole.log(greeting + \", my name is \" + usrname);\n",
      "text/plain": [
       "<IPython.core.display.Javascript object>"
      ]
     },
     "metadata": {},
     "output_type": "display_data"
    }
   ],
   "source": [
    "%%js \n",
    "\n",
    "// define your strings\n",
    "let greeting = \"hello world\";\n",
    "let usrname = \"ansh\";\n",
    "\n",
    "// print concatenated strings\n",
    "console.log(greeting + \", my name is \" + usrname);"
   ]
  }
 ],
 "metadata": {
  "kernelspec": {
   "display_name": "Python 3",
   "language": "python",
   "name": "python3"
  },
  "language_info": {
   "codemirror_mode": {
    "name": "ipython",
    "version": 3
   },
   "file_extension": ".py",
   "mimetype": "text/x-python",
   "name": "python",
   "nbconvert_exporter": "python",
   "pygments_lexer": "ipython3",
   "version": "3.12.5"
  }
 },
 "nbformat": 4,
 "nbformat_minor": 2
}
