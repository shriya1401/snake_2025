{
 "cells": [
  {
   "cell_type": "raw",
   "metadata": {
    "vscode": {
     "languageId": "raw"
    }
   },
   "source": [
    "---\n",
    "layout: post\n",
    "title: 3.2 Data Types \n",
    "permalink: /csp/big-idea/home\n",
    "menu: nav/csp_units/csp_unit3_p1_fundamentals.html\n",
    "author: Soni Dhenuva, Katherine Chen, Aditi Bandaru, Sanya Kapoor\n",
    "comments: true\n",
    "---"
   ]
  },
  {
   "cell_type": "markdown",
   "metadata": {},
   "source": []
  },
  {
   "cell_type": "markdown",
   "metadata": {},
   "source": [
    "- We will be going over all the data types in python and covering Python to JSON conversion Methods\n"
   ]
  }
 ],
 "metadata": {
  "language_info": {
   "name": "python"
  }
 },
 "nbformat": 4,
 "nbformat_minor": 2
}
