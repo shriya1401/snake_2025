{
 "cells": [
  {
   "cell_type": "raw",
   "metadata": {
    "vscode": {
     "languageId": "raw"
    }
   },
   "source": [
    "---\n",
    "toc: true\n",
    "layout: post\n",
    "title: 3.1 Variables and Strings\n",
    "permalink: /csp/big-idea/3-1/p1\n",
    "description: Team Teach String Operations\n",
    "menu: nav/csp_units/csp_unit3_p1_fundamentals.html\n",
    "comments: true\n",
    "---"
   ]
  },
  {
   "cell_type": "markdown",
   "metadata": {},
   "source": [
    "## Variables for Input and Output \n",
    "- Variables are usually used for values that are not constant, and are subject to change (user inputs, positions, whatever)"
   ]
  },
  {
   "cell_type": "code",
   "execution_count": 8,
   "metadata": {},
   "outputs": [
    {
     "name": "stdout",
     "output_type": "stream",
     "text": [
      "Your age is: 15\n"
     ]
    }
   ],
   "source": [
    "# define variables\n",
    "age = input(\"what's your age (#)?:\")\n",
    "\n",
    "# print variable\n",
    "print(\"Your age is:\", age)"
   ]
  },
  {
   "cell_type": "markdown",
   "metadata": {},
   "source": [
    "- User input in JavaScript requires HTML"
   ]
  },
  {
   "cell_type": "code",
   "execution_count": 14,
   "metadata": {
    "vscode": {
     "languageId": "html"
    }
   },
   "outputs": [
    {
     "data": {
      "text/html": [
       "\n",
       "<div>\n",
       "  <!-- Label for the input field -->\n",
       "  <label for=\"ageInput\">What's your age (#)?</label>\n",
       "  \n",
       "  <!-- Input field to capture the user's age -->\n",
       "  <input type=\"number\" id=\"ageInput\" name=\"ageInput\">\n",
       "  \n",
       "  <!-- Button to submit the input value -->\n",
       "  <button onclick=\"submitAge()\">Submit</button>\n",
       "</div>\n",
       "\n",
       "<!-- Div to display the output -->\n",
       "<div id=\"output\"></div>\n",
       "\n",
       "<script>\n",
       "  // Function to handle the submission of the age input\n",
       "  function submitAge() {\n",
       "    // Get the value from the HTML input field\n",
       "    let age = document.getElementById('ageInput').value;\n",
       "    \n",
       "    // Log the value to the console\n",
       "    console.log(age);\n",
       "    \n",
       "    // Display the value on the page\n",
       "    document.getElementById('output').innerText = `Your age is: ${age}`;\n",
       "  }\n",
       "</script>\n"
      ],
      "text/plain": [
       "<IPython.core.display.HTML object>"
      ]
     },
     "metadata": {},
     "output_type": "display_data"
    }
   ],
   "source": [
    "%%html \n",
    "\n",
    "<div>\n",
    "  <!--(for demo purposes)-->\n",
    "  <!--label for the input field-->\n",
    "  <label for=\"ageInput\">What's your age (#)?</label>\n",
    "  \n",
    "  <!--input field to capture the user's age -->\n",
    "  <input type=\"number\" id=\"ageInput\" name=\"ageInput\">\n",
    "  \n",
    "  <!--button to submit the input value-->\n",
    "  <button onclick=\"submitAge()\">Submit</button>\n",
    "</div>\n",
    "\n",
    "<!--display the output-->\n",
    "<div id=\"output\"></div>\n",
    "\n",
    "<script>\n",
    "  // function to handle the submission of the age input\n",
    "  function submitAge() {\n",
    "    // get the value from the HTML input field\n",
    "    let age = document.getElementById('ageInput').value;\n",
    "    \n",
    "    // log the value to the console\n",
    "    console.log(age);\n",
    "    \n",
    "    // display the value on the page\n",
    "    document.getElementById('output').innerText = `Your age is: ${age}`;\n",
    "  }\n",
    "</script>"
   ]
  }
 ],
 "metadata": {
  "kernelspec": {
   "display_name": "Python 3",
   "language": "python",
   "name": "python3"
  },
  "language_info": {
   "codemirror_mode": {
    "name": "ipython",
    "version": 3
   },
   "file_extension": ".py",
   "mimetype": "text/x-python",
   "name": "python",
   "nbconvert_exporter": "python",
   "pygments_lexer": "ipython3",
   "version": "3.12.5"
  }
 },
 "nbformat": 4,
 "nbformat_minor": 2
}
