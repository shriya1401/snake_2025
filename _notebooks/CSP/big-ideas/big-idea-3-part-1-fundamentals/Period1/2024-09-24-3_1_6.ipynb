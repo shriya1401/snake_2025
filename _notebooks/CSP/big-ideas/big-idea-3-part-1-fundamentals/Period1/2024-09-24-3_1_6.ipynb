{
 "cells": [
  {
   "cell_type": "raw",
   "metadata": {
    "vscode": {
     "languageId": "raw"
    }
   },
   "source": [
    "---\n",
    "toc: true\n",
    "layout: post\n",
    "title: 3.1 Variables and Strings\n",
    "permalink: /csp/big-idea/3-1/p1\n",
    "description: Team Teach String Operations\n",
    "menu: nav/csp_units/csp_unit3_p1_fundamentals.html\n",
    "comments: true\n",
    "---"
   ]
  },
  {
   "cell_type": "markdown",
   "metadata": {},
   "source": [
    "## Simple Popcorn Hack - Profile Creation\n",
    "- In this hack, we store basic information (strings) as variables, and concatenate them to create a general profile that may be subject to different users"
   ]
  },
  {
   "cell_type": "code",
   "execution_count": 5,
   "metadata": {},
   "outputs": [
    {
     "name": "stdout",
     "output_type": "stream",
     "text": [
      "['Ansh', '15', 'cupcakes']\n",
      "{'Ansh', 'cupcakes', '15'}\n",
      "Hi my name is Ansh, I'm 15 years old, and my favorite food is cupcakes\n"
     ]
    }
   ],
   "source": [
    "var1 = input(\"What is your name?:\")\n",
    "var2 = input(\"What is your age?:\")\n",
    "var3 = input(\"What is your favorite food?:\")\n",
    "\n",
    "my_list = [var1, var2, var3]\n",
    "\n",
    "my_dict = {\n",
    "    var1,\n",
    "    var2,\n",
    "    var3\n",
    "}\n",
    "\n",
    "print(my_list)\n",
    "print(my_dict)\n",
    "\n",
    "print(\"Hi my name is \" + var1 + \", I'm \" +  var2 + \" years old\" + \", and my favorite food is \" + var3)"
   ]
  },
  {
   "cell_type": "markdown",
   "metadata": {},
   "source": [
    "## JS Hack Code"
   ]
  },
  {
   "cell_type": "code",
   "execution_count": null,
   "metadata": {
    "vscode": {
     "languageId": "javascript"
    }
   },
   "outputs": [],
   "source": [
    "%%js\n",
    "const var1 = prompt(\"What is your name?:\");\n",
    "const var2 = prompt(\"What is your age?:\");\n",
    "const var3 = prompt(\"What is your favorite food?:\");\n",
    "\n",
    "\n",
    "const myList = [var1, var2, var3];\n",
    "console.log(myList);\n",
    "\n",
    "\n",
    "const myDict = {\n",
    "    name: var1,\n",
    "    age: var2,\n",
    "    favoriteFood: var3\n",
    "};\n",
    "console.log(myDict);\n",
    "\n",
    "\n",
    "console.log(\"Hi, my name is \" + var1 + \", I'm \" + var2 + \" years old, and my favorite food is \" + var3 + \".\");"
   ]
  },
  {
   "cell_type": "markdown",
   "metadata": {},
   "source": [
    "# Your Goal: \n",
    "### Make your own profile creation script with different, variable parameters!"
   ]
  }
 ],
 "metadata": {
  "kernelspec": {
   "display_name": "Python 3",
   "language": "python",
   "name": "python3"
  },
  "language_info": {
   "codemirror_mode": {
    "name": "ipython",
    "version": 3
   },
   "file_extension": ".py",
   "mimetype": "text/x-python",
   "name": "python",
   "nbconvert_exporter": "python",
   "pygments_lexer": "ipython3",
   "version": "3.12.5"
  }
 },
 "nbformat": 4,
 "nbformat_minor": 2
}
