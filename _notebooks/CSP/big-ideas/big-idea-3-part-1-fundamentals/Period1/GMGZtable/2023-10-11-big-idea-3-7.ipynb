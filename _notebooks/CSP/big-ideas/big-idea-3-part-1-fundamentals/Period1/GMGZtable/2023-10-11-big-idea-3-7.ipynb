{
 "cells": [
  {
   "cell_type": "raw",
   "metadata": {
    "vscode": {
     "languageId": "raw"
    }
   },
   "source": [
    "---\n",
    "toc: false\n",
    "comments: true\n",
    "layout: post\n",
    "title: 3.7 Nested Conditionals\n",
    "description: A supplemental blog on nested conditionals. Learn how nested conditionals allow for more complex decision-making by enabling multiple levels of conditions than regular conditionals. \n",
    "permalink: /csp/big-idea/3-7/p1\n",
    "author: Gavin, Gyutae, Marti, Zaid\n",
    "menu: nav/csp_units/csp_unit3_p1_fundamentals.html\n",
    "---"
   ]
  },
  {
   "cell_type": "markdown",
   "metadata": {},
   "source": [
    "## Nested Conditionals"
   ]
  },
  {
   "cell_type": "markdown",
   "metadata": {},
   "source": [
    "\n",
    "\n",
    "## Introduction\n",
    "\n",
    "**Nested conditionalsare a fundamental concept in programming where one conditional statement is placed inside another. This allows for more complex decision-making processes and enables programs to handle a wider range of scenarios.\n",
    "\n",
    "## Objectives\n",
    "\n",
    "By the end of this lesson, students will be able to:\n",
    "1. **Understand what nested conditionals are.**\n",
    "2. **Write pseudocode using nested conditionals.**\n",
    "3. **Apply nested conditionals to solve problems.**\n",
    "\n",
    "## Key Concepts\n",
    "\n",
    "1. `Conditional Statements`: Used to perform different actions based on different conditions.\n",
    "2. `Nested Conditionals`: A conditional statement inside another conditional statement.\n",
    "\n",
    "## Example Syntax (College Board Pseudocode)\n",
    "\n",
    "College Board pseudocode uses the following structure for conditional statements:\n",
    "\n",
    "```plaintext\n",
    "IF condition1\n",
    "{\n",
    "    // Code block for condition1\n",
    "    IF condition2\n",
    "    {\n",
    "        // Code block for condition2\n",
    "    }\n",
    "    ELSE\n",
    "    {\n",
    "        // Code block if condition2 is false\n",
    "    }\n",
    "}\n",
    "ELSE\n",
    "{\n",
    "    // Code block if condition1 is false\n",
    "}\n"
   ]
  },
  {
   "cell_type": "markdown",
   "metadata": {},
   "source": [
    "`Example 1: Checking Grade Categories`\n",
    "\n",
    "## Pseudocode\n",
    "Let's write a pseudocode to determine the grade category based on a score:"
   ]
  },
  {
   "cell_type": "code",
   "execution_count": null,
   "metadata": {
    "vscode": {
     "languageId": "html"
    }
   },
   "outputs": [],
   "source": [
    "IF score >= 90\n",
    "{\n",
    "    DISPLAY \"A\"\n",
    "}\n",
    "ELSE\n",
    "{\n",
    "    IF score >= 80\n",
    "    {\n",
    "        DISPLAY \"B\"\n",
    "    }\n",
    "    ELSE\n",
    "    {\n",
    "        IF score >= 70\n",
    "        {\n",
    "            DISPLAY \"C\"\n",
    "        }\n",
    "        ELSE\n",
    "        {\n",
    "            IF score >= 60\n",
    "            {\n",
    "                DISPLAY \"D\"\n",
    "            }\n",
    "            ELSE\n",
    "            {\n",
    "                DISPLAY \"F\"\n",
    "            }\n",
    "        }\n",
    "    }\n",
    "}\n"
   ]
  },
  {
   "cell_type": "markdown",
   "metadata": {},
   "source": [
    "## Python\n",
    "Here is the equivalent Python code:"
   ]
  },
  {
   "cell_type": "code",
   "execution_count": 1,
   "metadata": {},
   "outputs": [
    {
     "name": "stdout",
     "output_type": "stream",
     "text": [
      "B\n"
     ]
    }
   ],
   "source": [
    "score = 85\n",
    "\n",
    "if score >= 90:\n",
    "    print(\"A\")\n",
    "else:\n",
    "    if score >= 80:\n",
    "        print(\"B\")\n",
    "    else:\n",
    "        if score >= 70:\n",
    "            print(\"C\")\n",
    "        else:\n",
    "            if score >= 60:\n",
    "                print(\"D\")\n",
    "            else:\n",
    "                print(\"F\")\n"
   ]
  },
  {
   "cell_type": "markdown",
   "metadata": {
    "vscode": {
     "languageId": "javascript"
    }
   },
   "source": [
    "# Javascript\n",
    "\n",
    "Here is the equivalent Javascript code example: "
   ]
  },
  {
   "cell_type": "code",
   "execution_count": null,
   "metadata": {
    "vscode": {
     "languageId": "javascript"
    }
   },
   "outputs": [],
   "source": [
    "let score = 85;\n",
    "\n",
    "if (score >= 90) {\n",
    "    console.log(\"A\");\n",
    "} else if (score >= 80) {\n",
    "    console.log(\"B\");\n",
    "} else if (score >= 70) {\n",
    "    console.log(\"C\");\n",
    "} else if (score >= 60) {\n",
    "    console.log(\"D\");\n",
    "} else {\n",
    "    console.log(\"F\");\n",
    "}\n"
   ]
  },
  {
   "cell_type": "markdown",
   "metadata": {},
   "source": [
    "`Example 2: Determining Eligibility for a Loan`\n",
    "\n",
    "\n",
    "## Pseudocode\n",
    "Let's consider a scenario where we determine if a person is eligible for a loan based on their credit score and income:"
   ]
  },
  {
   "cell_type": "code",
   "execution_count": null,
   "metadata": {
    "vscode": {
     "languageId": "html"
    }
   },
   "outputs": [],
   "source": [
    "IF credit_score >= 700\n",
    "{\n",
    "    IF income >= 50000\n",
    "    {\n",
    "        DISPLAY \"Eligible for loan\"\n",
    "    }\n",
    "    ELSE\n",
    "    {\n",
    "        DISPLAY \"Not eligible for loan due to low income\"\n",
    "    }\n",
    "}\n",
    "ELSE\n",
    "{\n",
    "    DISPLAY \"Not eligible for loan due to low credit score\"\n",
    "}\n"
   ]
  },
  {
   "cell_type": "markdown",
   "metadata": {},
   "source": [
    "## Python\n",
    "Here is the equivalent Python code:\n",
    "\n"
   ]
  },
  {
   "cell_type": "code",
   "execution_count": null,
   "metadata": {},
   "outputs": [],
   "source": [
    "credit_score = 750\n",
    "income = 60000\n",
    "\n",
    "if credit_score >= 700:\n",
    "    if income >= 50000:\n",
    "        print(\"Eligible for loan\")\n",
    "    else:\n",
    "        print(\"Not eligible for loan due to low income\")\n",
    "else:\n",
    "    print(\"Not eligible for loan due to low credit score\")\n"
   ]
  },
  {
   "cell_type": "markdown",
   "metadata": {},
   "source": [
    "# Javascript\n",
    "\n",
    "Here is the equivalent Javascript code: "
   ]
  },
  {
   "cell_type": "code",
   "execution_count": null,
   "metadata": {
    "vscode": {
     "languageId": "javascript"
    }
   },
   "outputs": [],
   "source": [
    "let credit_score = 750;\n",
    "let income = 60000;\n",
    "\n",
    "if (credit_score >= 700) {\n",
    "    if (income >= 50000) {\n",
    "        console.log(\"Eligible for loan\");\n",
    "    } else {\n",
    "        console.log(\"Not eligible for loan due to low income\");\n",
    "    }\n",
    "} else {\n",
    "    console.log(\"Not eligible for loan due to low credit score\");\n",
    "}\n"
   ]
  },
  {
   "cell_type": "markdown",
   "metadata": {},
   "source": [
    "`Example 3`\n",
    "Write pseudocode to determine if a person qualifies for a discount based on their membership status and purchase amount:\n",
    "\n",
    "If the person is a member:\n",
    "  - If the purchase amount is greater than $100, they get a 20% discount.\n",
    "  - Otherwise, they get a 10% discount.\n",
    "If the person is not a member:\n",
    "   - If the purchase amount is greater than $100, they get a 5% discount.\n",
    "    - Otherwise, they get no discount.\n"
   ]
  },
  {
   "cell_type": "code",
   "execution_count": null,
   "metadata": {
    "vscode": {
     "languageId": "html"
    }
   },
   "outputs": [],
   "source": [
    "IF is_member = TRUE\n",
    "{\n",
    "    IF purchase_amount > 100\n",
    "    {\n",
    "        DISPLAY \"20% discount\"\n",
    "    }\n",
    "    ELSE\n",
    "    {\n",
    "        DISPLAY \"10% discount\"\n",
    "    }\n",
    "}\n",
    "ELSE\n",
    "{\n",
    "    IF purchase_amount > 100\n",
    "    {\n",
    "        DISPLAY \"5% discount\"\n",
    "    }\n",
    "    ELSE\n",
    "    {\n",
    "        DISPLAY \"No discount\"\n",
    "    }\n",
    "}\n"
   ]
  },
  {
   "cell_type": "markdown",
   "metadata": {
    "vscode": {
     "languageId": "html"
    }
   },
   "source": [
    "# Quiz!\n",
    "Run the quiz in your VSCode using the run button on the side of the code block."
   ]
  },
  {
   "cell_type": "code",
   "execution_count": null,
   "metadata": {},
   "outputs": [],
   "source": [
    "# Import necessary modules\n",
    "import getpass  # Module to get the user's name\n",
    "import sys  # Module to access system-related information\n",
    "\n",
    "# Function to ask a question and get a response\n",
    "def question_with_response(prompt):\n",
    "    # Print the question\n",
    "    # Get user input as the response\n",
    "    answer = input(prompt)\n",
    "    return answer\n",
    "\n",
    "# Define the number of questions and initialize the correct answers counter\n",
    "questions = 5\n",
    "correct = 0\n",
    "\n",
    "# Personalized greeting message\n",
    "# Collect the student's name\n",
    "user_name = question_with_response(\"Enter your name: \")\n",
    "print('Hello, ' + user_name + \" you are running \" + sys.executable)\n",
    "ready = question_with_response(\"Are you ready to take a test? (yes/no): \")\n",
    "\n",
    "# Check if the user is ready\n",
    "if ready.lower() == \"yes\":\n",
    "    # Question 1\n",
    "    answer1 = question_with_response(\"Q1: What keyword is used to start a conditional statement in Python? \")\n",
    "    if answer1.lower() == \"if\":\n",
    "        print(\"Correct!\")\n",
    "        correct += 1\n",
    "    else:\n",
    "        print(\"Incorrect, the correct answer is 'if'.\")\n",
    "\n",
    "    # Question 2\n",
    "    answer2 = question_with_response(\"Q2: Can conditional statements be nested inside other conditional statements? (yes/no) \")\n",
    "    if answer2.lower() == \"yes\":\n",
    "        print(\"Correct!\")\n",
    "        correct += 1\n",
    "    else:\n",
    "        print(\"Incorrect, the correct answer is 'yes'. Conditional statements can be nested inside other conditional statements.\")\n",
    "\n",
    "    # Question 3\n",
    "    answer3 = question_with_response(\"Q3: Which symbol is used to check equality in a conditional statement? \")\n",
    "    if answer3 == \"==\":\n",
    "        print(\"Correct!\")\n",
    "        correct += 1\n",
    "    else:\n",
    "        print(\"Incorrect, the correct answer is '=='. This is checking if the two values are equal. One equals sign is assigning a value, two is checking if they have the same value, and three is checking if they are the same value and the same type.\")\n",
    "\n",
    "    # Question 4\n",
    "    answer4 = question_with_response(\"Q4: What will be the output of the following code: if 5 > 10: print('Yes') else: print('No') \")\n",
    "    if answer4.lower() == \"no\":\n",
    "        print(\"Correct!\")\n",
    "        correct += 1\n",
    "    else:\n",
    "        print(\"Incorrect, the correct answer is 'No'. 5 is less than 10...\")\n",
    "\n",
    "    # Question 5\n",
    "    answer5 = question_with_response(\"Q5: What is the result of this expression: 5 <= 5? \")\n",
    "    if answer5.lower() == \"true\":\n",
    "        print(\"Correct!\")\n",
    "        correct += 1\n",
    "    else:\n",
    "        print(\"Incorrect, the correct answer is 'True'. This expression is checking if 5 is ess than or equal to 5.\")\n",
    "\n",
    "else:\n",
    "    print(\"Maybe next time!\")\n",
    "\n",
    "# Display the final score\n",
    "# Calculate the percentage of correct answers and provide feedback\n",
    "print(user_name + \", you scored \" + str(correct) + \"/\" + str(questions))\n",
    "score_percentage = (correct / questions) * 100\n",
    "print(\"Your score is: \" + str(score_percentage) + \"%\")\n",
    "\n",
    "# Provide feedback based on the score\n",
    "if score_percentage == 100:\n",
    "    print(\"Excellent work!\")\n",
    "elif score_percentage >= 60:\n",
    "    print(\"Good job!\")\n",
    "else:\n",
    "    print(\"Keep practicing, you'll get there!\")\n"
   ]
  },
  {
   "cell_type": "markdown",
   "metadata": {},
   "source": [
    "## Homework (Hacks)\n",
    "- Write pseudocode to determine if a student passes a class based on their exam scores and attendance using nested conditionals.\n",
    "- Write a python segment  to decide the shipping cost based on the weight of a package and the delivery speed chosen (standard or express) using nested conditionals. \n",
    "- Write a python segment to have different ticket prices for different ages, with a discount for students\n",
    "\n",
    "##### Challenge Hack\n",
    "Write a program that helps a user determine the type of triangle based on the lengths of its sides. The program should prompt the user to input three positive numbers representing the sides of a triangle. Your task is to use nested conditionals to check the following:\n",
    "\n",
    "First, verify if the three sides can form a valid triangle (hint: the sum of any two sides must be greater than the third side).\n",
    "If it's a valid triangle, further classify it into one of the following categories:\n",
    "- Equilateral Triangle: All sides are equal.\n",
    "- Isosceles Triangle: Two sides are equal.\n",
    "- Scalene Triangle: No sides are equal.\n",
    "If the sides do not form a valid triangle, the program should display an appropriate message.\n",
    "\n",
    "Requirements:\n",
    "Use nested conditionals to handle the logic for checking the type of triangle.\n",
    "Include input validation to ensure the user enters positive numbers."
   ]
  },
  {
   "cell_type": "markdown",
   "metadata": {},
   "source": [
    "# Need Help?\n",
    "Here's some [solutions]({{site.baseurl}}/csp/big-idea/3-7/p1/solution)."
   ]
  }
 ],
 "metadata": {
  "kernelspec": {
   "display_name": "Python 3",
   "language": "python",
   "name": "python3"
  },
  "language_info": {
   "codemirror_mode": {
    "name": "ipython",
    "version": 3
   },
   "file_extension": ".py",
   "mimetype": "text/x-python",
   "name": "python",
   "nbconvert_exporter": "python",
   "pygments_lexer": "ipython3",
   "version": "3.12.5"
  }
 },
 "nbformat": 4,
 "nbformat_minor": 2
}
