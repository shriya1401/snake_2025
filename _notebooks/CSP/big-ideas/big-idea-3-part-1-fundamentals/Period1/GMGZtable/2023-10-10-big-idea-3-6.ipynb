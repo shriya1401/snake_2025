{
 "cells": [
  {
   "cell_type": "raw",
   "metadata": {
    "vscode": {
     "languageId": "raw"
    }
   },
   "source": [
    "---\n",
    "toc: false\n",
    "comments: true\n",
    "layout: post\n",
    "title: 3.6 Conditionals \n",
    "description: Student led teaching on Conditionals. Learn how conditionals control the flow of a program by executing specific blocks of code under certain conditions.\n",
    "permalink: /csp/big-idea/3-6/p1\n",
    "categories: [CSP Big Ideas]\n",
    "author: LEIA\n",
    "menu: nav/csp_units/csp_unit3_p1_fundamentals.html\n",
    "---"
   ]
  },
  {
   "cell_type": "markdown",
   "metadata": {},
   "source": [
    "## <mark>Conditionals</mark>\n",
    "\n",
    "- Affect the sequential flow of control by executing different statements based on the value of a Boolean expression."
   ]
  },
  {
   "cell_type": "raw",
   "metadata": {
    "vscode": {
     "languageId": "raw"
    }
   },
   "source": [
    "IF (condition)\n",
    "{\n",
    "\t<block of statements>\n",
    "}\n",
    "\n",
    "The code in <block of statements> is executed if the Boolean expression condition evaluates to true; no action is taken if condition evaluates to false.\n",
    "\n",
    "IF (condition)\n",
    "{\n",
    "\t<block of statements>\n",
    "}\n",
    "ELSE\n",
    "{\n",
    "\t<second block of statements>\n",
    "}\n",
    "\n",
    "The code in the first <block of statements> is executed if the Boolean expression condition evaluates to true; otherwise, the code in <second block of statements> is executed."
   ]
  },
  {
   "cell_type": "markdown",
   "metadata": {},
   "source": [
    "<b>Example:</b> Calculate the sum of 2 numbers. If the sum is greater than 10, display 10; otherwise, display the sum."
   ]
  },
  {
   "cell_type": "raw",
   "metadata": {
    "vscode": {
     "languageId": "raw"
    }
   },
   "source": [
    "num1 = INPUT\n",
    "num2 = INPUT\n",
    "sum = num1 + num2\n",
    "IF (sum > 10)\n",
    "{\n",
    "\tDISPLAY (10)\n",
    "}\n",
    "ELSE\n",
    "{\n",
    "\tDISPLAY (sum)\n",
    "}"
   ]
  },
  {
   "cell_type": "markdown",
   "metadata": {},
   "source": [
    "# Example\n",
    "\n",
    "- Add a variable that represents an age.\n",
    "\n",
    "- Add an 'if' and 'print' function that says \"You are an adult\" if your age is greater than or equal to 18.\n",
    "\n",
    "- Make a function that prints \"You are a minor\" with the else function."
   ]
  },
  {
   "cell_type": "code",
   "execution_count": null,
   "metadata": {},
   "outputs": [],
   "source": [
    "\n",
    "age = input(\"age: \")\n",
    "if int(age) >= 18:\n",
    "    print(\"Adult\")\n",
    "else:\n",
    "    print(\"Minor\")"
   ]
  },
  {
   "cell_type": "markdown",
   "metadata": {},
   "source": [
    "## JavaScript\n",
    "This is the JS equivalent of the code"
   ]
  },
  {
   "cell_type": "code",
   "execution_count": null,
   "metadata": {
    "vscode": {
     "languageId": "javascript"
    }
   },
   "outputs": [],
   "source": [
    "let age = prompt(\"Enter your age:\");\n",
    "if (parseInt(age) >= 18) {\n",
    "    console.log(\"Adult\");\n",
    "} else {\n",
    "    console.log(\"Minor\");\n",
    "}"
   ]
  },
  {
   "cell_type": "markdown",
   "metadata": {},
   "source": [
    "# Example\n",
    "\n",
    "- Make a variable called 'is_raining' and set it to 'True\".\n",
    "\n",
    "- Make an if statement that prints \"Bring an umbrella!\" if it is true\n",
    "\n",
    "- Make an else statement that says \"The weather is clear\"."
   ]
  },
  {
   "cell_type": "code",
   "execution_count": null,
   "metadata": {},
   "outputs": [],
   "source": [
    "\n",
    "is_raining = False\n",
    "if is_raining:\n",
    "    print(\"Bring a umbrella\")\n",
    "else:\n",
    "    print(\"The weather is clear\")"
   ]
  },
  {
   "cell_type": "markdown",
   "metadata": {},
   "source": [
    "## JavaScript\n",
    "This is the JS equivalent of the code"
   ]
  },
  {
   "cell_type": "code",
   "execution_count": null,
   "metadata": {
    "vscode": {
     "languageId": "javascript"
    }
   },
   "outputs": [],
   "source": [
    "let isRaining = false;\n",
    "if (isRaining) {\n",
    "    console.log(\"Bring an umbrella\");\n",
    "} else {\n",
    "    console.log(\"The weather is clear\");\n",
    "}"
   ]
  },
  {
   "cell_type": "markdown",
   "metadata": {},
   "source": [
    "# Example\n",
    "\n",
    "- Make a function to randomize numbers between 0 and 100 to be assigned to variables a and b using random.randint\n",
    "\n",
    "- Print the values of the variables\n",
    "\n",
    "- Print the relationship of the variables; a is more than, same as, or less than b"
   ]
  },
  {
   "cell_type": "code",
   "execution_count": null,
   "metadata": {},
   "outputs": [],
   "source": [
    "\n",
    "import random\n",
    "\n",
    "\n",
    "a = random.randint(0,100)\n",
    "b = random.randint(0,100)\n",
    "print(a, b)\n",
    "\n",
    "if a > b:\n",
    "    print( str(a) + \" > \" + str(b) )\n",
    "elif a < b: \n",
    "    print( str(a) + \" < \" + str(b) )\n",
    "else:\n",
    "    print( str(a) + \" = \" + str(b) )\n",
    "\n"
   ]
  },
  {
   "cell_type": "markdown",
   "metadata": {},
   "source": [
    "## JavaScript\n",
    "This is the JS equivalent of the code"
   ]
  },
  {
   "cell_type": "code",
   "execution_count": null,
   "metadata": {
    "vscode": {
     "languageId": "javascript"
    }
   },
   "outputs": [],
   "source": [
    "let a = Math.floor(Math.random() * 101); // Random number between 0 and 100\n",
    "let b = Math.floor(Math.random() * 101);\n",
    "\n",
    "console.log(a, b);\n",
    "\n",
    "if (a > b) {\n",
    "    console.log(a + \" > \" + b);\n",
    "} else if (a < b) {\n",
    "    console.log(a + \" < \" + b);\n",
    "} else {\n",
    "    console.log(a + \" = \" + b);\n",
    "}"
   ]
  },
  {
   "cell_type": "markdown",
   "metadata": {},
   "source": [
    "## Hacks\n",
    "\n",
    "Create a 5 question quiz following the comments in the `#HOMEWOR` code cell below.\n",
    "\n",
    "1. Provided is `question_with_response` function and some introductory samples.\n",
    "2. A key to the homeworks is to research and come up with each question type.\n",
    "3. A key to the program is to evaluate input from user and calculate a result"
   ]
  },
  {
   "cell_type": "code",
   "execution_count": null,
   "metadata": {},
   "outputs": [],
   "source": [
    "# Import necessary modules\n",
    "import sys  # Module to access system-related information\n",
    "\n",
    "# Function to ask a theoretical question and get a response\n",
    "def question_with_response(prompt):\n",
    "    answer = input(prompt)\n",
    "    return answer\n",
    "\n",
    "# Define the number of questions and initialize the correct answers counter\n",
    "questions = 5\n",
    "correct = 0\n",
    "\n",
    "# Personalized greeting message\n",
    "user_name = question_with_response(\"Enter your name: \")\n",
    "print('Hello, ' + user_name + \" you are running \" + sys.executable)\n",
    "ready = question_with_response(\"Are you ready to take a test on conditionals? (yes/no): \")\n",
    "\n",
    "# Question 1: Basic Conditional Theory\n",
    "q1 = question_with_response(\"1. What keyword is used in Python to check a condition? (a) for (b) if (c) while: \")\n",
    "if q1.lower() == \"b\":\n",
    "    print(\"Correct!\")\n",
    "    correct += 1\n",
    "else:\n",
    "    print(\"Incorrect. The correct answer is (b) if.\")\n",
    "\n",
    "# Question 2: `else` Statement\n",
    "q2 = question_with_response(\"2. What happens if an `if` condition is false and there is an `else` block? (a) The program does nothing (b) The `else` block runs (c) An error occurs: \")\n",
    "if q2.lower() == \"b\":\n",
    "    print(\"Correct!\")\n",
    "    correct += 1\n",
    "else:\n",
    "    print(\"Incorrect. The correct answer is (b) The `else` block runs.\")\n",
    "\n",
    "# Question 3: `elif` Statement\n",
    "q3 = question_with_response(\"3. What is the purpose of the `elif` keyword in Python? (a) It checks another condition if the previous one was false (b) It ends the program (c) It only runs if the `if` block runs: \")\n",
    "if q3.lower() == \"a\":\n",
    "    print(\"Correct!\")\n",
    "    correct += 1\n",
    "else:\n",
    "    print(\"Incorrect. The correct answer is (a) It checks another condition if the previous one was false.\")\n",
    "\n",
    "# Question 4: Boolean Expressions\n",
    "q4 = question_with_response(\"4. Which of the following is a correct Boolean expression in an `if` statement? (a) if 5 > 3 (b) if 'text' (c) if == 10: \")\n",
    "if q4.lower() == \"a\":\n",
    "    print(\"Correct!\")\n",
    "    correct += 1\n",
    "else:\n",
    "    print(\"Incorrect. The correct answer is (a) if 5 > 3.\")\n",
    "\n",
    "# Question 5: Nested Conditionals\n",
    "q5 = question_with_response(\"5. 3.7 Preview! What is a nested conditional? (a) An `if` statement inside another `if` statement (b) An `else` block that runs without conditions (c) A loop inside a conditional: \")\n",
    "if q5.lower() == \"a\":\n",
    "    print(\"Correct!\")\n",
    "    correct += 1\n",
    "else:\n",
    "    print(\"Incorrect. The correct answer is (a) An `if` statement inside another `if` statement.\")\n",
    "\n",
    "# Display the final score\n",
    "print(user_name + \", you scored \" + str(correct) + \"/\" + str(questions))"
   ]
  },
  {
   "cell_type": "markdown",
   "metadata": {},
   "source": [
    "# Homework Hack\n",
    "Write a Python program that takes two numbers as input from the user. The program should:\n",
    "\n",
    "- Determine if the numbers are equal.\n",
    "- If the numbers are different, print which number is larger."
   ]
  },
  {
   "cell_type": "markdown",
   "metadata": {},
   "source": [
    "## Answer:\n",
    "<a href=\"{{site.baseurl}}/csp/big-idea/3-6/p1/solution\">See an example solution</a>"
   ]
  }
 ],
 "metadata": {
  "kernelspec": {
   "display_name": "Python 3",
   "language": "python",
   "name": "python3"
  },
  "language_info": {
   "codemirror_mode": {
    "name": "ipython",
    "version": 3
   },
   "file_extension": ".py",
   "mimetype": "text/x-python",
   "name": "python",
   "nbconvert_exporter": "python",
   "pygments_lexer": "ipython3",
   "version": "3.11.9"
  }
 },
 "nbformat": 4,
 "nbformat_minor": 2
}
