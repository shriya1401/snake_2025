{
 "cells": [
  {
   "cell_type": "raw",
   "metadata": {
    "vscode": {
     "languageId": "raw"
    }
   },
   "source": [
    "---\n",
    "layout: post\n",
    "title: 3.2 Strings\n",
    "categories: [CSP Big Ideas]\n",
    "permalink: /csp/big-idea/p4/3-2-3\n",
    "comments: true\n",
    "menu: nav/csp_units/csp_unit3_p4_fundamentals.html\n",
    "---"
   ]
  },
  {
   "cell_type": "markdown",
   "metadata": {},
   "source": [
    "# Data Abstraction: Strings"
   ]
  },
  {
   "cell_type": "markdown",
   "metadata": {},
   "source": [
    "## Introduction to Strings\n",
    "\n",
    "In programming, a **string** is a sequence of characters. Strings can include letters, numbers, symbols, and whitespace. Strings are used to represent text in a program.\n",
    "\n",
    "### Key Characteristics of Strings\n",
    "- Strings are enclosed in quotes (single or double).\n",
    "- They are **immutable**, meaning once created, they cannot be changed.\n",
    "- Strings can be **indexed** and **sliced**."
   ]
  },
  {
   "cell_type": "markdown",
   "metadata": {},
   "source": [
    "## Definition of a String\n",
    "\n",
    "A string is a data type used in programming to represent text. It is a sequence of characters, which can include letters, digits, punctuation marks, and spaces.\n",
    "\n",
    "### Example:\n",
    "```python\n",
    "my_string = \"Hello, World!\"\n"
   ]
  },
  {
   "cell_type": "markdown",
   "metadata": {},
   "source": [
    "## String Operations\n",
    "\n",
    "Strings support various operations. Here are some common ones:\n",
    "\n",
    "### 1. String Length\n",
    "You can find the length of a string using the `len()` function.\n",
    "\n",
    "### Example:\n",
    "```python\n",
    "length = len(my_string)\n",
    "print(length)  # Output: 13"
   ]
  },
  {
   "cell_type": "code",
   "execution_count": null,
   "metadata": {},
   "outputs": [],
   "source": [
    "```python\n",
    "# String Length\n",
    "length = len(my_string)\n",
    "print(f\"Length of the string: {length}\")  # Output: Length of the string: 13"
   ]
  },
  {
   "cell_type": "markdown",
   "metadata": {},
   "source": [
    "### 2. String Indexing\n",
    "\n",
    "Strings can be accessed using indices. The first character has an index of 0.\n",
    "\n",
    "### Example:\n",
    "```python\n",
    "first_character = my_string[0]\n",
    "print(first_character)  # Output: H\n"
   ]
  },
  {
   "cell_type": "code",
   "execution_count": null,
   "metadata": {},
   "outputs": [],
   "source": [
    "```python\n",
    "# String Indexing\n",
    "first_character = my_string[0]\n",
    "print(f\"First character of the string: {first_character}\")  # Output: H"
   ]
  },
  {
   "cell_type": "markdown",
   "metadata": {},
   "source": [
    "### 3. String Slicing\n",
    "\n",
    "You can extract a portion of a string using slicing.\n",
    "\n",
    "### Example:\n",
    "```python\n",
    "substring = my_string[0:5]\n",
    "print(substring)  # Output: Hello"
   ]
  },
  {
   "cell_type": "code",
   "execution_count": null,
   "metadata": {},
   "outputs": [],
   "source": [
    "```python\n",
    "# String Slicing\n",
    "substring = my_string[0:5]\n",
    "print(f\"Substring: {substring}\")  # Output: Hello"
   ]
  },
  {
   "cell_type": "markdown",
   "metadata": {},
   "source": [
    "### 4. String Methods\n",
    "\n",
    "Strings come with various built-in methods. Here are a few useful ones:\n",
    "\n",
    "- `lower()`: Converts a string to lowercase.\n",
    "- `upper()`: Converts a string to uppercase.\n",
    "- `replace()`: Replaces a substring with another substring.\n",
    "\n",
    "### Example:\n",
    "```python\n",
    "lower_string = my_string.lower()\n",
    "print(lower_string)  # Output: hello, world!\n"
   ]
  },
  {
   "cell_type": "code",
   "execution_count": null,
   "metadata": {},
   "outputs": [],
   "source": [
    "```python\n",
    "# String Methods\n",
    "lower_string = my_string.lower()\n",
    "upper_string = my_string.upper()\n",
    "replaced_string = my_string.replace(\"World\", \"Python\")\n",
    "\n",
    "print(f\"Lowercase: {lower_string}\")  # Output: hello, world!\n",
    "print(f\"Uppercase: {upper_string}\")  # Output: HELLO, WORLD!\n",
    "print(f\"Replaced String: {replaced_string}\")  # Output: Hello, Python!"
   ]
  },
  {
   "cell_type": "markdown",
   "metadata": {},
   "source": [
    "## Conclusion\n",
    "\n",
    "Strings are fundamental in programming, especially for handling text. Understanding how to manipulate strings is crucial for any programmer. In this lesson, we covered the basics of strings, including their definition, length, indexing, slicing, and some common string methods."
   ]
  }
 ],
 "metadata": {
  "kernelspec": {
   "display_name": "venv",
   "language": "python",
   "name": "python3"
  },
  "language_info": {
   "name": "python",
   "version": "3.12.6"
  }
 },
 "nbformat": 4,
 "nbformat_minor": 2
}
