{
 "cells": [
  {
   "cell_type": "raw",
   "metadata": {
    "vscode": {
     "languageId": "raw"
    }
   },
   "source": [
    "---\n",
    "toc: false\n",
    "comments: true\n",
    "layout: post\n",
    "title: 3.10 JavaScript Arrays (Lists)\n",
    "description: This is student-led teaching on lists\n",
    "categories: [CSP Big Ideas]\n",
    "author: Noah, James, Zafeer (Period 4)\n",
    "menu: nav/csp_units/csp_unit3_p5_fundamentals.html\n",
    "permalink: /csp/big-idea/p4/3-10B-1\n",
    "---"
   ]
  },
  {
   "cell_type": "markdown",
   "metadata": {},
   "source": [
    "## Arrays\n",
    "\n",
    "Lists are represented by arrays, are ordered collections that can hold different data types, enabling the storage and manipulation of multiple values within a single variable. Lists are commonly used for iterating over data, transforming data, and creating complex structures like matrices.\n",
    "\n",
    "## Initializing Arrays \n",
    "\n",
    "In order to start a list, we need to initialize a variable to store the list. In JavaScript, a list is called an array and we use square brackets to store it. \n",
    "\n",
    "For example:"
   ]
  },
  {
   "cell_type": "code",
   "execution_count": null,
   "metadata": {
    "vscode": {
     "languageId": "javascript"
    }
   },
   "outputs": [],
   "source": [
    "var numbers = [ ]; "
   ]
  },
  {
   "cell_type": "markdown",
   "metadata": {
    "vscode": {
     "languageId": "javascript"
    }
   },
   "source": [
    "sports is the name of the array and the list is completely empty as there are no values in the brackets. Here is an updated list with 5 numbers:"
   ]
  },
  {
   "cell_type": "code",
   "execution_count": null,
   "metadata": {
    "vscode": {
     "languageId": "javascript"
    }
   },
   "outputs": [],
   "source": [
    "var numbers = [10, 12, 13, 21, 49];"
   ]
  },
  {
   "cell_type": "markdown",
   "metadata": {},
   "source": [
    "Each value in the list is separated by a comma, but you can store more than numbers in a list. Here is an example with a list of strings."
   ]
  },
  {
   "cell_type": "code",
   "execution_count": null,
   "metadata": {
    "vscode": {
     "languageId": "javascript"
    }
   },
   "outputs": [],
   "source": [
    "var sports = [ \"soccer\", \"football\", \"basketball\", \"tennis\", \"wrestling\"];"
   ]
  },
  {
   "cell_type": "markdown",
   "metadata": {},
   "source": [
    "As you can see, each string is surrounded by quotation marks, and the comma is outside the quotations.\n",
    "\n",
    "## Accessing list values\n",
    "\n",
    "The computer assigns an index to each item in the list, so that it can keep track of where it stored taht item in its memory. In JavaScript, the first item in a list is at index 0, not index 1. So here are the indexes for the sports list above:\n",
    "\n",
    "    0              1               2                  3                4\n",
    "\"soccer\"      \"football\"      \"basketball\"        \"tennis\"        \"wrestling\"\n",
    "\n",
    "To reference an item in the array, use bracket notation:"
   ]
  },
  {
   "cell_type": "code",
   "execution_count": null,
   "metadata": {
    "vscode": {
     "languageId": "javascript"
    }
   },
   "outputs": [],
   "source": [
    "var firstSport = sports[0];\n",
    "var lastSport = sports[4];"
   ]
  },
  {
   "cell_type": "markdown",
   "metadata": {},
   "source": [
    "The variable firstSport stores \"soccer\" and the variable lastSport stores \"wrestling\"\n",
    "\n",
    "## Updating Lists\n",
    "\n",
    "We can update an item in a list if we know its index. In JavaScript, bracket notation is used to update a value. For example let's add a sport to the sports list from above."
   ]
  },
  {
   "cell_type": "code",
   "execution_count": null,
   "metadata": {
    "vscode": {
     "languageId": "javascript"
    }
   },
   "outputs": [],
   "source": [
    "sports=[1] = \"swimming\";\n",
    "sports=[2] = \"baseball\";"
   ]
  },
  {
   "cell_type": "markdown",
   "metadata": {},
   "source": [
    "The sports list will now store \"soccer\", \"swimming\", \"baseball\", \"football\", \"basketball\", \"tennis\", and \"wrestling\".\n",
    "\n",
    "## Appending List Items\n",
    "\n",
    "We can append an item to a list, which is adding a new item to the end of the list. In JavaScript, we can call the push() method on a list, and pass the new item as a parameter. For example, from the previous numbers list, we can add more:"
   ]
  },
  {
   "cell_type": "code",
   "execution_count": null,
   "metadata": {
    "vscode": {
     "languageId": "javascript"
    }
   },
   "outputs": [],
   "source": [
    "numbers.push (50);\n",
    "numbers.push (88);\n",
    "numbers.push (92);"
   ]
  },
  {
   "cell_type": "markdown",
   "metadata": {},
   "source": [
    "Now the list will look like this ...\n",
    "\n",
    "10, 12, 13, 21, 49, 50, 88, 92 \n",
    "\n",
    "With the number 10 being index 0 and the number 92 being index 7\n",
    "\n",
    "We can also add an item to the beginning of the list using the unshift() method. For example:\n"
   ]
  },
  {
   "cell_type": "code",
   "execution_count": null,
   "metadata": {
    "vscode": {
     "languageId": "javascript"
    }
   },
   "outputs": [],
   "source": [
    "numbers.unshift (8)\n",
    "numbers.unshift (6)"
   ]
  },
  {
   "cell_type": "markdown",
   "metadata": {},
   "source": [
    "Now the list will look like this...\n",
    "\n",
    "6, 8, 12, 13, 21, 49, 50, 88, 92\n",
    "\n",
    "But what if we wanted to add an item in between two items? One way to do this in JavaScript is by using the splice() method."
   ]
  },
  {
   "cell_type": "code",
   "execution_count": null,
   "metadata": {
    "vscode": {
     "languageId": "javascript"
    }
   },
   "outputs": [],
   "source": [
    "numbers.splice(0, 0, 5)"
   ]
  },
  {
   "cell_type": "markdown",
   "metadata": {},
   "source": [
    "This method has 3 parameters: the index where the computer should insert the item, the number of items to remove, and the item to insert. In the above example, the index of the number is 0, the amount of items removed is 0, so the code will insert the number 5 in the first position and shifter all of the other items up by one index.\n",
    "\n",
    "## Removing an Item\n",
    "\n",
    "We now know how to add an item to the list wherever we want, now we need to know how to delete an item. In JavaScript, one way to remove items is again with the splice() method. If you remember, the second parameter to splice() specifies the number of items to remove, so by specifing a non-zero number and not providing a third parameter, we can remove an item."
   ]
  },
  {
   "cell_type": "code",
   "execution_count": null,
   "metadata": {
    "vscode": {
     "languageId": "javascript"
    }
   },
   "outputs": [],
   "source": [
    "numbers.splice(4,1);"
   ]
  },
  {
   "cell_type": "markdown",
   "metadata": {},
   "source": [
    "That line of code specifies an index of 4 and a number to remove of 1, so that the computer will remove one number at index 4, so in the numbers list, number 21 is in the index 4 position and will be removed.\n",
    "\n",
    "A method to remove just the first element would be the shift() method and just the last element would be the pop() method."
   ]
  },
  {
   "cell_type": "code",
   "execution_count": null,
   "metadata": {
    "vscode": {
     "languageId": "javascript"
    }
   },
   "outputs": [],
   "source": [
    "numbers.pop(); \n",
    "numbers.shift(); "
   ]
  },
  {
   "cell_type": "markdown",
   "metadata": {},
   "source": [
    "## Iteration over lists with loops\n",
    "\n",
    "Lists are used to store sequences of related data. We often want to perform the same operation on every element in a list, like displaying each element or manipulating them mathematically. In order to achieve this, we can use a loop to iterate each element.\n",
    "\n",
    "Iteration is needed because every time we want to add another element, we need to add another line of code to display that step. In JavaScript, you can do this by iterating the list with a loop.\n",
    "\n",
    "Here is an example using a for loop:"
   ]
  },
  {
   "cell_type": "code",
   "execution_count": null,
   "metadata": {
    "vscode": {
     "languageId": "javascript"
    }
   },
   "outputs": [],
   "source": [
    "for (var i = 0; i < steps.length; i++) {\n",
    "    println(steps[i]);\n",
    "  }"
   ]
  },
  {
   "cell_type": "markdown",
   "metadata": {},
   "source": [
    "\n",
    "That code will display every element of that list, no matter the number. Let's explain:\n",
    "var i = 0: This initializes the counter variable i to 0. In JavaScript, the first element in a list has an index of 0, so that is always the start value for a loop that iterates through an array from start to finish.\n",
    "i < steps.length: This condition checks to make sure that the counter variable i is less than the length of the steps array. Programming languages always provide a way to find out the length of the array, and in JavaScript, you can find out with the array.length property.\n",
    "i++ : This is executed after each iteration of the loop, and adds one to the counter variable. If we added two, we'd only process every other element. Adding one ensures we process every element once.\n",
    "println(steps[i]);: This code will display the current element for each iteration\n",
    "\n",
    "## Iteration with Computation\n",
    "\n",
    "Instead of just displaying the elements in the list, we can also compute new values based on all of the values in the list. For example, this code computes the total cost based on the list of individual prices"
   ]
  },
  {
   "cell_type": "code",
   "execution_count": null,
   "metadata": {
    "vscode": {
     "languageId": "javascript"
    }
   },
   "outputs": [],
   "source": [
    "var totalCost = 0;\n",
    "var prices = [1.20, 4.40, 6.31, 9.30];\n",
    "for (var i = 0; i < prices.length; i++) {\n",
    "   totalCost += prices[i];\n",
    "}"
   ]
  },
  {
   "cell_type": "markdown",
   "metadata": {},
   "source": [
    "We can make it more complicated by using conditionals inside the loop to compute values based on whether or not they meet a requirement. This code computes the number of names with more than 4 letters."
   ]
  },
  {
   "cell_type": "code",
   "execution_count": null,
   "metadata": {
    "vscode": {
     "languageId": "javascript"
    }
   },
   "outputs": [],
   "source": [
    "var longNamesCount = 0;\n",
    "var names = ['Noah', 'James', 'Zafeer', 'Luke', 'John', 'Travis', 'Alex'];\n",
    "for (var i = 0; i < names.length; i++) {\n",
    "   if (names[i].length > 4) {\n",
    "      longNamesCount++;\n",
    "   }\n",
    "}"
   ]
  },
  {
   "cell_type": "markdown",
   "metadata": {},
   "source": [
    "## Key Points:\n",
    "\n",
    "Variables and Lists:\n",
    "- Variables allow us to store and name data, which can be single pieces of information or collections like lists (arrays)\n",
    "- In JavaScript, lists are called arrays and are initialized using square brackets\n",
    "\n",
    "Accessing and Modifying Lists:\n",
    "- Each item in an array has an index, starting at 0\n",
    "- We can update specific items in a list using bracket notation\n",
    "\n",
    "Iteration:\n",
    "- Loops enable us to repeatedly perform the same operation on every element in a list, which is vital for scalability\n",
    "- A for loop enables us to perform the same operation on every element in a list\n",
    "- A for loop can also be used to display all items in a list, iterating through each index without needing to write separate lines for each item\n",
    "\n",
    "List Operations:\n",
    "- We can append (add) items to the end of a list using hte push() metiod\n",
    "- The splice() method allows us to insert items at a specific index in the list, and shift exsisting items as needed\n",
    "- The splice() method also allows us to remove items, by specifying the index and number of items to remove\n",
    "\n",
    "Advanced Iteration:\n",
    "- Loops can be used to compute totals or compile a separate list based on conditions"
   ]
  }
 ],
 "metadata": {
  "kernelspec": {
   "display_name": "Python 3",
   "language": "python",
   "name": "python3"
  },
  "language_info": {
   "name": "python",
   "version": "3.12.6"
  }
 },
 "nbformat": 4,
 "nbformat_minor": 2
}
