{
 "cells": [
  {
   "cell_type": "raw",
   "metadata": {
    "vscode": {
     "languageId": "raw"
    }
   },
   "source": [
    "---\n",
    "layout: post\n",
    "title: 3.6 Hacks 1  \n",
    "description: Lesson on Conditionals (Python Hacks)\n",
    "categories: [Python]\n",
    "permalink: /csp/big-idea/p4/3-6-3\n",
    "type: ccc\n",
    "author: Risha Guha, Vibha Mandayam, Ava Shalon\n",
    "menu: nav/csp_units/csp_unit3_p4_fundamentals.html\n",
    "---"
   ]
  },
  {
   "cell_type": "markdown",
   "metadata": {},
   "source": [
    "## Hack 1: Odd or Even Checker\n",
    "\n",
    "**Description:** This hack checks if a given number is odd or even.\n",
    "\n",
    "1. Define a function named `check_odd_even` that takes one parameter: `number`.\n",
    "2. Use an `if` statement to check if the number is divisible by 2.\n",
    "3. Return `\"Even\"` if true; otherwise, return `\"Odd\"`.\n",
    "\n",
    "\n",
    "Call the function with different numbers\n",
    "```python\n",
    "print(check_odd_even(4))   # Output: Even \n",
    "print(check_odd_even(7))   # Output: Odd\n",
    "\n"
   ]
  },
  {
   "cell_type": "markdown",
   "metadata": {},
   "source": [
    "## Hack 2: Leap Year Checker\n",
    "\n",
    "**Description:** This hack determines if a given year is a leap year.\n",
    "\n",
    "1. Define a function named `is_leap_year` that takes one parameter: `year`.\n",
    "2. Use an `if` statement to check if the year is divisible by 4 but not by 100, or divisible by 400.\n",
    "3. Return `\"Leap Year\"` if true; otherwise, return `\"Not a Leap Year\"`.\n",
    "\n",
    "Call the function with different years \n",
    "```python\n",
    "print(is_leap_year(2020))  # Output: Leap Year\n",
    "print(is_leap_year(1900))  # Output: Not a Leap Year\n",
    "\n"
   ]
  },
  {
   "cell_type": "markdown",
   "metadata": {},
   "source": [
    "## Hack 3: Temperature Range Checker\n",
    "\n",
    "**Description:** This hack checks if a given temperature is considered cold, warm, or hot.\n",
    "\n",
    "1. Define a function named `temperature_range` that takes one parameter: `temperature`.\n",
    "2. Use `if...elif...else` statements to categorize the temperature:\n",
    "   - Return `\"Cold\"` for temperatures below 60°F.\n",
    "   - Return `\"Warm\"` for temperatures between 60°F and 80°F.\n",
    "   - Return `\"Hot\"` for temperatures above 85°F.\n",
    "\n",
    "Call the function with different temperature values \n",
    "```python\n",
    "print(temperature_range(10))   # Output: Cold\n",
    "print(temperature_range(70))   # Output: Warm\n",
    "print(temperature_range(90))   # Output: Hot\n",
    "\n"
   ]
  }
 ],
 "metadata": {
  "language_info": {
   "name": "python"
  }
 },
 "nbformat": 4,
 "nbformat_minor": 2
}
