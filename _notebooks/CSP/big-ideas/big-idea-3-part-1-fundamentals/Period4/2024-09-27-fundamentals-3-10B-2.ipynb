{
 "cells": [
  {
   "cell_type": "raw",
   "metadata": {
    "vscode": {
     "languageId": "raw"
    }
   },
   "source": [
    "---\n",
    "toc: false\n",
    "comments: true\n",
    "layout: post\n",
    "title: 3.10 Python Lists\n",
    "description: This is student-led teaching on lists\n",
    "categories: [CSP Big Ideas]\n",
    "author: Noah, James, Zafeer (Period 4)\n",
    "menu: nav/csp_units/csp_unit3_p5_fundamentals.html\n",
    "permalink: /csp/big-idea/p4/3-10B-2\n",
    "---"
   ]
  },
  {
   "cell_type": "markdown",
   "metadata": {
    "vscode": {
     "languageId": "raw"
    }
   },
   "source": [
    "## Lists\n",
    "A Python list is a list is a collection of items that can be of any data type (integers, strings, etc.).\n",
    "Lists are ordered, changeable, and allow duplicate elements. They are used to store multiple items in a single variable.\n",
    "Lists are one of 4 built-in data types in Python used to store collections of data. \n",
    "\n",
    "For example:"
   ]
  },
  {
   "cell_type": "code",
   "execution_count": 1,
   "metadata": {},
   "outputs": [
    {
     "name": "stdout",
     "output_type": "stream",
     "text": [
      "['apple', 'banana', 'cherry']\n"
     ]
    }
   ],
   "source": [
    "fruits = [\"apple\", \"banana\", \"cherry\"]\n",
    "print(fruits)  \n",
    "\n",
    "# The Output would be: ['apple', 'banana', 'cherry']"
   ]
  },
  {
   "cell_type": "markdown",
   "metadata": {},
   "source": [
    "# What will we learn in this lesson\n",
    "\n",
    "In this lesson, we will learn what a list is, how to manipulate it, and how to make the most of lists when coding in Python. \n",
    "\n",
    "# Why use a list?\n",
    "To store multiple values in one place instead of using many variables.\n",
    "To keep data organized in a specific order, so you can access items by their position.\n",
    "To easily modify the data, by adding, removing, or changing items.\n",
    "To store different types of data (like numbers, strings, or even other lists).\n",
    "To work with data that can grow or shrink in size as needed.\n",
    "To perform operations like sorting, reversing, or slicing quickly with built-in methods.\n",
    "To loop through items easily, making it simple to perform actions on each item.\n",
    "To create complex structures by nesting lists inside other lists.\n",
    "To efficiently manage data, making it quick to retrieve or update values.\n",
    "To reduce the number of variables, making the code simpler and easier to manage.\n",
    "\n",
    "\n",
    "\n",
    "\n"
   ]
  },
  {
   "cell_type": "markdown",
   "metadata": {},
   "source": [
    "# How to create a list\n",
    "You can create a list by placing all the items (elements) inside square brackets [], separated by commas. To show the list, you can use a print() function. "
   ]
  },
  {
   "cell_type": "code",
   "execution_count": 6,
   "metadata": {},
   "outputs": [
    {
     "name": "stdout",
     "output_type": "stream",
     "text": [
      "[1, 'apple', 3.14, True]\n"
     ]
    }
   ],
   "source": [
    "my_list = [1, \"apple\", 3.14, True]\n",
    "print(my_list)  "
   ]
  },
  {
   "cell_type": "markdown",
   "metadata": {},
   "source": [
    "As you can see in the example above, you can put multiple types of data (numbres, words, boolean, etc.)"
   ]
  },
  {
   "cell_type": "markdown",
   "metadata": {
    "vscode": {
     "languageId": "raw"
    }
   },
   "source": [
    "# Indexing a list\n",
    "\n",
    "Indexing in Python allows you to access elements in a list by their position. If you wanted to go backwards, indexing works slightly differently. For example, in a list of numbers such as [1, 2, 3, 4], if you wanted to access the number 4, you would reference it using a negative index. In this case, you would use -1 enclosed in brackets, like this: my_list[-1]."
   ]
  },
  {
   "cell_type": "code",
   "execution_count": 4,
   "metadata": {},
   "outputs": [
    {
     "name": "stdout",
     "output_type": "stream",
     "text": [
      "Last element: 4\n",
      "Second-to-last element: 3\n"
     ]
    }
   ],
   "source": [
    "# Example list\n",
    "numbers = [1, 2, 3, 4]\n",
    "\n",
    "# Access and assign the last element\n",
    "last_element = numbers[-1]\n",
    "\n",
    "# Access the second-to-last element\n",
    "second_last_element = numbers[-2]\n",
    "\n",
    "# Print the results\n",
    "print(\"Last element:\", last_element)\n",
    "print(\"Second-to-last element:\", second_last_element)\n"
   ]
  },
  {
   "cell_type": "markdown",
   "metadata": {},
   "source": [
    "# Adding Elements to a List\n",
    "You can add new elements to a list using the append(), insert(), or extend() methods.\n",
    "\n",
    "append(): Adds an item to the end of the list.\n",
    "insert(): Adds an item at a specific position.\n",
    "extend(): Adds all elements from another list."
   ]
  },
  {
   "cell_type": "code",
   "execution_count": 5,
   "metadata": {},
   "outputs": [
    {
     "name": "stdout",
     "output_type": "stream",
     "text": [
      "['apple', 'banana', 'cherry']\n",
      "['apple', 'blueberry', 'banana', 'cherry']\n",
      "['apple', 'blueberry', 'banana', 'cherry', 'grape', 'mango']\n"
     ]
    }
   ],
   "source": [
    "fruits = [\"apple\", \"banana\"]\n",
    "\n",
    "# Add an item at the end\n",
    "fruits.append(\"cherry\")\n",
    "print(fruits)  # Output: [\"apple\", \"banana\", \"cherry\"]\n",
    "\n",
    "# Add an item at index 1\n",
    "fruits.insert(1, \"blueberry\")\n",
    "print(fruits)  # Output: [\"apple\", \"blueberry\", \"banana\", \"cherry\"]\n",
    "\n",
    "# Extend the list with another list\n",
    "fruits.extend([\"grape\", \"mango\"])\n",
    "print(fruits)  # Output: [\"apple\", \"blueberry\", \"banana\", \"cherry\", \"grape\", \"mango\"]\n"
   ]
  },
  {
   "cell_type": "markdown",
   "metadata": {},
   "source": [
    "# How to determine the length of a list\n",
    "If you are working with a long list, you can determine the amount of variables in the list. \n",
    "\n",
    "For example:"
   ]
  },
  {
   "cell_type": "code",
   "execution_count": 8,
   "metadata": {},
   "outputs": [
    {
     "name": "stdout",
     "output_type": "stream",
     "text": [
      "3\n"
     ]
    }
   ],
   "source": [
    "thislist = [\"apple\", \"banana\", \"cherry\"]\n",
    "print(len(thislist))"
   ]
  },
  {
   "cell_type": "markdown",
   "metadata": {},
   "source": [
    "# Modifying a list\n",
    "Lists are mutable, meaning you can change an item after the list is created."
   ]
  },
  {
   "cell_type": "code",
   "execution_count": 10,
   "metadata": {},
   "outputs": [
    {
     "name": "stdout",
     "output_type": "stream",
     "text": [
      "['apple', 'blueberry', 'cherry']\n"
     ]
    }
   ],
   "source": [
    "fruits = [\"apple\", \"banana\", \"cherry\"]\n",
    "\n",
    "# Modify the second element\n",
    "fruits[1] = \"blueberry\"\n",
    "print(fruits)  # Output: [\"apple\", \"blueberry\", \"cherry\"]"
   ]
  },
  {
   "cell_type": "markdown",
   "metadata": {},
   "source": [
    "# How to remove a element from a list\n",
    "You can remove elements using the remove(), pop(), or del.\n",
    "\n",
    "remove(): Removes the first occurance of the element.\n",
    "pop(): Removes an element at a specific index (position)\n",
    "del: Deletes an item by its index (position) or can delete the entire list. "
   ]
  },
  {
   "cell_type": "code",
   "execution_count": 11,
   "metadata": {},
   "outputs": [
    {
     "name": "stdout",
     "output_type": "stream",
     "text": [
      "['apple', 'cherry']\n",
      "['apple']\n",
      "['apple', 'cherry']\n"
     ]
    }
   ],
   "source": [
    "fruits = [\"apple\", \"banana\", \"cherry\"]\n",
    "\n",
    "# Remove an item by value\n",
    "fruits.remove(\"banana\")\n",
    "print(fruits)  # Output: [\"apple\", \"cherry\"]\n",
    "\n",
    "# Remove the last item\n",
    "fruits.pop()\n",
    "print(fruits)  # Output: [\"apple\"]\n",
    "\n",
    "# Remove item by index\n",
    "fruits = [\"apple\", \"banana\", \"cherry\"]\n",
    "del fruits[1]\n",
    "print(fruits)  # Output: [\"apple\", \"cherry\"]\n"
   ]
  },
  {
   "cell_type": "markdown",
   "metadata": {},
   "source": [
    "# How to sort through a list"
   ]
  },
  {
   "cell_type": "code",
   "execution_count": 12,
   "metadata": {},
   "outputs": [
    {
     "name": "stdout",
     "output_type": "stream",
     "text": [
      "[1, 2, 3, 5, 8]\n",
      "[8, 5, 3, 2, 1]\n"
     ]
    }
   ],
   "source": [
    "numbers = [5, 3, 8, 1, 2]\n",
    "numbers.sort()\n",
    "print(numbers)  # Output: [1, 2, 3, 5, 8]\n",
    "\n",
    "# Sorting in reverse order\n",
    "numbers.sort(reverse=True)\n",
    "print(numbers)  # Output: [8, 5, 3, 2, 1]\n"
   ]
  },
  {
   "cell_type": "markdown",
   "metadata": {},
   "source": [
    "# Slicing a List\n",
    "You can access multiple elements of a list by slicing. The syntax is list[start:end], where start is inclusive and end is exclusive. So basically, START is the first item you want (included) and END is the position you stop at (but it's not included).\n",
    "\n",
    "For example:"
   ]
  },
  {
   "cell_type": "code",
   "execution_count": 13,
   "metadata": {},
   "outputs": [
    {
     "name": "stdout",
     "output_type": "stream",
     "text": [
      "[20, 30, 40]\n",
      "[10, 20, 30]\n",
      "[30, 40, 50]\n"
     ]
    }
   ],
   "source": [
    "numbers = [10, 20, 30, 40, 50]\n",
    "\n",
    "# Slice the list\n",
    "print(numbers[1:4])  # Output: [20, 30, 40] (index 1 to 3)\n",
    "\n",
    "# Slice from the start\n",
    "print(numbers[:3])  # Output: [10, 20, 30]\n",
    "\n",
    "# Slice to the end\n",
    "print(numbers[2:])  # Output: [30, 40, 50]\n"
   ]
  },
  {
   "cell_type": "markdown",
   "metadata": {},
   "source": [
    "# List Comprehension\n",
    "A concise way to create lists using loops in a single line of code. It's very useful for creating modified lists."
   ]
  },
  {
   "cell_type": "code",
   "execution_count": 14,
   "metadata": {},
   "outputs": [
    {
     "name": "stdout",
     "output_type": "stream",
     "text": [
      "[0, 1, 4, 9, 16]\n"
     ]
    }
   ],
   "source": [
    "squares = [x**2 for x in range(5)]\n",
    "print(squares)  # Output: [0, 1, 4, 9, 16]"
   ]
  },
  {
   "cell_type": "markdown",
   "metadata": {},
   "source": [
    "# Conclusion\n",
    "In this lesson, we learned what lists are in Python. We learned how to manipulate a list, add to lists, indexing a list, slicing a list, remove elements from a list, sort through a list, how to determine the length of a list, and more. \n",
    "\n",
    "Now that we have completed this lesson, go onto the Hacks for Python Lists to get some practice (homework)."
   ]
  }
 ],
 "metadata": {
  "kernelspec": {
   "display_name": "Python 3",
   "language": "python",
   "name": "python3"
  },
  "language_info": {
   "codemirror_mode": {
    "name": "ipython",
    "version": 3
   },
   "file_extension": ".py",
   "mimetype": "text/x-python",
   "name": "python",
   "nbconvert_exporter": "python",
   "pygments_lexer": "ipython3",
   "version": "3.11.9"
  },
  "orig_nbformat": 4
 },
 "nbformat": 4,
 "nbformat_minor": 2
}
