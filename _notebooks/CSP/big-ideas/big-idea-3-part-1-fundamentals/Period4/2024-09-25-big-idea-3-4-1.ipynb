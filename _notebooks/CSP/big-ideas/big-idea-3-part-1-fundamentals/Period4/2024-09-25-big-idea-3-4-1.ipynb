{
 "cells": [
  {
   "cell_type": "raw",
   "metadata": {
    "vscode": {
     "languageId": "raw"
    }
   },
   "source": [
    "---\n",
    "layout: post\n",
    "title: Lesson 4.1 Strings\n",
    "categories: [Collaboration]\n",
    "permalink: /csp/big-idea/p4/3-4-1\n",
    "comments: true\n",
    "author: Joanna Hu\n",
    "menu: nav/csp_units/csp_unit3_p4_fundamentals.html\n",
    "---"
   ]
  },
  {
   "cell_type": "markdown",
   "metadata": {},
   "source": [
    "\n",
    "<h3>Strings in Python:</h3>\n",
    "<h5>printing</h5>\n",
    "\n",
    "- you can print the string directly or use variables to store it"
   ]
  },
  {
   "cell_type": "code",
   "execution_count": 19,
   "metadata": {},
   "outputs": [
    {
     "name": "stdout",
     "output_type": "stream",
     "text": [
      "panda\n",
      "rabbit\n",
      "otter\n"
     ]
    }
   ],
   "source": [
    "#printing directly, use single or double qutoes:\n",
    "print(\"panda\")\n",
    "\n",
    "\n",
    "#variable = \"string\"\n",
    "animal = \"rabbit\"\n",
    "#keep variable descriptive of what value it holds to make code easier to read\n",
    "#single or double quotes both work\n",
    "\n",
    "#variables with multiple words, use underscore not space\n",
    "favorite_animal = \"otter\"\n",
    "\n",
    "#don't use quotes when using variables\n",
    "print(animal)\n",
    "print(favorite_animal)"
   ]
  },
  {
   "cell_type": "markdown",
   "metadata": {},
   "source": [
    "<h5>Quotes:</h5>\n",
    "\n",
    "- if using single quotes and string has a single quote, python will read it as the end of a string\n",
    "- to combat this, use a backslash or double quotes\n",
    "- vice versa for double quotes\n"
   ]
  },
  {
   "cell_type": "code",
   "execution_count": 12,
   "metadata": {},
   "outputs": [
    {
     "name": "stdout",
     "output_type": "stream",
     "text": [
      "I'm feeling happy\n",
      "I'm feeling sad\n"
     ]
    }
   ],
   "source": [
    "# example:  mood1 = 'I'm feeling tired'\n",
    "#apostrophe in \"I'm\" interrupts string and will cause error\n",
    "\n",
    "#use backslash in front or double quotes\n",
    "mood2 = 'I\\'m feeling happy'\n",
    "mood3 = \"I'm feeling sad\"\n",
    "\n",
    "print(mood2)\n",
    "print(mood3)"
   ]
  },
  {
   "cell_type": "markdown",
   "metadata": {},
   "source": [
    "<h5>strings with multiple lines</h5>\n",
    "\n",
    "- instead of printing 3 separate strings, use 3 quotes \n",
    "    - both single and double work "
   ]
  },
  {
   "cell_type": "code",
   "execution_count": 26,
   "metadata": {},
   "outputs": [
    {
     "name": "stdout",
     "output_type": "stream",
     "text": [
      "my favorite animal\n",
      "hiberates during the winter\n",
      "in a cave\n"
     ]
    }
   ],
   "source": [
    "riddle = \"\"\"my favorite animal\n",
    "hiberates during the winter\n",
    "in a cave\"\"\"\n",
    "\n",
    "print(riddle)"
   ]
  },
  {
   "cell_type": "markdown",
   "metadata": {},
   "source": [
    "<h4>len function</h4>\n",
    "\n",
    " - stands for length\n",
    " - returns length of a string\n"
   ]
  },
  {
   "cell_type": "code",
   "execution_count": 28,
   "metadata": {},
   "outputs": [
    {
     "name": "stdout",
     "output_type": "stream",
     "text": [
      "11\n"
     ]
    }
   ],
   "source": [
    "print(len (\"hummingbird\"))"
   ]
  },
  {
   "cell_type": "markdown",
   "metadata": {},
   "source": [
    "<h4>Printing specific parts of a string</h4>\n",
    "\n",
    "- for a specific character: use []\n",
    "- for a range: use [ : ]\n",
    "    - starts counting at 0\n",
    "    - first value is inclusive, second is not\n",
    "- slicing:\n",
    "    - leaving first value empty: will start at 0\n",
    "    - leaving second value empty: will end with last character"
   ]
  },
  {
   "cell_type": "code",
   "execution_count": 38,
   "metadata": {},
   "outputs": [
    {
     "name": "stdout",
     "output_type": "stream",
     "text": [
      "t\n",
      "stripes\n",
      "the stripes on a tiger \n",
      "similar to human fingerprints\n"
     ]
    }
   ],
   "source": [
    "tiger_fact = \"the stripes on a tiger are unique, similar to human fingerprints\"\n",
    "\n",
    "#specific character: \n",
    "print(tiger_fact[5])\n",
    "\n",
    "#range:\n",
    "print(tiger_fact[4:11])\n",
    "\n",
    "#slicing:\n",
    "print(tiger_fact[:23])\n",
    "print(tiger_fact[35:])"
   ]
  },
  {
   "cell_type": "markdown",
   "metadata": {},
   "source": [
    "<h3>Palindromes</h3>\n",
    "A palindrome is a string that reads the same from right to left as left to right.\n",
    "<li>Ex: 2112, mom, taco cat</li>"
   ]
  },
  {
   "cell_type": "code",
   "execution_count": 17,
   "metadata": {},
   "outputs": [
    {
     "name": "stdout",
     "output_type": "stream",
     "text": [
      "True\n",
      "False\n"
     ]
    }
   ],
   "source": [
    "def palindrome(input_str):\n",
    "    # Remove spaces and convert the string to lowercase\n",
    "    clean_str = input_str.replace(\" \", \"\").lower()\n",
    "    # Check if the cleaned string is equal to its reverse\n",
    "    return clean_str == clean_str[::-1]\n",
    "\n",
    "\n",
    "print(palindrome(\"go hang a salami im a lasagna hog\")) # True\n",
    "print(palindrome(\"hi\")) # False\n"
   ]
  },
  {
   "cell_type": "markdown",
   "metadata": {},
   "source": [
    "<h3>Popcorn hack 1 (10%)</h3>\n",
    "\n",
    "- use a variable to print your favorite animal \n",
    "- print 3 fun facts about your favorite animal, making each a separate line using one variable\n",
    "- print one of the three facts using the same variable that holds all 3 facts\n",
    "- make a palindrome that is true\n",
    "<br>"
   ]
  }
 ],
 "metadata": {
  "kernelspec": {
   "display_name": "venv",
   "language": "python",
   "name": "python3"
  },
  "language_info": {
   "codemirror_mode": {
    "name": "ipython",
    "version": 3
   },
   "file_extension": ".py",
   "mimetype": "text/x-python",
   "name": "python",
   "nbconvert_exporter": "python",
   "pygments_lexer": "ipython3",
   "version": "3.10.12"
  }
 },
 "nbformat": 4,
 "nbformat_minor": 2
}
