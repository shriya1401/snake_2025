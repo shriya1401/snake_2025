{
 "cells": [
  {
   "cell_type": "markdown",
   "metadata": {},
   "source": [
    "---\n",
    "layout: post\n",
    "title: Lesson 3.4 Strings Hack\n",
    "categories: [Collaboration]\n",
    "permalink: /csp/big-idea/p4/3-4-4\n",
    "comments: true\n",
    "author: Joanna Hu\n",
    "menu: nav/csp_units/csp_unit3_p4_fundamentals.html\n",
    "---"
   ]
  },
  {
   "cell_type": "markdown",
   "metadata": {},
   "source": [
    "## Hack #4 (50%)\n",
    "Using sections above...\n",
    "1. Make a text analyzer with strings\n",
    "    - Accepts input from user of multiple words\n",
    "    - Counts total letters and spaces of input\n",
    "    - Counts number of vowels\n",
    "    - Calculates average word length\n",
    "    - Find middle word/ character (excludes spaces or special characters)\n",
    "    - Correctly displays everything!\n",
    "    <br>\n",
    "2. Other criteria:\n",
    "    - make sure program can process upper/lowercase letters, numbers, and symbols\n",
    "    - Customize and add your own unique function\n",
    "    - Try to use both python and js! \n"
   ]
  }
 ],
 "metadata": {
  "language_info": {
   "name": "python"
  }
 },
 "nbformat": 4,
 "nbformat_minor": 2
}
