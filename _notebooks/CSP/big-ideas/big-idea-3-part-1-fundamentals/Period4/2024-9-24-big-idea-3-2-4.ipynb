{
 "cells": [
  {
   "cell_type": "raw",
   "metadata": {
    "vscode": {
     "languageId": "raw"
    }
   },
   "source": [
    "---\n",
    "toc: false\n",
    "comments: true\n",
    "layout: post\n",
    "title: 3.2 Lists\n",
    "description: Student led teaching on Iteration. Learn how to do loops with Java and Python.\n",
    "permalink: /csp/big-idea/p4/3-2-4\n",
    "categories: [CSP Big Ideas]\n",
    "author: Ian, Collin, Aarush, Thomas\n",
    "menu: nav/csp_units/csp_unit3_p4_fundamentals.html\n",
    "---"
   ]
  },
  {
   "cell_type": "markdown",
   "metadata": {},
   "source": [
    "# Lists:\n",
    "\n",
    "Lists are similar to its name, it's a variable that equals a list of objects inside of it. For example, if I want to make a list of ingredients, I can make ingredients equal something inside these \"[]\". Inside these brackets, you can put different objects inside of it and print out the list to be able to get everything inside that list.\n",
    "\n",
    "# Example:\n",
    "list1 = [\"Eggs\", \"Bacon\", \"rice\"]\n",
    "print(list1)\n",
    "\n",
    "# Lists with Indexs:\n",
    "\n",
    "If you want to print out specific parts inside that list, we can do that by printing out the index. From the index, it goes from index (0) -> index (1) -> index (2) -> etc.\n",
    "\n",
    "For example, if I wanted to print out the words \"eggs\" only from a list, I would mention its index inside the list AND the list, and print it out:\n",
    "\n",
    "# Example:\n",
    "list1 = [\"Eggs\", \"Bacon\", \"rice\"]\n",
    "print(list1[0])\n",
    "\n",
    "# Getting Multiple Indexs In A List:\n",
    "But what if I want to print out 2 things inside the list, and I don't want to write out 2 print statements because i'm lazy? From the indexes, you can use a \":\" to scale it from the starting point, to how many objects it should contain. For example,\n",
    "\n",
    "text[0:1] will only print out \"EGG\" because it gets index \"0\" and gets only ONE object\n",
    "\n",
    "text[0:2] will print out \"EGG\", \"BACON\" because it gets index \"0\" and gets TWO objects\n",
    "\n",
    "# Example:\n",
    "list1 = [\"Eggs\", \"Bacon\", \"rice\"]\n",
    "print(list1[0:2])\n"
   ]
  },
  {
   "cell_type": "code",
   "execution_count": null,
   "metadata": {},
   "outputs": [],
   "source": [
    "#MAIN LIST:\n",
    "list1 = [\"Eggs\", \"Bacon\", \"rice\"]\n",
    "\n",
    "#This prints out the ENTIRE list\n",
    "print(list1)\n",
    "\n",
    "#This prints out only one part of the list\n",
    "#in this case, the list goes from 0 -> 1 -> 2 -> etc, so it'll print out \"Bacon\"\n",
    "print(list1[1]) \n",
    "\n",
    "#This prints out 2 parts of the list\n",
    "#in this case, the list goes from 0 -> 1 -> 2 -> etc, so it'll print out \"eggs\", \"bacon\"\n",
    "print(list1[0:2]) \n"
   ]
  },
  {
   "cell_type": "markdown",
   "metadata": {},
   "source": [
    "# Javascript version:\n",
    "\n",
    "Javascript version is similar to the python version, but instead of print, it's just \"console.log\""
   ]
  },
  {
   "cell_type": "code",
   "execution_count": null,
   "metadata": {
    "vscode": {
     "languageId": "javascript"
    }
   },
   "outputs": [],
   "source": [
    "%%js\n",
    "\n",
    "//List\n",
    "list1 = [\"Eggs\", \"Bacon\", \"rice\"]\n",
    "\n",
    "//Output the list\n",
    "console.log(list1)\n",
    "\n",
    "//output \"bacon\" in list\n",
    "console.log(list1[1]) \n",
    "\n",
    "//output \"eggs\" and \"bacons\" in the list\n",
    "console.log(list1[0], list1[1]) "
   ]
  },
  {
   "cell_type": "markdown",
   "metadata": {},
   "source": [
    "# Lists Hack:\n",
    "-Make a list named \"Pancake\", inside the list make it have \"milk\", \"eggs\", \"flour\", \"blueberries\", \"done\".\n",
    "\n",
    "-print out the list.\n",
    "\n",
    "-print out ONLY the blueberries inside the list.\n",
    "\n",
    "-print out \"milk\", \"eggs\", \"flour\" all in one print statement from the list."
   ]
  }
 ],
 "metadata": {
  "kernelspec": {
   "display_name": "venv",
   "language": "python",
   "name": "python3"
  },
  "language_info": {
   "name": "python",
   "version": "3.12.5"
  }
 },
 "nbformat": 4,
 "nbformat_minor": 2
}
