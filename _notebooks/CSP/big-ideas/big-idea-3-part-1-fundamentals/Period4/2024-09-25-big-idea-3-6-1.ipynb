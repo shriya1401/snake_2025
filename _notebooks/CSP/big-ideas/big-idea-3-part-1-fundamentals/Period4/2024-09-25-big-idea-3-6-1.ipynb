{
 "cells": [
  {
   "cell_type": "raw",
   "metadata": {
    "vscode": {
     "languageId": "raw"
    }
   },
   "source": [
    "---\n",
    "layout: post\n",
    "title: 3.6 Conditionals Part 1\n",
    "description: Lesson on Conditionals (Python Information)\n",
    "categories: [Python]\n",
    "permalink: /csp/big-idea/p4/3-6-1\n",
    "type: ccc\n",
    "author: Risha Guha, Vibha Mandayam, Ava Shalon\n",
    "menu: nav/csp_units/csp_unit3_p4_fundamentals.html\n",
    "---"
   ]
  },
  {
   "cell_type": "markdown",
   "metadata": {},
   "source": [
    "\n",
    "## Conditionals Overview\n",
    "\n",
    "Conditionals help control the flow of a program by deciding which code to execute based on a true or false condition.\n",
    "\n",
    "### 1. Basic IF Statement:\n",
    "```plaintext\n",
    "IF (condition) { }\n",
    "```\n",
    "- The code inside the brackets runs only if the condition is true. If the condition is false, nothing happens.\n",
    "\n",
    "### 2. IF-ELSE Statement:\n",
    "```plaintext\n",
    "IF (condition) { } ELSE { }\n",
    "```\n",
    "- The code in the first set of brackets runs if the condition is true. If the condition is false, the code in the second set of brackets runs instead.\n",
    "\n"
   ]
  },
  {
   "cell_type": "markdown",
   "metadata": {},
   "source": [
    "## Basic Example\n",
    "1. Add a variable that represents temperature.\n",
    "2. Use an ‘if’ statement to print “It’s a hot day” if the temperature is greater than or equal to 30 degrees.\n",
    "3. Use an ‘else’ statement to print “It’s a cold day” otherwise.\n"
   ]
  },
  {
   "cell_type": "code",
   "execution_count": 3,
   "metadata": {},
   "outputs": [
    {
     "name": "stdout",
     "output_type": "stream",
     "text": [
      "It's a cold day\n"
     ]
    }
   ],
   "source": [
    "# Step 1: Add a variable that represents temperature\n",
    "temperature = 50  # You can change this value to test different conditions\n",
    "\n",
    "# Step 2: Check if it’s a hot day\n",
    "if temperature >= 80:\n",
    "    print(\"It's a hot day\")\n",
    "# Step 3: Otherwise, print it's a cold day\n",
    "else:\n",
    "    print(\"It's a cold day\")\n"
   ]
  },
  {
   "cell_type": "markdown",
   "metadata": {},
   "source": [
    "## Popcorn Hack #1\n",
    "What would happen if you added more temperature ranges (like 'warm' for temperatures between 60 and 79 degrees)? How would you modify the code to implement this feature?\""
   ]
  },
  {
   "cell_type": "markdown",
   "metadata": {},
   "source": [
    "# Example with Booleans\n",
    "1. Add a variable called is_logged_in and set it to False.\n",
    "2. Use an if statement to print “Welcome back!” if is_logged_in is True.\n",
    "3. Use an else statement to print “Please log in.” if it is False."
   ]
  },
  {
   "cell_type": "code",
   "execution_count": 2,
   "metadata": {},
   "outputs": [
    {
     "name": "stdout",
     "output_type": "stream",
     "text": [
      "Please log in.\n"
     ]
    }
   ],
   "source": [
    "# Step 1: Create a variable called is_logged_in\n",
    "is_logged_in = False  # You can change this to True to test the other condition\n",
    "\n",
    "# Step 2: Check if the user is logged in\n",
    "if is_logged_in:\n",
    "    print(\"Welcome back!\")\n",
    "# Step 3: Otherwise, prompt the user to log in\n",
    "else:\n",
    "    print(\"Please log in.\")\n"
   ]
  },
  {
   "cell_type": "markdown",
   "metadata": {},
   "source": [
    "## Popcorn Hack #2\n",
    "How would you modify the code to include a message for a successful login attempt? What additional condition would you need to implement this?"
   ]
  },
  {
   "cell_type": "markdown",
   "metadata": {},
   "source": [
    "### Example using Random\n",
    "1. Make a function to randomize ages between 1 and 100 using random.randint.\n",
    "2. Assign the randomized ages to variables age1 and age2.\n",
    "3. Print the values of the ages.\n",
    "4. Print the relationship between the ages: age1 is older than, the same age as, or younger than age2.\n"
   ]
  },
  {
   "cell_type": "code",
   "execution_count": 4,
   "metadata": {},
   "outputs": [
    {
     "name": "stdout",
     "output_type": "stream",
     "text": [
      "Person 1's age: 29\n",
      "Person 2's age: 82\n",
      "Person 1 is younger than Person 2.\n"
     ]
    }
   ],
   "source": [
    "import random\n",
    "\n",
    "def randomize_ages():\n",
    "    # Step 1: Randomize ages between 1 and 100\n",
    "    age1 = random.randint(1, 100)\n",
    "    age2 = random.randint(1, 100)\n",
    "    \n",
    "    # Step 2: Print the values of the ages\n",
    "    print(f\"Person 1's age: {age1}\")\n",
    "    print(f\"Person 2's age: {age2}\")\n",
    "    \n",
    "    # Step 3: Print the relationship of the ages\n",
    "    if age1 > age2:\n",
    "        print(\"Person 1 is older than Person 2.\")\n",
    "    elif age1 < age2:\n",
    "        print(\"Person 1 is younger than Person 2.\")\n",
    "    else:\n",
    "        print(\"Person 1 is the same age as Person 2.\")\n",
    "\n",
    "# Call the function\n",
    "randomize_ages()\n"
   ]
  },
  {
   "cell_type": "markdown",
   "metadata": {},
   "source": [
    "## Popcorn Hack #3\n",
    "How could you modify the function to include a check for whether either person is considered a minor (under 18)? "
   ]
  },
  {
   "cell_type": "markdown",
   "metadata": {},
   "source": [
    "## Quiz Time!"
   ]
  },
  {
   "cell_type": "code",
   "execution_count": 6,
   "metadata": {},
   "outputs": [
    {
     "name": "stdout",
     "output_type": "stream",
     "text": [
      "Hello, vibha! You are running /home/vibha/nighthawk/sprint_2/venv/bin/python\n",
      "Incorrect. The correct answers are 'true' or 'false'.\n",
      "Incorrect. Boolean expressions are essential for making decisions in code.\n",
      "Correct!\n",
      "Correct!\n",
      "Correct!\n",
      "vibha, you scored 3/5\n"
     ]
    }
   ],
   "source": [
    "# Import necessary modules\n",
    "import getpass\n",
    "import sys\n",
    "\n",
    "# Function to ask a question and get a response\n",
    "def question_with_response(prompt):\n",
    "    answer = input(prompt)\n",
    "    return answer\n",
    "\n",
    "# Define the number of questions and initialize the correct answers counter\n",
    "questions = 5\n",
    "correct = 0\n",
    "\n",
    "# Personalized greeting message\n",
    "user_name = question_with_response(\"Enter your name: \")\n",
    "print('Hello, ' + user_name + \"! You are running \" + sys.executable)\n",
    "ready = question_with_response(\"Are you ready to take a quiz on Python conditionals? (yes/no): \")\n",
    "\n",
    "# Question 1: Boolean Basics\n",
    "response1 = question_with_response(\"What are the one of the two possible values of a Boolean? (true/false): \")\n",
    "if response1.lower() in ['true', 'false']:\n",
    "    correct += 1\n",
    "    print(\"Correct!\")\n",
    "else:\n",
    "    print(\"Incorrect. The correct answers are 'true' or 'false'.\")\n",
    "\n",
    "# Question 2: Boolean Expressions\n",
    "response2 = question_with_response(\"Why are Boolean expressions important in programming? \")\n",
    "if \"true\" in response2.lower() or \"false\" in response2.lower():\n",
    "    correct += 1\n",
    "    print(\"Correct!\")\n",
    "else:\n",
    "    print(\"Incorrect. Boolean expressions are essential for making decisions in code.\")\n",
    "\n",
    "# Question 3: Conditional Statements\n",
    "response3 = question_with_response(\"What is the purpose of conditional statements in programming? \")\n",
    "if \"make decisions\" in response3.lower() or \"control flow\" in response3.lower():\n",
    "    correct += 1\n",
    "    print(\"Correct!\")\n",
    "else:\n",
    "    print(\"Incorrect. They are used to control the flow of the program.\")\n",
    "\n",
    "# Question 4: Relational Operators\n",
    "response4 = question_with_response(\"Name a common relational operator in programming. \")\n",
    "if response4 in ['>', '<', '>=', '<=', '==', '!=']:\n",
    "    correct += 1\n",
    "    print(\"Correct!\")\n",
    "else:\n",
    "    print(\"Incorrect. Examples include '>', '<', '=='.\")\n",
    "\n",
    "# Question 5: Logical Operators\n",
    "response5 = question_with_response(\"What are the two common logical operators? \")\n",
    "if response5 in ['and', 'or', 'not']:\n",
    "    correct += 1\n",
    "    print(\"Correct!\")\n",
    "else:\n",
    "    print(\"Incorrect. Common logical operators are 'and', 'or', and 'not'.\")\n",
    "\n",
    "# Final score\n",
    "print(user_name + \", you scored \" + str(correct) + \"/\" + str(questions))\n"
   ]
  }
 ],
 "metadata": {
  "kernelspec": {
   "display_name": "venv",
   "language": "python",
   "name": "python3"
  },
  "language_info": {
   "codemirror_mode": {
    "name": "ipython",
    "version": 3
   },
   "file_extension": ".py",
   "mimetype": "text/x-python",
   "name": "python",
   "nbconvert_exporter": "python",
   "pygments_lexer": "ipython3",
   "version": "3.12.3"
  }
 },
 "nbformat": 4,
 "nbformat_minor": 2
}
