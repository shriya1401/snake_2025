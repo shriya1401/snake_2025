{
 "cells": [
  {
   "cell_type": "markdown",
   "metadata": {},
   "source": [
    "---\n",
    "layout: post\n",
    "title: Lesson 3.1.4 JavaScript Data Types\n",
    "categories: [Collaboration]\n",
    "permalink: /csp/big-idea/p4/3-1-4\n",
    "authors: Nora Ahadian & Kushi Gade\n",
    "comments: true\n",
    "---"
   ]
  },
  {
   "cell_type": "markdown",
   "metadata": {},
   "source": [
    "## Javascript Data Types! :]"
   ]
  },
  {
   "cell_type": "markdown",
   "metadata": {},
   "source": [
    "In this lesson we will be reviewing how diffrent data types are used in JS!\n",
    "\n",
    "##### We will be reviewing: Integers/floats, strings, booleans, lists, arrays, and objects"
   ]
  },
  {
   "cell_type": "markdown",
   "metadata": {},
   "source": [
    "### Integers/Floats\n",
    "\n",
    "In javascript vs python you do not have to define integers vs floats"
   ]
  },
  {
   "cell_type": "code",
   "execution_count": 54,
   "metadata": {
    "vscode": {
     "languageId": "javascript"
    }
   },
   "outputs": [
    {
     "data": {
      "application/javascript": "\n//here we define the number (temperature) and log it into the console!\nlet temperature = 76;\nconsole.log(\"number: \", temperature);\nelement.append(\"number: \" + temperature);\n",
      "text/plain": [
       "<IPython.core.display.Javascript object>"
      ]
     },
     "metadata": {},
     "output_type": "display_data"
    }
   ],
   "source": [
    "%%js\n",
    "\n",
    "//here we define the number (temperature) and log it into the console!\n",
    "let temperature = 76;\n",
    "console.log(\"number: \", temperature);\n",
    "element.append(\"number: \" + temperature);\n"
   ]
  },
  {
   "cell_type": "markdown",
   "metadata": {},
   "source": [
    "### Strings\n",
    "\n",
    "In JavaScript a string is used to represent text.  Strings are defined by closing a set of charecters in quotes (single or double but not both!)"
   ]
  },
  {
   "cell_type": "code",
   "execution_count": 50,
   "metadata": {
    "vscode": {
     "languageId": "javascript"
    }
   },
   "outputs": [
    {
     "data": {
      "application/javascript": "\n//here we define the string (fruit) and log it into the console!\nlet fruit = \"mango\";\nconsole.log(\"String: \", fruit);\nelement.append(\"String: \" + fruit);\n",
      "text/plain": [
       "<IPython.core.display.Javascript object>"
      ]
     },
     "metadata": {},
     "output_type": "display_data"
    }
   ],
   "source": [
    "%%js\n",
    "\n",
    "//here we define the string (fruit) and log it into the console!\n",
    "let fruit = \"mango\";\n",
    "console.log(\"String: \", fruit);\n",
    "element.append(\"String: \" + fruit);"
   ]
  },
  {
   "cell_type": "markdown",
   "metadata": {},
   "source": [
    "### Booleans\n",
    "\n",
    "a boolean represents a true or false value, they are usually used in if then statments. Stating that if something is true/false, then something else will occour!"
   ]
  },
  {
   "cell_type": "code",
   "execution_count": 51,
   "metadata": {
    "vscode": {
     "languageId": "javascript"
    }
   },
   "outputs": [
    {
     "data": {
      "application/javascript": "\n//here we define the boolean () and log it into the console!\nlet isSkyBlue = true;\nconsole.log(\"Boolean: \", isSkyBlue);\nelement.append(\"Boolean: \" + isSkyBlue);\n\n//if the sky is blue it will come up as true in the consle \n//if not it will say false!\n",
      "text/plain": [
       "<IPython.core.display.Javascript object>"
      ]
     },
     "metadata": {},
     "output_type": "display_data"
    }
   ],
   "source": [
    "%%js\n",
    "\n",
    "//here we define the boolean () and log it into the console!\n",
    "let isSkyBlue = true;\n",
    "console.log(\"Boolean: \", isSkyBlue);\n",
    "element.append(\"Boolean: \" + isSkyBlue);\n",
    "\n",
    "//if the sky is blue it will come up as true in the consle \n",
    "//if not it will say false!\n"
   ]
  },
  {
   "cell_type": "markdown",
   "metadata": {},
   "source": [
    "### Arrrays\n",
    "\n",
    "Arrays are used to store multiple values in a single variable!  all the values in an array are called elements,  these elements can be any diffrent data type!"
   ]
  },
  {
   "cell_type": "code",
   "execution_count": 52,
   "metadata": {
    "vscode": {
     "languageId": "javascript"
    }
   },
   "outputs": [
    {
     "data": {
      "application/javascript": "\n// 6. Arrays\nlet berries = [\"strawberry\", \"blueberry\", \"raseberry\", \"blackberry\"];\nconsole.log(\"Array: \", berries);\nelement.append(\"Array: \" + berries.join(\", \"));\n",
      "text/plain": [
       "<IPython.core.display.Javascript object>"
      ]
     },
     "metadata": {},
     "output_type": "display_data"
    }
   ],
   "source": [
    "%%js\n",
    "\n",
    "// 6. Arrays\n",
    "let berries = [\"strawberry\", \"blueberry\", \"raseberry\", \"blackberry\"];\n",
    "console.log(\"Array: \", berries);\n",
    "element.append(\"Array: \" + berries.join(\", \"));"
   ]
  },
  {
   "cell_type": "markdown",
   "metadata": {},
   "source": [
    "`Popcorn Hack:` create your own array using two or more diffrent data types we throughout the lesson! "
   ]
  },
  {
   "cell_type": "markdown",
   "metadata": {},
   "source": [
    "### Objects\n",
    "\n",
    "Objects are arguably the most important data type used in JavaScript,  and is also known as JSON objects (simular to python dictionaries).  \n",
    "\n",
    "Objects are collections of key-value pairs,  and each key is lnked to a diffrent value"
   ]
  },
  {
   "cell_type": "code",
   "execution_count": 53,
   "metadata": {
    "vscode": {
     "languageId": "javascript"
    }
   },
   "outputs": [
    {
     "data": {
      "application/javascript": "\n// 7. Objects (Non-primitive)\nlet chair = {\n    color: \"brown\",\n    age: 4,\n  };\nconsole.log(\"Object: \", chair);\nelement.append(\"Object: \" + JSON.stringify(chair) + \"<br>\");\n",
      "text/plain": [
       "<IPython.core.display.Javascript object>"
      ]
     },
     "metadata": {},
     "output_type": "display_data"
    }
   ],
   "source": [
    "%%js\n",
    "\n",
    "// 7. Objects (Non-primitive)\n",
    "let chair = {\n",
    "    color: \"brown\",\n",
    "    age: 4,\n",
    "  };\n",
    "console.log(\"Object: \", chair);\n",
    "element.append(\"Object: \" + JSON.stringify(chair) + \"<br>\");"
   ]
  },
  {
   "cell_type": "markdown",
   "metadata": {},
   "source": [
    "`Popcorn Hack:` create your own object for yourself or somebody else,  atempt using all data types in your object!"
   ]
  },
  {
   "cell_type": "markdown",
   "metadata": {},
   "source": [
    "## Dictionaries (Objects) in JavaScript\n",
    "\n",
    "In Javascript, objects are like dictionaries, where the keys correspond with values. To access the data of an object, we can use dot notation or bracket notation.\n",
    "\n",
    "### Example:\n",
    "For this specific example, we will declare an object and iterate through its key-value pairs.\n"
   ]
  },
  {
   "cell_type": "code",
   "execution_count": 2,
   "metadata": {
    "vscode": {
     "languageId": "javascript"
    }
   },
   "outputs": [
    {
     "data": {
      "application/javascript": "// Example of a JavaScript object (dictionary)\nlet studentInfo = {\n  name: \"Maryam Abdul-Aziz\",\n  age: 25,\n  grade: 10,\n  interests: [\"Engineering\", \"Coding\", \"Cooking\"]\n};\n\n\n// Traversing the object using a for...in loop\nfor (let key in studentInfo) {\n  console.log(key + \": \" + studentInfo[key]); // Logs each key and its associated value\n  element.append(key + \": \" + studentInfo[key] + \"<br>\");\n}\n",
      "text/plain": [
       "<IPython.core.display.Javascript object>"
      ]
     },
     "metadata": {},
     "output_type": "display_data"
    }
   ],
   "source": [
    "%%js\n",
    "// Example of a JavaScript object (dictionary)\n",
    "let studentInfo = {\n",
    "  name: \"Maryam Abdul-Aziz\",\n",
    "  age: 25,\n",
    "  grade: 10,\n",
    "  interests: [\"Engineering\", \"Coding\", \"Cooking\"]\n",
    "};\n",
    "\n",
    "\n",
    "// Traversing the object using a for...in loop\n",
    "for (let key in studentInfo) {\n",
    "  console.log(key + \": \" + studentInfo[key]); // Logs each key and its associated value\n",
    "  element.append(key + \": \" + studentInfo[key] + \"<br>\");\n",
    "}"
   ]
  },
  {
   "cell_type": "markdown",
   "metadata": {},
   "source": [
    "## Addition and Concatenation\n",
    "\n",
    "We can also use addition and concatenation, just like in Python"
   ]
  },
  {
   "cell_type": "code",
   "execution_count": 3,
   "metadata": {
    "vscode": {
     "languageId": "javascript"
    }
   },
   "outputs": [
    {
     "data": {
      "application/javascript": "// Addition of two integer variables\n\nlet int1 = 3;\nlet int2 = 4;\n// Concatenation between two non-strings in a print statement will EVALUATE them.\nconsole.log(int1 + int2); // This will add the two numbers.\nconsole.log(\"Notice how they get ADDED together.\");\nconsole.log();\n\n// Concatenation of two string variables\n\nlet string1 = \"3\";\nlet string2 = \"4\";\n// Concatenation between two strings in a print statement will CONNECT them.\nconsole.log(string1 + string2); // This will concatenate (connect) the strings.\nconsole.log(\"Notice how this CONNECTS the variables\");\n",
      "text/plain": [
       "<IPython.core.display.Javascript object>"
      ]
     },
     "metadata": {},
     "output_type": "display_data"
    }
   ],
   "source": [
    "%%js\n",
    "// Addition of two integer variables\n",
    "\n",
    "let int1 = 3;\n",
    "let int2 = 4;\n",
    "// Concatenation between two non-strings in a print statement will EVALUATE them.\n",
    "console.log(int1 + int2); // This will add the two numbers.\n",
    "console.log(\"Notice how they get ADDED together.\");\n",
    "console.log();\n",
    "\n",
    "// Concatenation of two string variables\n",
    "\n",
    "let string1 = \"3\";\n",
    "let string2 = \"4\";\n",
    "// Concatenation between two strings in a print statement will CONNECT them.\n",
    "console.log(string1 + string2); // This will concatenate (connect) the strings.\n",
    "console.log(\"Notice how this CONNECTS the variables\");\n"
   ]
  }
 ],
 "metadata": {
  "kernelspec": {
   "display_name": "venv",
   "language": "python",
   "name": "python3"
  },
  "language_info": {
   "codemirror_mode": {
    "name": "ipython",
    "version": 3
   },
   "file_extension": ".py",
   "mimetype": "text/x-python",
   "name": "python",
   "nbconvert_exporter": "python",
   "pygments_lexer": "ipython3",
   "version": "3.12.5"
  }
 },
 "nbformat": 4,
 "nbformat_minor": 2
}
