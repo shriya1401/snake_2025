{
 "cells": [
  {
   "cell_type": "raw",
   "metadata": {
    "vscode": {
     "languageId": "raw"
    }
   },
   "source": [
    "---\n",
    "layout: post\n",
    "title: CSP Period 4 Unit 3.7.1\n",
    "description: Lesson on Nested Conditionals PYTHON\n",
    "permalink: /csp/big-idea/p4/3-7-1\n",
    "type: ccc\n",
    "author: Risha Guha, Vibha Mandayam, Ava Shalon\n",
    "menu: nav/csp_units/csp_unit3_p4_fundamentals.html\n",
    "---"
   ]
  },
  {
   "cell_type": "markdown",
   "metadata": {},
   "source": [
    "# NESTED CONDITIONALS\n",
    "\n",
    "Nested conditionals build on the If-Then-Else concepts we taught in Lesson 3.7.  \n",
    "- <code>Conditional Statements:</code> Used to perform different actions based on different conditions.\n",
    "- <code>Nested Conditionals:</code> A conditional statement inside another conditional statement."
   ]
  },
  {
   "cell_type": "markdown",
   "metadata": {},
   "source": [
    "## Nested Conditionals Code Example in Python\n",
    "\n",
    "```IF condition1 {\n",
    "\n",
    "    // Actions to run for condition 1\n",
    "    // CODE BLOCK A\n",
    "\n",
    "    IF condition2 \n",
    "    { //within condition 1 \n",
    "        // Actions to run for condition 2\n",
    "        // CODE BLOCK B\n",
    "    }\n",
    "    ELSE \n",
    "    {\n",
    "        //Actions to run if condition 2 is not met\n",
    "        // CODE BLOCK C\n",
    "    }\n",
    "}\n",
    "ELSE\n",
    "{\n",
    "    //Actions to run if condition 1 was never met\n",
    "    // CODE BLOCK D\n",
    "}\n",
    "```\n",
    "\n",
    "This code states that\n",
    "- If condition 1 AND condition 2 are met, run code blocks A and B\n",
    "- If condition 1 is met but condition 2 IS NOT met, run code blocks A and C\n",
    "- If condition 1 was never met, run code block D"
   ]
  },
  {
   "cell_type": "markdown",
   "metadata": {},
   "source": [
    "### Example 1 - Basic \n",
    "\n",
    "1. Write a code that uses information about the weather, boots, and transportation\n",
    "2. Determine whether or not to go hiking\n",
    "3. Give solutions for what to do during each type of weather"
   ]
  },
  {
   "cell_type": "code",
   "execution_count": 9,
   "metadata": {},
   "outputs": [
    {
     "name": "stdout",
     "output_type": "stream",
     "text": [
      "The weather is sunny\n",
      "Your transportation is available\n",
      "Your boots are not present\n",
      "You need to find your boots first.\n"
     ]
    }
   ],
   "source": [
    "\n",
    "weather = \"sunny\"\n",
    "transportation = \"available\"\n",
    "boots = \"not present\"\n",
    "\n",
    "print(\"The weather is \" + weather)\n",
    "print(\"Your transportation is \" + transportation)\n",
    "print(\"Your boots are \" + boots)\n",
    "\n",
    "\n",
    "if weather == \"sunny\":\n",
    "    if transportation == \"available\":\n",
    "        if boots == \"present\":\n",
    "            print(\"You are ready to go hiking!\")\n",
    "        else:\n",
    "            print(\"You need to find your boots first.\")\n",
    "    else:\n",
    "        print(\"You need to arrange transportation.\")\n",
    "else:\n",
    "    print(\"It's not good weather for hiking.\")\n"
   ]
  },
  {
   "cell_type": "markdown",
   "metadata": {},
   "source": [
    "<b>Popcorn Hack!</b>\n",
    "\n",
    "Try adding an additional condition for hiking (like location_determined or miles_in_the_hike)."
   ]
  },
  {
   "cell_type": "markdown",
   "metadata": {},
   "source": [
    "### Example 2 - Booleans\n",
    "\n",
    "1. Write a code that checks if you can host movie night.\n",
    "2. Use the presence of a living room, a projector, and snacks to determine if movie night is possible\n",
    "3. Use booleans in the code"
   ]
  },
  {
   "cell_type": "code",
   "execution_count": 10,
   "metadata": {},
   "outputs": [
    {
     "name": "stdout",
     "output_type": "stream",
     "text": [
      "You need to fix or replace the projector.\n"
     ]
    }
   ],
   "source": [
    "living_room_available = True\n",
    "projector_working = False\n",
    "enough_snacks = True\n",
    "\n",
    "if living_room_available:\n",
    "    if projector_working:\n",
    "        if enough_snacks:\n",
    "            print(\"You're ready to host the movie night!\")\n",
    "        else:\n",
    "            print(\"You need to get more snacks. Ideas: Popcorn, Candy, Soda\")\n",
    "    else:\n",
    "        print(\"You need to fix or replace the projector.\")\n",
    "else:\n",
    "    print(\"The living room is not available for the movie night. Find another room!\")"
   ]
  },
  {
   "cell_type": "markdown",
   "metadata": {},
   "source": [
    "<b>Popcorn Hack!</b>\n",
    "\n",
    "Try changing some of the defined booleans and see what values you get!"
   ]
  },
  {
   "cell_type": "markdown",
   "metadata": {},
   "source": [
    "### Example 3 - Integers, Booleans, AND Random\n",
    "\n",
    "1. Write a code that checks if you can go on a spontaneous road trip\n",
    "2. Check if you have enough gas, if the weather is good, if you've checked your car, and if you have enough in your budget\n",
    "3. Use integers, booleans, and randomized values"
   ]
  },
  {
   "cell_type": "code",
   "execution_count": 16,
   "metadata": {},
   "outputs": [
    {
     "name": "stdout",
     "output_type": "stream",
     "text": [
      "You have enough gas!\n",
      "The weather isn't good for a road trip.\n"
     ]
    }
   ],
   "source": [
    "import random\n",
    "\n",
    "# Boolean: Do you have enough gas? (Fixed)\n",
    "enough_gas = True\n",
    "\n",
    "# Random: Is the weather good? (Random outcome)\n",
    "good_weather = random.choice([True, False])\n",
    "\n",
    "# Random: Did the car pass the check-up? (Random outcome)\n",
    "car_checked = random.choice([True, False])\n",
    "\n",
    "# Integer: Your current budget (Random between $50 and $200)\n",
    "budget = random.randint(50, 200)\n",
    "required_budget = 100  # Assume you need $100 for the trip\n",
    "\n",
    "# Check the conditions using nested conditionals\n",
    "if enough_gas:\n",
    "    print(\"You have enough gas!\")\n",
    "    if good_weather:\n",
    "        print(\"The weather is good!\")\n",
    "        if car_checked:\n",
    "            print (\"Your car has been checked!\")\n",
    "            if budget >= required_budget:\n",
    "                print(f\"You're ready for the road trip! You have ${budget}, which is enough.\")\n",
    "            else:\n",
    "                print(f\"You need more money for the trip. You only have ${budget}, but you need at least ${required_budget}.\")\n",
    "        else:\n",
    "            print(\"You need to get the car checked first.\")\n",
    "    else:\n",
    "        print(\"The weather isn't good for a road trip.\")\n",
    "else:\n",
    "    print(\"You need to fill up the tank first.\")\n"
   ]
  },
  {
   "cell_type": "markdown",
   "metadata": {},
   "source": [
    "<b>Popcorn Hack!</b>\n",
    "\n",
    "Try changing the enough_gas variable to a randomly-generated value! Also, try adding a gas value and check that the number of gallons is sufficient. "
   ]
  }
 ],
 "metadata": {
  "kernelspec": {
   "display_name": "Python 3",
   "language": "python",
   "name": "python3"
  },
  "language_info": {
   "codemirror_mode": {
    "name": "ipython",
    "version": 3
   },
   "file_extension": ".py",
   "mimetype": "text/x-python",
   "name": "python",
   "nbconvert_exporter": "python",
   "pygments_lexer": "ipython3",
   "version": "3.12.3"
  },
  "orig_nbformat": 4
 },
 "nbformat": 4,
 "nbformat_minor": 2
}
