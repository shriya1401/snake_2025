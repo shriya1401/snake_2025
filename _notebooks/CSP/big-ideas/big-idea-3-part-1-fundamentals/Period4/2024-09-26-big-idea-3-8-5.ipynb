{
 "cells": [
  {
   "cell_type": "raw",
   "metadata": {
    "vscode": {
     "languageId": "raw"
    }
   },
   "source": [
    "---\n",
    "layout: post\n",
    "title: 3.8.5 For Loops\n",
    "description: Nested Loops/If Statements, Try/Except, Iteration through Recursion\n",
    "permalink: /csp/big-idea/p4/3-8-5\n",
    "menu: nav/csp_units/csp_unit3_p4_fundamentals.html\n",
    "---"
   ]
  },
  {
   "cell_type": "markdown",
   "metadata": {},
   "source": [
    "## Nested Loops/If Statements, Try/Except, Iteration through Recursion"
   ]
  },
  {
   "cell_type": "markdown",
   "metadata": {},
   "source": [
    "### Overview"
   ]
  },
  {
   "cell_type": "markdown",
   "metadata": {},
   "source": [
    "You can add loops and if statements inside loops as well\n",
    "\n",
    "This can check each element of a list/dictionary, each character in a string, loop through an element, etc.\n",
    "\n",
    "With Try/Except, you can try to run an operation and use except to check for a specific error, in which case you run certian code\n",
    "\n",
    "Finally, recursion is when you call a function inside of a function to have it run repeatedly every time it is called"
   ]
  },
  {
   "cell_type": "code",
   "execution_count": 1,
   "metadata": {},
   "outputs": [
    {
     "name": "stdout",
     "output_type": "stream",
     "text": [
      "1\n",
      "This is the number two\n",
      "3\n",
      "4\n",
      "5\n"
     ]
    }
   ],
   "source": [
    "nums = [1, 2, 3, 4, 5]\n",
    "\n",
    "for num in nums:\n",
    "    if num == 2:\n",
    "        print(\"This is the number two\")\n",
    "    else:\n",
    "        print(num)"
   ]
  },
  {
   "cell_type": "code",
   "execution_count": null,
   "metadata": {
    "vscode": {
     "languageId": "javascript"
    }
   },
   "outputs": [],
   "source": [
    "%%js\n",
    "const nums = [1, 2, 3, 4, 5];\n",
    "\n",
    "for (const num of nums) {\n",
    "    if (num === 2) {\n",
    "        console.log(\"This is the number two\");\n",
    "    } else {\n",
    "        console.log(num);\n",
    "    }\n",
    "}"
   ]
  },
  {
   "cell_type": "code",
   "execution_count": 2,
   "metadata": {},
   "outputs": [
    {
     "name": "stdout",
     "output_type": "stream",
     "text": [
      "J\n",
      "o\n",
      "h\n",
      "n\n",
      "Next:\n",
      "A\n",
      "b\n",
      "r\n",
      "a\n",
      "h\n",
      "a\n",
      "m\n",
      "Next:\n"
     ]
    }
   ],
   "source": [
    "names = [\"John\", \"Abraham\"]\n",
    "\n",
    "for name in names:\n",
    "    for letter in name:\n",
    "        print(letter)\n",
    "    print(\"Next:\")"
   ]
  },
  {
   "cell_type": "code",
   "execution_count": null,
   "metadata": {
    "vscode": {
     "languageId": "javascript"
    }
   },
   "outputs": [],
   "source": [
    "%%js\n",
    "const names = [\"John\", \"Abraham\"];\n",
    "\n",
    "for (const name of names) {\n",
    "    for (const letter of name) {\n",
    "        console.log(letter);\n",
    "    }\n",
    "    console.log(\"Next:\");\n",
    "}"
   ]
  },
  {
   "cell_type": "markdown",
   "metadata": {},
   "source": [
    "Code Breakdown\n",
    "- The first example creates a for loop and checks if the value 'num' is 2\n",
    "- If 'num' is 2, then it prints a special message\n",
    "- Otherwise, it just prints the number\n",
    "\n",
    "- The second example has a list of names\n",
    "- The first for loop goes through each element in the list\n",
    "- The second for loop runs for each iteration of the main for loop and gives each element of the element\n",
    "- Between loops, we print 'Next:'"
   ]
  },
  {
   "cell_type": "code",
   "execution_count": 3,
   "metadata": {},
   "outputs": [
    {
     "name": "stdout",
     "output_type": "stream",
     "text": [
      "10.0\n",
      "5.0\n",
      "2.5\n",
      "1.4285714285714286\n",
      "You cannot divide by 0\n",
      "2.5\n"
     ]
    }
   ],
   "source": [
    "nums = [1, 2, 4, 7, 0, 4]\n",
    "\n",
    "for num in nums:\n",
    "    try: \n",
    "        print((10/num))\n",
    "    except ZeroDivisionError:\n",
    "        print(\"You cannot divide by 0\")"
   ]
  },
  {
   "cell_type": "code",
   "execution_count": null,
   "metadata": {
    "vscode": {
     "languageId": "javascript"
    }
   },
   "outputs": [],
   "source": [
    "%%js\n",
    "const nums = [1, 2, 4, 7, 0, 4];\n",
    "\n",
    "for (const num of nums) {\n",
    "    try {\n",
    "        console.log(10 / num);\n",
    "    } catch (error) {\n",
    "        if (error instanceof RangeError) {\n",
    "            console.log(\"You cannot divide by 0\");\n",
    "        }\n",
    "    }\n",
    "}"
   ]
  },
  {
   "cell_type": "markdown",
   "metadata": {},
   "source": [
    "Code breakdown:\n",
    "- In this scenario, we create a list of numbers and a for loop that wants to divide 10 by each number\n",
    "- We use try and except to check for a specific error, in this case ZeroDivisionError, and run something if we encounter it"
   ]
  },
  {
   "cell_type": "code",
   "execution_count": 4,
   "metadata": {},
   "outputs": [
    {
     "name": "stdout",
     "output_type": "stream",
     "text": [
      "Factorial of 7 is 5040\n"
     ]
    }
   ],
   "source": [
    "def factorial(n):\n",
    "    if n == 0:\n",
    "        return 1\n",
    "    else:\n",
    "        return n * factorial(n - 1)\n",
    "\n",
    "result = factorial(7)\n",
    "print(f\"Factorial of 7 is\", result)"
   ]
  },
  {
   "cell_type": "code",
   "execution_count": null,
   "metadata": {
    "vscode": {
     "languageId": "javascript"
    }
   },
   "outputs": [],
   "source": [
    "%%js\n",
    "function factorial(n) {\n",
    "    if (n === 0) {\n",
    "        return 1;\n",
    "    } else {\n",
    "        return n * factorial(n - 1);\n",
    "    }\n",
    "}\n",
    "\n",
    "const result = factorial(7);\n",
    "console.log(`Factorial of 7 is ${result}`);"
   ]
  },
  {
   "cell_type": "markdown",
   "metadata": {},
   "source": [
    "Code Breakdown\n",
    "- We create a function that returns the factorial of a given number\n",
    "- At the end of the function, it calls itself in order to continue giving the factorial\n",
    "- When the number gets to 0, it will return 1 and end the 'loop'"
   ]
  },
  {
   "cell_type": "markdown",
   "metadata": {},
   "source": [
    "# Hack #1 While loops\n",
    "\n",
    "Create a python script that asks a user for a password in the terminal, then if the password is correct, it prints out that the password is correct.\n",
    "\n",
    "If the password is incorrect it asks for the password again.\n",
    "\n",
    "### Tips\n",
    "\n",
    "Use a while loop and if statements to check if the password is correct, \n",
    "\n",
    "If it is correct, then make the condition of the while loop false\n",
    "\n",
    "### How to do user input in python\n",
    "\n",
    "You first must have a variable or be declaring a variable when asking for user input\n",
    "\n",
    "You also have to have a prompt for the user\n",
    "\n",
    "Syntax looks like this"
   ]
  },
  {
   "cell_type": "code",
   "execution_count": null,
   "metadata": {},
   "outputs": [
    {
     "name": "stdout",
     "output_type": "stream",
     "text": [
      "hello, weston\n"
     ]
    }
   ],
   "source": [
    "name = input(\"Enter your name: \")\n",
    "\n",
    "print (\"hello,\", name)"
   ]
  },
  {
   "cell_type": "markdown",
   "metadata": {},
   "source": [
    "### How to do if/else statements in python\n",
    "\n",
    "If statements are simply made up of conditions and blocks of code\n",
    "\n",
    "If the condition is true, then the code is run\n",
    "\n",
    "if it is not, then the else code is run"
   ]
  },
  {
   "cell_type": "code",
   "execution_count": null,
   "metadata": {},
   "outputs": [
    {
     "name": "stdout",
     "output_type": "stream",
     "text": [
      "true\n"
     ]
    }
   ],
   "source": [
    "x = 5\n",
    "y = 2\n",
    "\n",
    "if x + y == 7:\n",
    "    print(\"true\")\n",
    "\n",
    "else:\n",
    "    print(\"false\")"
   ]
  },
  {
   "cell_type": "markdown",
   "metadata": {},
   "source": [
    "# Hack #2 For loops\n",
    "\n",
    "Create python script that asks for a user's name\n",
    "\n",
    "Then iterate through the name and print it out letter by letter through the terminal\n",
    "\n",
    "### Tips\n",
    "\n",
    "Use a for loop, this one should be pretty easy"
   ]
  },
  {
   "cell_type": "markdown",
   "metadata": {},
   "source": [
    "# Hack #3 For loops with lists\n",
    "\n",
    "Create a python script that has a list of at least 7 different fruits\n",
    "\n",
    "then create a for loop that iterates through that list and prints out each fruit seperate to the terminal\n",
    "\n",
    "### tips\n",
    "\n",
    "refer to 3.8.4 for basics on how to do this"
   ]
  },
  {
   "cell_type": "markdown",
   "metadata": {},
   "source": [
    "<script src=\"https://utteranc.es/client.js\"\n",
    "        repo=\"nighthawkcoders/portfolio_2025\"\n",
    "        issue-term=\"title\"\n",
    "        label=\"blogpost-comment\"\n",
    "        theme=\"github-light\"\n",
    "        crossorigin=\"anonymous\"\n",
    "        async>\n",
    "</script>\n",
    "-->"
   ]
  }
 ],
 "metadata": {
  "kernelspec": {
   "display_name": "Python 3",
   "language": "python",
   "name": "python3"
  },
  "language_info": {
   "codemirror_mode": {
    "name": "ipython",
    "version": 3
   },
   "file_extension": ".py",
   "mimetype": "text/x-python",
   "name": "python",
   "nbconvert_exporter": "python",
   "pygments_lexer": "ipython3",
   "version": "3.12.3"
  }
 },
 "nbformat": 4,
 "nbformat_minor": 2
}
