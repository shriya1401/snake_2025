{
 "cells": [
  {
   "cell_type": "raw",
   "metadata": {
    "vscode": {
     "languageId": "raw"
    }
   },
   "source": [
    "---\n",
    "toc: false\n",
    "comments: true\n",
    "layout: post\n",
    "title: 3.4.2 Python Hacks\n",
    "description: These are the hacks students are required to complete to demonstrate understanding of the content.\n",
    "permalink: /csp/big-idea/p3/3-4-2\n",
    "categories: [CSP Big Ideas]\n",
    "author:  Ahaan, Spencer, Vasanth, Xavier\n",
    "menu: nav/csp_units/csp_unit3_p3_fundamentals.html\n",
    "---"
   ]
  },
  {
   "cell_type": "markdown",
   "metadata": {},
   "source": [
    "## Hacks / Homework\n",
    "- Hack 1: Write a Python function that takes a string as input and returns the string reversed.\n",
    "- Hack 2: Create a Python program that counts the number of vowels ('a', 'e', 'i', 'o', 'u') in a given string.\n",
    "- Hack 3: Given a string, write a function to replace all occurrences of the substring 'abc' with 'xyz'.\n",
    "- Hack 4: Write a function that checks if a given string is a palindrome (reads the same forward and backward), ignoring spaces, punctuation, and case.\n",
    "- Hack 5: Write a program that finds and returns the longest word in a given sentence.\n",
    "\n",
    "**CHALLENGING QUESTION:**\n",
    "- Hack 6: Given a string containing both letters and digits, write a function that extracts all the numbers, sums them up, and returns the total."
   ]
  }
 ],
 "metadata": {
  "kernelspec": {
   "display_name": "venv",
   "language": "python",
   "name": "python3"
  },
  "language_info": {
   "codemirror_mode": {
    "name": "ipython",
    "version": 3
   },
   "file_extension": ".py",
   "mimetype": "text/x-python",
   "name": "python",
   "nbconvert_exporter": "python",
   "pygments_lexer": "ipython3",
   "version": "3.10.12"
  }
 },
 "nbformat": 4,
 "nbformat_minor": 2
}
