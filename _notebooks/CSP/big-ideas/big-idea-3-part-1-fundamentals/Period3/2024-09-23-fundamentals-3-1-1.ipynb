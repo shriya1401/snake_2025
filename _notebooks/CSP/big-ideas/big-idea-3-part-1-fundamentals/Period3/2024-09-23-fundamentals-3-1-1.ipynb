{
 "cells": [
  {
   "cell_type": "raw",
   "metadata": {
    "vscode": {
     "languageId": "raw"
    }
   },
   "source": [
    "---\n",
    "toc: false\n",
    "comments: true\n",
    "layout: post\n",
    "title: 3.1 Variable Student Lesson \n",
    "description: This is student-led teaching on variables. You'll learn important skills in Big Idea 3 required by college board.\n",
    "permalink: /csp/big-idea/p3/3-1-1\n",
    "categories: [CSP Big Ideas]\n",
    "author:  Ahaan, Spencer, Vasanth, Xavier\n",
    "menu: nav/csp_units/csp_unit3_p3_fundamentals.html\n",
    "---"
   ]
  },
  {
   "cell_type": "markdown",
   "metadata": {
    "vscode": {
     "languageId": "raw"
    }
   },
   "source": [
    "# Variables \n",
    "\n",
    "Variables act as a storage containers, which you can use to store information/code to call\n",
    "at any point in your program.\n",
    "\n",
    "For Example \n",
    "\n"
   ]
  },
  {
   "cell_type": "code",
   "execution_count": 11,
   "metadata": {},
   "outputs": [],
   "source": [
    "example = 3\n",
    "starter = \"Hello world!!\"\n",
    "value= \"variable\""
   ]
  },
  {
   "cell_type": "markdown",
   "metadata": {},
   "source": [
    "Then.. we can do "
   ]
  },
  {
   "cell_type": "code",
   "execution_count": null,
   "metadata": {},
   "outputs": [],
   "source": [
    "print(starter)\n",
    "print(example)\n",
    "print(value)"
   ]
  },
  {
   "cell_type": "markdown",
   "metadata": {},
   "source": [
    "We use variables because it allows us to have more efficency when creating our code. There are many ways to excute and code a program, however we always want to find the most efficent way. Let's look at this example "
   ]
  },
  {
   "cell_type": "code",
   "execution_count": null,
   "metadata": {},
   "outputs": [],
   "source": [
    "print(\"Hello World, Welcome\")\n",
    "print(\"Hello World, Welcome\")\n",
    "print(\"Hello World, Welcome\")\n",
    "print(\"Hello World, Welcome\")\n",
    "print(\"Hello World, Welcome\")"
   ]
  },
  {
   "cell_type": "markdown",
   "metadata": {},
   "source": [
    "This is really inefficent and time consuming, also repetive instead we can make a variable assignment,.\n"
   ]
  },
  {
   "cell_type": "code",
   "execution_count": null,
   "metadata": {},
   "outputs": [],
   "source": [
    "hi= \"Hello World, Welcome\"\n",
    "\n",
    "print(hi)\n",
    "print(hi)\n",
    "print(hi)\n",
    "print(hi)\n",
    "print(hi)\n"
   ]
  },
  {
   "cell_type": "markdown",
   "metadata": {},
   "source": [
    "This is way less effort you need to put in, and also, much more efficent code than typing hello world 5 times. There is an even more  efficent way to set this code up with For Loops, but that is for a later lesson,"
   ]
  },
  {
   "cell_type": "markdown",
   "metadata": {},
   "source": []
  },
  {
   "cell_type": "markdown",
   "metadata": {},
   "source": [
    "## Variable Naming:\n",
    "\n",
    "There are 3 Important Coding Practices to follow when it comes to naming variables\n",
    "\n",
    "### SnakeCase\n",
    "\n",
    "SnakeCase is where you replace spaces in the words in a variable names to an underscore. This is the standard naming convention for variables, functions, and methods in Python.\n",
    "\n",
    "### PascalCase\n",
    "\n",
    "PascalCase is where you capitialize every word in your variable, but keep it all as one singluar phrase with no spaces. Altough this is shown in example, it should not be used for varialbes in Python. This is the convention for class names.\n",
    "\n",
    "### CamelCase\n",
    "\n",
    "CamelCase is where you captalize the second and subsequent words in the variable name. This is not normally used in Python conventions except when naming UPPER_CASE_CONSTANTS (PI_CONSTANT=3.14)\n",
    "\n",
    "\n",
    "\n"
   ]
  },
  {
   "cell_type": "code",
   "execution_count": null,
   "metadata": {
    "vscode": {
     "languageId": "javascript"
    }
   },
   "outputs": [],
   "source": []
  },
  {
   "cell_type": "markdown",
   "metadata": {},
   "source": [
    "### Popcorn Hack # 1 25%\n",
    " \n",
    " Try making your own PascalCase variable and set the variable to a string."
   ]
  },
  {
   "cell_type": "markdown",
   "metadata": {},
   "source": [
    "### Popcorn Hack # 2 25%\n",
    "\n",
    "Now try making your own CamelCase variable and set the variable equal to a integer.\n",
    "\n"
   ]
  },
  {
   "cell_type": "code",
   "execution_count": null,
   "metadata": {},
   "outputs": [],
   "source": []
  },
  {
   "cell_type": "markdown",
   "metadata": {},
   "source": [
    "## Variable Types\n",
    "\n",
    "In Python there are many variables\n",
    "Some include...\n",
    "\n",
    "### Integers\n",
    "Integers are numerical values such as 1, 2, 3, 4 or -1. There are no decimals in an integer. \n",
    "'''\n",
    "\n",
    "# These values must be whole digit numbers"
   ]
  },
  {
   "cell_type": "code",
   "execution_count": 15,
   "metadata": {},
   "outputs": [],
   "source": [
    "int_var = 10"
   ]
  },
  {
   "cell_type": "markdown",
   "metadata": {},
   "source": [
    "### Strings\n",
    "Strings are a chain of text, numbers or charcters, all inside of “ “\n",
    "'''\n",
    "# Numbers can be set as strings but must also be included in \" \" or using the str() function."
   ]
  },
  {
   "cell_type": "code",
   "execution_count": null,
   "metadata": {},
   "outputs": [],
   "source": [
    "# Numbers can be set as strings but must also be included in \" \" or using the str() function.\n",
    "str_var = \"Hello World\"\n",
    "\n",
    "# Convert any value into a string using the str() function\n",
    "int_var = 104\n",
    "str_var = str(int_var) # Converted 104 to \"104\"\n",
    "\n",
    "# You can access different parts of the string using brackets\n",
    "letter_one = str_var[0]\n",
    "\n",
    "# You can also get groups of letters using brackets\n",
    "half = str_var[0:5]\n",
    "\n",
    "# To split the string into parts you can choose which parts to split at and then it will convert into a list\n",
    "str_var.split(\" \") # Split at space making str_var = [\"Hello\",\"World\"]\n",
    "\n",
    "# To rejoin split strings, use the join() function\n",
    "rejoin_str = \",\"\n",
    "rejoin_str.join(str_var) # the join() function joins a list using a rejoin string, in this example a commmad"
   ]
  },
  {
   "cell_type": "markdown",
   "metadata": {},
   "source": [
    "\n",
    "## Boolean\n",
    "Booleans are True or False, they are used for condtional statements (Usually in if statments or while loops).\n",
    "'''\n",
    "# These can be exteremely usesful in if statements."
   ]
  },
  {
   "cell_type": "code",
   "execution_count": 17,
   "metadata": {},
   "outputs": [],
   "source": [
    "bool_var = True \n",
    "\n",
    "if bool_var:\n",
    "    int_var = 10\n",
    "else:\n",
    "    str_var = \"Hello World\""
   ]
  },
  {
   "cell_type": "markdown",
   "metadata": {},
   "source": [
    "\n",
    "### Float\n",
    "Floats are numbers that can include decimals.\n",
    "```\n",
    "# Floats can be whole numbers to but must include a .0 after the whole number to be a float number.\n",
    "float_var = 0.5\n",
    "```"
   ]
  },
  {
   "cell_type": "markdown",
   "metadata": {},
   "source": [
    "\n",
    "### Lists\n",
    "Lists are ordered collections of items in Python. They can contain a mix of different data types, including integers, floats, strings, and more. However, it is more common to have list contain the same data type.\n",
    "```"
   ]
  },
  {
   "cell_type": "code",
   "execution_count": 18,
   "metadata": {},
   "outputs": [],
   "source": [
    "# Lists are very useful to store data for a later use, its like a bunch of variables compacted into one.\n",
    "lst = [\"s\", \"i\", \"g\", \"m\", \"a\"]\n",
    "\n",
    "# To retrieve something from a list, you take the index or the list number like this.\n",
    "lst[0]\n",
    "\n",
    "lst[0:3] # You can grab values from one index to another like in strings\n",
    "\n",
    "# Index can also be found with the list.index() function\n",
    "lst.index(\"g\")\n",
    "\n",
    "# To add a value to the list, you can use the list.append() function\n",
    "lst.append(\"69\")\n",
    "\n",
    "Output: lst = [\"s\", \"i\", \"g\", \"m\", \"a\", 69] # Lists can include different kinds of values (int, str, bool, float, list)\n",
    "\n",
    "# To remove a value from the list, you can use the list.remove() function\n",
    "lst.remove(\"s\")\n",
    "\n",
    "Output: lst = [ \"i\", \"g\", \"m\", \"a\", 69]"
   ]
  },
  {
   "cell_type": "code",
   "execution_count": null,
   "metadata": {},
   "outputs": [],
   "source": []
  },
  {
   "cell_type": "markdown",
   "metadata": {},
   "source": [
    "### Popcorn Hack # 3 25%\n",
    "\n",
    "Try making your own set of 3 variable variables.\n",
    "\n",
    "It can be anything. Use your creativity!\n",
    "\n",
    "Try a String or a Float"
   ]
  },
  {
   "cell_type": "markdown",
   "metadata": {},
   "source": [
    "## Javascript Variables\n",
    "Below is a an HTML and JavaScript code block that helps to see output of variables.  \n",
    "- Open Help -> Toggle Developer Tools\n",
    "- Review outputs in Console\n",
    "- Examples shows a string and number in JavaScript"
   ]
  },
  {
   "cell_type": "code",
   "execution_count": 13,
   "metadata": {
    "vscode": {
     "languageId": "html"
    }
   },
   "outputs": [
    {
     "data": {
      "text/html": [
       "\n",
       "<!-- Div to display the output -->\n",
       "<div id=\"output\"></div>\n",
       "\n",
       "<script>\n",
       "    console.log(\"Function Definition\");\n",
       "\n",
       "    // Function: logIt\n",
       "    // Parameter: msg\n",
       "    // Description: The parameter is \"msg\" is output to console, jupyter and \"output\" element in HTML\n",
       "\n",
       "    function logIt(input) {\n",
       "        console.log(input); \n",
       "        document.getElementById('output').innerText = msg;\n",
       "    };\n",
       "\n",
       "    // sequence of code build logIt parameter using concatenation\n",
       "    var greeting = \"Hello, Students!\"; // string \n",
       "    var year = 2025; // integer\n",
       "    var msg = greeting + \" Welcome to the class of \" + year + \"!\"; // concatenation allows us to combine strings and numbers\n",
       "\n",
       "    logIt(msg); // This will log in console and display the message in the output div \n",
       "</script>\n"
      ],
      "text/plain": [
       "<IPython.core.display.HTML object>"
      ]
     },
     "metadata": {},
     "output_type": "display_data"
    }
   ],
   "source": [
    "%%html\n",
    "\n",
    "<!-- Div to display the output -->\n",
    "<div id=\"output\"></div>\n",
    "\n",
    "<script>\n",
    "    console.log(\"Function Definition\");\n",
    "\n",
    "    // Function: logIt\n",
    "    // Parameter: msg\n",
    "    // Description: The parameter is \"msg\" is output to console, jupyter and \"output\" element in HTML\n",
    "\n",
    "    function logIt(input) {\n",
    "        console.log(input); \n",
    "        document.getElementById('output').innerText = msg;\n",
    "    };\n",
    "\n",
    "    // sequence of code build logIt parameter using concatenation\n",
    "    var greeting = \"Hello, Students!\"; // string \n",
    "    var year = 2025; // integer\n",
    "    var msg = greeting + \" Welcome to the class of \" + year + \"!\"; // concatenation allows us to combine strings and numbers\n",
    "\n",
    "    logIt(msg); // This will log in console and display the message in the output div \n",
    "</script>\n"
   ]
  },
  {
   "cell_type": "markdown",
   "metadata": {},
   "source": [
    "## Hacks\n",
    "Review each of the sections above and produce a python program that stores:\n",
    "\n",
    "- Name as a string\n",
    "- Age as a integer\n",
    "- Favorite food as a string\n",
    "- Mix the name, age, food into a List and a Dictionary\n",
    "- Be sure to follow Snake case convention for your variables\n",
    "- Build your own code cell(s) that define each variable types\n",
    "- Experiment with the + operator on string types, integer types, and float types. What operations can the + operator perform?\n",
    "- Provide comments and outputs in the cell that are easy to follow\n"
   ]
  },
  {
   "cell_type": "markdown",
   "metadata": {},
   "source": []
  },
  {
   "cell_type": "code",
   "execution_count": null,
   "metadata": {},
   "outputs": [],
   "source": [
    "### Store as a Dictionary\n",
    "\n",
    "my_dict = {\n",
    "    \"name\": \"Ahaan\",\n",
    "    \"age\": 15,\n",
    "    \"Favorite Food\": \"Pizza\"\n",
    "    \"status\": \"Not as cool as spencer\"\n",
    "}\n",
    "\n",
    "### Store as regular variables which can be called at any time\n",
    "\n",
    "favorite_food = \"Pizza\"\n",
    "my_name = \"Ahaan Vaidyanathan\"\n",
    "my_age = 15\n",
    "status = \"Not as cool as spencer\"\n",
    "\n",
    "### Store as a List\n",
    "\n",
    "my_list = [\"Ahaan\", 15, \"Pizza\"]\n",
    "\n",
    " "
   ]
  },
  {
   "cell_type": "markdown",
   "metadata": {},
   "source": [
    "## Experimenting with the + operator on string types, integer types, and float types. \n",
    "\n",
    "There are multiple examples, here for this example. Remember, we have to use the str conversion when combining a interger or float with a string. You can also use commas to add a space and combine text.\n",
    "\n",
    "Here is both examples:\n",
    "```\n",
    "print(\"Hi\" + \" \"+ \"I am\"+ \" \"+str(15)+ \" \"+ \"years old\")\n",
    "print(\"Congrats for Learning 3.1\")\n",
    "\n",
    "# With commas\n",
    "print(\"Hi\", \"how\", \"are\", \"you\" + \"?\") # Can be useful when printing out separate strings without combining them.\n",
    "\n",
    "# Or even better\n",
    "code = \"code \"\n",
    "print(code * 3) # The asterisk can be used to print a variable multiple times\n",
    "```\n",
    "\n",
    "Be creative\n"
   ]
  }
 ],
 "metadata": {
  "kernelspec": {
   "display_name": "venv",
   "language": "python",
   "name": "python3"
  },
  "language_info": {
   "codemirror_mode": {
    "name": "ipython",
    "version": 3
   },
   "file_extension": ".py",
   "mimetype": "text/x-python",
   "name": "python",
   "nbconvert_exporter": "python",
   "pygments_lexer": "ipython3",
   "version": "3.12.5"
  }
 },
 "nbformat": 4,
 "nbformat_minor": 2
}
