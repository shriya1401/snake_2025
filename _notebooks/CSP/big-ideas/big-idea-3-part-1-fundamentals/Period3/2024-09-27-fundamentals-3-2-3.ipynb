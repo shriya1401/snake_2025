{
 "cells": [
  {
   "cell_type": "raw",
   "metadata": {
    "vscode": {
     "languageId": "raw"
    }
   },
   "source": [
    "---\n",
    "toc: false\n",
    "comments: true\n",
    "layout: post\n",
    "title: 3.2.3 JSON implementation\n",
    "description: Student led teaching on converting from Python to JSON.\n",
    "permalink: /csp/big-idea/p3/3-2-3\n",
    "categories: [CSP Big Ideas]\n",
    "author:  Gabriela Connelly\n",
    "menu: nav/csp_units/csp_unit3_p3_fundamentals.html\n",
    "---"
   ]
  },
  {
   "cell_type": "markdown",
   "metadata": {},
   "source": [
    "## JSON - JavaScript Object Notation\n",
    "\n",
    "JSON is a lightweight data interchange format that is easy for people and machines to understand. It is widely used for data exchange between a client and a server, as well as for storing and transporting data.\n",
    "\n",
    "In Python, the `json` module provides methods to convert Python objects into JSON and vice versa. This process is known as **serialization** (converting Python objects to JSON) and **deserialization** (converting JSON to Python objects). JSON is used when data is sent from a web server to a webpage.\n"
   ]
  },
  {
   "cell_type": "code",
   "execution_count": null,
   "metadata": {},
   "outputs": [],
   "source": [
    "# using json.dumps method to serialize Python objects into a JSON-formatted string\n",
    "import json\n",
    "\n",
    "# Python dictionary\n",
    "python_dict = {\n",
    "    \"name\": \"Alice\",\n",
    "    \"age\": 25,\n",
    "    \"is_student\": False,\n",
    "    \"courses\": [\"Math\", \"Science\"],\n",
    "    \"details\": {\n",
    "        \"height\": 1.65,\n",
    "        \"address\": \"123 Main St\"\n",
    "    }\n",
    "}\n",
    "\n",
    "# Convert dictionary to JSON string\n",
    "json_string = json.dumps(python_dict)\n",
    "print(json_string)\n",
    "\n",
    "# writes the JSON string representation of python_dict directly into a file\n",
    "with open('data.json', 'w') as json_file:\n",
    "    json.dump(python_dict, json_file)\n",
    "\n"
   ]
  },
  {
   "cell_type": "markdown",
   "metadata": {},
   "source": [
    "# Formatting\n",
    "Key Parameters for Formatting JSON:\n",
    "- `indent`: Adds indentation to each level of the JSON object, making it easier to read\n",
    "- `separators`: Controls how items are separated in the JSON string. By default, the separators are `(\", \", \": \")`\n",
    "- `sort_keys`: When `True`, this sorts the keys in the output JSON by alphabetical order. "
   ]
  },
  {
   "cell_type": "code",
   "execution_count": 2,
   "metadata": {},
   "outputs": [
    {
     "name": "stdout",
     "output_type": "stream",
     "text": [
      "{\n",
      "    \"name\": \"Alice\",\n",
      "    \"age\": 25,\n",
      "    \"is_student\": false,\n",
      "    \"courses\": [\n",
      "        \"Math\",\n",
      "        \"Science\"\n",
      "    ],\n",
      "    \"details\": {\n",
      "        \"height\": 1.65,\n",
      "        \"address\": \"123 Main St\"\n",
      "    }\n",
      "}\n",
      "\n",
      "{\n",
      "    \"name\" = \"Alice\".\n",
      "    \"age\" = 25.\n",
      "    \"is_student\" = false.\n",
      "    \"courses\" = [\n",
      "        \"Math\".\n",
      "        \"Science\"\n",
      "    ].\n",
      "    \"details\" = {\n",
      "        \"height\" = 1.65.\n",
      "        \"address\" = \"123 Main St\"\n",
      "    }\n",
      "}\n",
      "\n"
     ]
    }
   ],
   "source": [
    "import json\n",
    "\n",
    "python_dict = {\n",
    "    \"name\": \"Alice\",\n",
    "    \"age\": 25,\n",
    "    \"is_student\": False,\n",
    "    \"courses\": [\"Math\", \"Science\"],\n",
    "    \"details\": {\n",
    "        \"height\": 1.65,\n",
    "        \"address\": \"123 Main St\"\n",
    "    }\n",
    "}\n",
    "\n",
    "y = json.dumps(python_dict, indent=4) # `indent` formats the JSON string for readability\n",
    "print(y + \"\\n\") # '\\n' adds a space \n",
    "\n",
    "y = json.dumps(python_dict, indent=4, separators=(\".\", \" = \")) # uses a '=' instead of ':'\n",
    "print(y + \"\\n\")\n",
    "\n"
   ]
  },
  {
   "cell_type": "markdown",
   "metadata": {},
   "source": [
    "# JSON in JavaScript\n",
    "JSON (JavaScript Object Notation) is natively supported in JavaScript and is widely used for data interchange. You can convert JavaScript objects to JSON strings using the built-in  `JSON` object."
   ]
  },
  {
   "cell_type": "code",
   "execution_count": null,
   "metadata": {
    "vscode": {
     "languageId": "javascript"
    }
   },
   "outputs": [],
   "source": [
    "%% javascript\n",
    "\n",
    "// Step 1: Creating a JavaScript object\n",
    "const person = {\n",
    "    name: \"Alice\",\n",
    "    age: 30,\n",
    "    isStudent: false,\n",
    "    courses: [\"Math\", \"Science\"]\n",
    "};\n",
    "\n",
    "// Step 2: Converting the object to a JSON string\n",
    "const jsonString = JSON.stringify(person);\n",
    "console.log(\"JSON String:\", jsonString);\n",
    "\n",
    "// Step 3: Parsing the JSON string back into a JavaScript object\n",
    "const parsedPerson = JSON.parse(jsonString);\n",
    "console.log(\"Parsed Person Object:\", parsedPerson);\n",
    "\n",
    "// Accessing properties from the parsed object\n",
    "console.log(\"Name:\", parsedPerson.name);  // Output: Alice\n",
    "console.log(\"Age:\", parsedPerson.age);    // Output: 30\n"
   ]
  }
 ],
 "metadata": {
  "kernelspec": {
   "display_name": "Python 3",
   "language": "python",
   "name": "python3"
  },
  "language_info": {
   "codemirror_mode": {
    "name": "ipython",
    "version": 3
   },
   "file_extension": ".py",
   "mimetype": "text/x-python",
   "name": "python",
   "nbconvert_exporter": "python",
   "pygments_lexer": "ipython3",
   "version": "3.9.7"
  }
 },
 "nbformat": 4,
 "nbformat_minor": 2
}
