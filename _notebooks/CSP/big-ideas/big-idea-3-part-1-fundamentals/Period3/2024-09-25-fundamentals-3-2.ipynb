{
 "cells": [
  {
   "cell_type": "raw",
   "metadata": {
    "vscode": {
     "languageId": "raw"
    }
   },
   "source": [
    "---\n",
    "toc: false\n",
    "comments: true\n",
    "layout: post\n",
    "title: 3.2 Data Abstraction\n",
    "description: Here, you will learn how to represent a list or string using a variable, generalize data sources through variables, use abstraction to manage complexity in a program, and explain how abstraction manages complexity.\n",
    "permalink: /csp/big-idea/p3/3-2/\n",
    "categories: [CSP Big Ideas]\n",
    "author:  Gabriela, Jowan, Michelle\n",
    "menu: nav/csp_units/csp_unit3_p3_fundamentals.html\n",
    "---"
   ]
  },
  {
   "cell_type": "markdown",
   "metadata": {},
   "source": [
    "## Popcorn Hack #1: create a dictionary, update an item, and add an item"
   ]
  },
  {
   "cell_type": "code",
   "execution_count": null,
   "metadata": {},
   "outputs": [],
   "source": [
    "# Creating dictionary \n",
    "person = {\n",
    "    \"name\": \"Alice\",\n",
    "    \"age\": 25,\n",
    "    \"is_student\": False\n",
    "}\n",
    "\n",
    "person[\"age\"] = 26     # Update item\n",
    "\n",
    "# Adding an item\n",
    "person[\"David\"] = {\n",
    "    \"name\": \"David\",   \n",
    "    \"age\": 22,\n",
    "    \"is_student\": True\n",
    "} "
   ]
  },
  {
   "cell_type": "markdown",
   "metadata": {},
   "source": [
    "## Popcorn Hack #2: create a simple python script to add two integers"
   ]
  },
  {
   "cell_type": "code",
   "execution_count": null,
   "metadata": {},
   "outputs": [],
   "source": [
    "\n",
    "def add_two_numbers(num1, num2):\n",
    "    \"\"\"Function to add two integers.\"\"\"\n",
    "    return num1 + num2\n",
    "\n",
    "# Get user input\n",
    "try:\n",
    "    # Prompt the user for two integers\n",
    "    first_number = int(input(\"Enter the first integer: \"))\n",
    "    second_number = int(input(\"Enter the second integer: \"))\n",
    "\n",
    "    # Call the function to add the numbers\n",
    "    result = add_two_numbers(first_number, second_number)\n",
    "\n",
    "    # Print the result\n",
    "    print(f\"The sum of {first_number} and {second_number} is: {result}\")\n",
    "\n",
    "except ValueError:\n",
    "    print(\"Please enter valid integers.\")\n"
   ]
  },
  {
   "cell_type": "markdown",
   "metadata": {},
   "source": [
    "# Popcorn Hack #3: # Simple Python script to count the length of a string\n"
   ]
  },
  {
   "cell_type": "code",
   "execution_count": null,
   "metadata": {},
   "outputs": [],
   "source": [
    "# Get user input\n",
    "user_string = input(\"Please enter a string: \")\n",
    "\n",
    "# Count the length of the string\n",
    "string_length = len(user_string)\n",
    "\n",
    "# Print the length of the string\n",
    "print(f\"The length of the entered string is: {string_length}\")\n"
   ]
  },
  {
   "cell_type": "markdown",
   "metadata": {},
   "source": [
    "# Popcorn Hack #4: Simple JavaScript function to check for `null`(`none` in python)"
   ]
  },
  {
   "cell_type": "code",
   "execution_count": null,
   "metadata": {
    "vscode": {
     "languageId": "javascript"
    }
   },
   "outputs": [],
   "source": [
    "%% javascript\n",
    "\n",
    "function isNull(val) {\n",
    "    return val === null ? \"No value\" : \"Value exists\";\n",
    "}\n",
    "\n",
    "// Test the function\n",
    "console.log(isNull(null));  // Output: No value\n",
    "console.log(isNull(10));    // Output: Value exists\n"
   ]
  },
  {
   "cell_type": "code",
   "execution_count": null,
   "metadata": {
    "vscode": {
     "languageId": "javascript"
    }
   },
   "outputs": [],
   "source": []
  },
  {
   "cell_type": "markdown",
   "metadata": {},
   "source": [
    "## Homework: \n",
    "1. Create a dictionary with at least 3 keys and 2 items. Print the dictionary.\n",
    "2. Start with this dictionary: `person = {\"name\": \"Alice\", \"age\": 30}`\n",
    "    - Update the age to 31\n",
    "    - print the updated dictionary."
   ]
  },
  {
   "cell_type": "markdown",
   "metadata": {},
   "source": [
    "# Grading for Hacks and Homework\n",
    "- all requirements must be completed.\n",
    "- be creative! go above and beyond when possible.\n",
    "- show understanding by explaining your work.\n",
    "\n",
    "### Rubric:\n",
    "**Assignment**          | **Weightage** | **Grade** | \n",
    "|-------------------------|---------------|-----------|\n",
    "| Popcorn Hack #1  | 15            | ___       |\n",
    "| Popcorn Hack #2  | 15            | ___       |\n",
    "| Popcorn Hack #3  | 15            | ___       | \n",
    "| Popcorn Hack #4  | 15            | ___       | \n",
    "| Homework Hack #1 | 15            | ___       |\n",
    "| Homework Hack #2 | 15            | ___       | \n",
    "| **Total**        | **90**       | ___       |"
   ]
  }
 ],
 "metadata": {
  "language_info": {
   "name": "python"
  }
 },
 "nbformat": 4,
 "nbformat_minor": 2
}
