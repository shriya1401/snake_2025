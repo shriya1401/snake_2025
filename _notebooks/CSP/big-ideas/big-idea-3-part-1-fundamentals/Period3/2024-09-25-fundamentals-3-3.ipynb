{
 "cells": [
  {
   "cell_type": "raw",
   "metadata": {},
   "source": [
    "---\n",
    "toc: false\n",
    "comments: true\n",
    "layout: post\n",
    "permalink: /csp/big-idea/p3/3-3\n",
    "title: 3.3 Mathematical Expressions (Period 3)\n",
    "description: Student led teaching on  Mathematical Expressions. Learn how mathematical expressions involve using arithmetic operators (like addition, subtraction, multiplication, and division) to perform calculations\n",
    "categories: [CSP Big Ideas]\n",
    "author: Trevor V, Wyatt Z, Max G, Johan M, Luke S\n",
    "menu: /nav/csp_units/csp_unit3_p3_fundamentals.html\n",
    "---"
   ]
  },
  {
   "cell_type": "markdown",
   "metadata": {},
   "source": [
    "# Mathamatical Operations\n",
    "\n",
    "# Understanding Mathematical Operations in Code\n",
    "\n",
    "Mathematical operations are fundamental to programming, enabling us to perform calculations, manipulate data, and solve complex problems. Here’s a quick overview of how these operations work in code.\n",
    "\n",
    "## Basic Operations\n",
    "\n",
    "1. **Addition (+)**: Combines values.\n",
    "   ```python\n",
    "   result = 5 + 3  # result is 8\n",
    "    ```\n",
    "\n",
    "2. **Subtraction (-)**: Calculates the difference.\n",
    "    ```python\n",
    "    result = 10 - 4  # result is 6\n",
    "    ```\n",
    "\n",
    "3. **Multiplication (*)**: Scales a value.\n",
    "    ```python\n",
    "    result = 7 * 6  # result is 42\n",
    "    ```\n",
    "\n",
    "4. **Exponentiation (^)**: Raising a number to a power can be done using the `**` operator.\n",
    "    ```python\n",
    "    result = 2 ** 3  # result is 8\n",
    "    ```\n",
    "\n",
    "5. **Modulus (%)**: Finds the remainder of division.\n",
    "    ```python\n",
    "    result = 10 % 3  # result is 1\n",
    "    ```"
   ]
  },
  {
   "cell_type": "markdown",
   "metadata": {},
   "source": [
    "# Add subtract multiply and divde functions"
   ]
  },
  {
   "cell_type": "code",
   "execution_count": 4,
   "metadata": {
    "vscode": {
     "languageId": "javascript"
    }
   },
   "outputs": [
    {
     "data": {
      "application/javascript": "\nfunction add(a, b) {\n    return a+b\n}\n\nfunction subtract(a, b) {\n    return a-b\n}\n\nfunction multiply(a, b) {\n    return a*b\n}\n\nfunction divide(a, b) {\n    return a/b\n}\n\nfunction mod(a, b) {\n    return a % b\n}\n\nfunction exponent(a, b) {\n    return a^b\n}\n",
      "text/plain": [
       "<IPython.core.display.Javascript object>"
      ]
     },
     "metadata": {},
     "output_type": "display_data"
    }
   ],
   "source": [
    "%%javascript\n",
    "\n",
    "function add(a, b) {\n",
    "    return a+b\n",
    "}\n",
    "\n",
    "function subtract(a, b) {\n",
    "    return a-b\n",
    "}\n",
    "\n",
    "function multiply(a, b) {\n",
    "    return a*b\n",
    "}\n",
    "\n",
    "function divide(a, b) {\n",
    "    return a/b\n",
    "}\n",
    "\n",
    "function mod(a, b) {\n",
    "    return a % b\n",
    "}\n",
    "\n",
    "function exponent(a, b) {\n",
    "    return a^b\n",
    "}"
   ]
  },
  {
   "cell_type": "code",
   "execution_count": 2,
   "metadata": {},
   "outputs": [
    {
     "name": "stdout",
     "output_type": "stream",
     "text": [
      "The 9th Fibonacci number is: 21\n"
     ]
    }
   ],
   "source": [
    "def fibonacci(n):\n",
    "    # Handle the base cases. These are also terms that have to be followed by the code.\n",
    "    if n <= 0:\n",
    "        return \"Input should be a positive integer.\"\n",
    "    elif n == 1:\n",
    "        return 0\n",
    "    elif n == 2:\n",
    "        return 1\n",
    "    \n",
    "    # Start with the first two Fibonacci numbers\n",
    "    fib_1, fib_2 = 0, 1\n",
    "    \n",
    "    # Use an iterative approach to find the nth Fibonacci number. This is the function that models the fibbonacci sequence.\n",
    "    for i in range(3, n+1):\n",
    "        fib_next = fib_1 + fib_2\n",
    "        fib_1, fib_2 = fib_2, fib_next\n",
    "    \n",
    "    return fib_2\n",
    "\n",
    "n = 9  \n",
    "result = fibonacci(n)\n",
    "print(f\"The {n}th Fibonacci number is: {result}\")"
   ]
  }
 ],
 "metadata": {
  "kernelspec": {
   "display_name": "Python 3",
   "language": "python",
   "name": "python3"
  },
  "language_info": {
   "codemirror_mode": {
    "name": "ipython",
    "version": 3
   },
   "file_extension": ".py",
   "mimetype": "text/x-python",
   "name": "python",
   "nbconvert_exporter": "python",
   "pygments_lexer": "ipython3",
   "version": "3.10.12"
  }
 },
 "nbformat": 4,
 "nbformat_minor": 2
}
