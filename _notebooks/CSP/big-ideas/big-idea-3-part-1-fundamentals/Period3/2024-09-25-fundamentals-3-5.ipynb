{
 "cells": [
  {
   "cell_type": "raw",
   "metadata": {},
   "source": [
    "---\n",
    "toc: false\n",
    "comments: true\n",
    "permalink: /csp/big-idea/p3/3-5\n",
    "layout: post\n",
    "title: 3.5 Booleans (Period 3)\n",
    "description: Student led teaching on Booleans. Learn how booleans are used in decision-making with logical operators. \n",
    "categories: [CSP Big Ideas]\n",
    "author: Trevor V, Wyatt Z, Max G, Johan M, Luke S\n",
    "menu: /nav/csp_units/csp_unit3_p3_fundamentals.html\n",
    "---"
   ]
  },
  {
   "cell_type": "markdown",
   "metadata": {},
   "source": [
    "# De Morgan's Law\n",
    "\n",
    "---\n",
    "\n",
    "#### According to De Morgan's first law, the complement of the union of two sets A and B is equal to the intersection of the complement of the sets A and B\n",
    "\n",
    "## Examples:\n",
    "\n",
    "\n",
    "> \"I don't like chocolate or vanilla\" **=** \"I do not like chocolate and I do not like vanilla\" \n",
    "\n",
    "`In this example, both statements are logically the same`\n",
    "\n",
    "\n",
    "![De Morgan's Law](https://blog.penjee.com/wp-content/uploads/2016/12/demorgans-law-formula_all.png)\n"
   ]
  },
  {
   "cell_type": "code",
   "execution_count": null,
   "metadata": {
    "vscode": {
     "languageId": "javascript"
    }
   },
   "outputs": [],
   "source": []
  },
  {
   "cell_type": "markdown",
   "metadata": {},
   "source": [
    "# De Morgans Law in Code!"
   ]
  },
  {
   "cell_type": "markdown",
   "metadata": {},
   "source": [
    "## Javascript Example:"
   ]
  },
  {
   "cell_type": "code",
   "execution_count": 4,
   "metadata": {
    "vscode": {
     "languageId": "javascript"
    }
   },
   "outputs": [
    {
     "data": {
      "application/javascript": "\nlet x = 19;\nlet y = 50;\n\n// ! means not. So !true is false.\n\n// || means OR.\nif (!(x > 20 || y > 20)) {\n    console.log(\"I am the same condition as the one below!\")\n    //This will not be true since x is less than 20\n}\n\n// && means AND.\nif (!(x > 20) && !(y > 20)) {\n    console.log(\"I am the same condition as the one above!\")\n    //This will also not be true since x is less than 20\n}\n\nx = 50\ny = 100\n\nif (!(x < 20 || y < 20)) {\n    console.log(\"I will be true since both is also greater than 20 now!\")\n    //This WILL be true since both variables are greater than 20\n}\n\n// && means AND.\nif (!(x < 20) && !(y < 20)) {\n    console.log(\"I am the same condition as the one above!\")\n    //This WILL be true since both variables are greater than 20\n}\n\n\n// In all, not(X OR Y) is the same as (not(x) AND not(Y))\n",
      "text/plain": [
       "<IPython.core.display.Javascript object>"
      ]
     },
     "metadata": {},
     "output_type": "display_data"
    }
   ],
   "source": [
    "%%javascript\n",
    "\n",
    "let x = 19;\n",
    "let y = 50;\n",
    "\n",
    "// ! means not. So !true is false.\n",
    "\n",
    "// || means OR.\n",
    "if (!(x > 20 || y > 20)) {\n",
    "    console.log(\"I am the same condition as the one below!\")\n",
    "    //This will not be true since x is less than 20\n",
    "}\n",
    "\n",
    "// && means AND.\n",
    "if (!(x > 20) && !(y > 20)) {\n",
    "    console.log(\"I am the same condition as the one above!\")\n",
    "    //This will also not be true since x is less than 20\n",
    "}\n",
    "\n",
    "x = 50\n",
    "y = 100\n",
    "\n",
    "if (!(x < 20 || y < 20)) {\n",
    "    console.log(\"I will be true since both is also greater than 20 now!\")\n",
    "    //This WILL be true since both variables are greater than 20\n",
    "}\n",
    "\n",
    "// && means AND.\n",
    "if (!(x < 20) && !(y < 20)) {\n",
    "    console.log(\"I am the same condition as the one above!\")\n",
    "    //This WILL be true since both variables are greater than 20\n",
    "}\n",
    "\n",
    "\n",
    "// In all, not(X OR Y) is the same as (not(x) AND not(Y))"
   ]
  },
  {
   "cell_type": "markdown",
   "metadata": {},
   "source": [
    "## Python Example:"
   ]
  },
  {
   "cell_type": "code",
   "execution_count": 8,
   "metadata": {},
   "outputs": [
    {
     "name": "stdout",
     "output_type": "stream",
     "text": [
      "I will be true since both x and y are greater than 20 now!\n",
      "I will also be true since both x and y are greater than 20 now!\n"
     ]
    }
   ],
   "source": [
    "x = 19\n",
    "y = 50\n",
    "\n",
    "if not (x > 20 or y > 20):\n",
    "    print(\"Im not gonna be true since X is less than 20\")\n",
    "    # This will not be true since x is less than 20\n",
    "\n",
    "if not (x > 20) and not (y > 20):\n",
    "    print(\"I am the same condition as the one above!\")\n",
    "    # This will also not be true since x is less than 20\n",
    "\n",
    "x = 50\n",
    "y = 100\n",
    "\n",
    "if not (x < 20 or y < 20):\n",
    "    print(\"I will be true since both x and y are greater than 20 now!\")\n",
    "    # This WILL be true since both variables are greater than 20\n",
    "\n",
    "if not (x < 20) and not (y < 20):\n",
    "    print(\"I will also be true since both x and y are greater than 20 now!\")\n",
    "    # This WILL be true since both variables are greater than 20\n",
    "\n",
    "# In all, not(X OR Y) is the same as (not(X) AND not(Y))"
   ]
  },
  {
   "cell_type": "markdown",
   "metadata": {},
   "source": [
    "# Python Truth Table"
   ]
  },
  {
   "cell_type": "markdown",
   "metadata": {},
   "source": [
    "## What is a Truth Table?\n",
    "\n",
    "A truth table is a table that displays the logical operations on input signals in a table format.\n",
    "\n",
    "![Truth Table](https://www.circuitbasics.com/wp-content/uploads/2020/06/OR-Truth-Table.png)\n",
    "\n",
    "- Remeber `||` means OR."
   ]
  },
  {
   "cell_type": "code",
   "execution_count": 8,
   "metadata": {},
   "outputs": [
    {
     "name": "stdout",
     "output_type": "stream",
     "text": [
      "|   A   |   B   |  A AND B  |  A OR B  |\n",
      "----------------------------------------\n",
      "| False | False | False |False |\n",
      "| False | True | False |True |\n",
      "| True | False | False |True |\n",
      "| True | True | True |True |\n"
     ]
    }
   ],
   "source": [
    "import itertools\n",
    "\n",
    "# Define the variables (A, B, C), 3 in this case\n",
    "variables = ['A', 'B']\n",
    "\n",
    "# Use itertools.product to generate the truth table\n",
    "truth_table_itertools = list(itertools.product([False, True], repeat=len(variables)))\n",
    "\n",
    "# Print the truth table\n",
    "print(\"|   A   |   B   |  A AND B  |  A OR B  |\")\n",
    "print(\"----------------------------------------\")\n",
    "for table in truth_table_itertools:\n",
    "    print(\"| \"+ str(table[0]) + \" | \" + str(table[1]) + \" | \" + str(table[0] and table[1]) + \" |\" + str(table[0] or table[1]) + \" |\")"
   ]
  },
  {
   "cell_type": "code",
   "execution_count": 9,
   "metadata": {},
   "outputs": [
    {
     "ename": "SyntaxError",
     "evalue": "invalid syntax (3858176096.py, line 1)",
     "output_type": "error",
     "traceback": [
      "\u001b[0;36m  Cell \u001b[0;32mIn[9], line 1\u001b[0;36m\u001b[0m\n\u001b[0;31m    // Example 1: Checking if a boolean is true\u001b[0m\n\u001b[0m    ^\u001b[0m\n\u001b[0;31mSyntaxError\u001b[0m\u001b[0;31m:\u001b[0m invalid syntax\n"
     ]
    }
   ],
   "source": [
    "// Example 1: Checking if a boolean is true\n",
    "var variableA = true;\n",
    "var variableB = false;\n",
    "\n",
    "if (variableA) {\n",
    "    console.log(\"VariableA is true!\");\n",
    "} else {\n",
    "    console.log(\"VariableA is false!\");\n",
    "}\n",
    "\n",
    "if (variableA && !variableB) {\n",
    "    console.log(\"VariableA is true and VariableB is false\");\n",
    "}\n",
    "\n",
    "if (variableA || variableB) {\n",
    "    console.log(\"Either VariableA or VariableB is true\");\n",
    "}\n"
   ]
  },
  {
   "cell_type": "markdown",
   "metadata": {},
   "source": [
    "# What Are Booleans?\n",
    "In programming, a Boolean is a data type that can hold one of two values: true or false. These values are used to represent truth values, which are fundamental in controlling the flow of a program.\n",
    "\n",
    "# Basic Boolean Values\n",
    "True: Indicates a logically true condition.\n",
    "False: Indicates a logically false condition.\n",
    "# Boolean Expressions\n",
    "A Boolean expression is a statement that evaluates either true or false. Common Boolean expressions often involve comparison or relational operators, such as:\n",
    "\n",
    "Equal to (==)\n",
    "\n",
    "Not equal to (!=)\n",
    "\n",
    "Greater than (>)\n",
    "\n",
    "Less than (<)\n",
    "\n",
    "Greater than or equal to (>=)\n",
    "\n",
    "Less than or equal to (<=)\n",
    "\n"
   ]
  },
  {
   "cell_type": "code",
   "execution_count": 8,
   "metadata": {
    "vscode": {
     "languageId": "javascript"
    }
   },
   "outputs": [
    {
     "ename": "SyntaxError",
     "evalue": "invalid syntax (1066267015.py, line 1)",
     "output_type": "error",
     "traceback": [
      "\u001b[0;36m  Cell \u001b[0;32mIn[8], line 1\u001b[0;36m\u001b[0m\n\u001b[0;31m    var number = 1;\u001b[0m\n\u001b[0m        ^\u001b[0m\n\u001b[0;31mSyntaxError\u001b[0m\u001b[0;31m:\u001b[0m invalid syntax\n"
     ]
    }
   ],
   "source": [
    "// booleans in javascript\n",
    "var number = 1;\n",
    "\n",
    "if (number > 10) {\n",
    "    console.log(\"Number is greater than ten!\");\n",
    "} else {\n",
    "    console.log(\"Number is not greater than ten!\");\n",
    "}"
   ]
  },
  {
   "cell_type": "code",
   "execution_count": 10,
   "metadata": {
    "vscode": {
     "languageId": "javascript"
    }
   },
   "outputs": [
    {
     "ename": "SyntaxError",
     "evalue": "invalid syntax (3860859347.py, line 1)",
     "output_type": "error",
     "traceback": [
      "\u001b[0;36m  Cell \u001b[0;32mIn[10], line 1\u001b[0;36m\u001b[0m\n\u001b[0;31m    //Example of using Booleans with numbers in Python\u001b[0m\n\u001b[0m    ^\u001b[0m\n\u001b[0;31mSyntaxError\u001b[0m\u001b[0;31m:\u001b[0m invalid syntax\n"
     ]
    }
   ],
   "source": [
    "//Example of using Booleans with numbers in Python\n",
    "\n",
    "var = 105  \n",
    "is_hot = temperature > 100 # Boolean expression\n",
    "\n",
    "if greater than 100:\n",
    "    print(\"It's a a big number day!\")\n",
    "else:\n",
    "    print(\"It's a small number\")"
   ]
  },
  {
   "cell_type": "code",
   "execution_count": null,
   "metadata": {
    "vscode": {
     "languageId": "javascript"
    }
   },
   "outputs": [],
   "source": []
  }
 ],
 "metadata": {
  "kernelspec": {
   "display_name": "Python 3",
   "language": "python",
   "name": "python3"
  },
  "language_info": {
   "codemirror_mode": {
    "name": "ipython",
    "version": 3
   },
   "file_extension": ".py",
   "mimetype": "text/x-python",
   "name": "python",
   "nbconvert_exporter": "python",
   "pygments_lexer": "ipython3",
   "version": "3.11.1"
  }
 },
 "nbformat": 4,
 "nbformat_minor": 2
}
