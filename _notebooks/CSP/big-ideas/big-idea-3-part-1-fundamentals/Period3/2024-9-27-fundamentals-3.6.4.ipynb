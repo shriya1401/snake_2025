{
 "cells": [
  {
   "cell_type": "markdown",
   "metadata": {},
   "source": [
    "---\n",
    "layout: post\n",
    "comments: true\n",
    "title: Programming Fundamentals - P3 \n",
    "permalink: /csp/big-idea/p3/3-6-4\n",
    "menu: nav/csp_units/csp_unit3_p3_fundamentals.html\n",
    "---"
   ]
  },
  {
   "cell_type": "code",
   "execution_count": null,
   "metadata": {},
   "outputs": [],
   "source": [
    "# Import necessary modules\n",
    "import sys  # Module to access system-related information\n",
    "\n",
    "# Function to ask a theoretical question and get a response\n",
    "def question_with_response(prompt):\n",
    "    answer = input(prompt)\n",
    "    return answer\n",
    "\n",
    "# Define the number of questions and initialize the correct answers counter\n",
    "questions = 5\n",
    "correct = 0\n",
    "\n",
    "# Personalized greeting message\n",
    "user_name = question_with_response(\"Enter your name: \")\n",
    "print('Hello, ' + user_name + \" you are running \" + sys.executable)\n",
    "ready = question_with_response(\"Are you ready to take a test on Python conditionals? (yes/no): \")\n",
    "\n",
    "# HOMEWORK: Come up with different types of questions\n",
    "\n",
    "# Question 1: Relational Operators\n",
    "q1 = question_with_response(\"1. Which of the following is the relational operator for 'greater than'? (a) > (b) < (c) = : \")\n",
    "if q1.lower() == \"a\":\n",
    "    print(\"Correct!\")\n",
    "    correct += 1\n",
    "else:\n",
    "    print(\"Incorrect. The correct answer is (a) >.\")\n",
    "\n",
    "# Question 2: Logical Operators\n",
    "q2 = question_with_response(\"2. Which logical operator checks if both conditions are true? (a) or (b) and (c) not : \")\n",
    "if q2.lower() == \"b\":\n",
    "    print(\"Correct!\")\n",
    "    correct += 1\n",
    "else:\n",
    "    print(\"Incorrect. The correct answer is (b) and.\")\n",
    "\n",
    "# Question 3: Conditional Expressions\n",
    "q3 = question_with_response(\"3. What will be the result of this expression: 5 < 8 and 7 > 6? (a) True (b) False : \")\n",
    "if q3.lower() == \"a\":\n",
    "    print(\"Correct! 5 is less than 8 and 7 is greater than 6, so the result is True.\")\n",
    "    correct += 1\n",
    "else:\n",
    "    print(\"Incorrect. The correct answer is (a) True.\")\n",
    "\n",
    "# Question 4: The `else` Statement\n",
    "q4 = question_with_response(\"4. When is the `else` block executed? (a) When the `if` condition is true (b) When the `if` condition is false (c) When the `elif` condition is true : \")\n",
    "if q4.lower() == \"b\":\n",
    "    print(\"Correct! The `else` block is executed when the `if` condition is false.\")\n",
    "    correct += 1\n",
    "else:\n",
    "    print(\"Incorrect. The correct answer is (b) When the `if` condition is false.\")\n",
    "\n",
    "# Question 5: Multiple Conditions\n",
    "q5 = question_with_response(\"5. What does this statement do: if x > 10 and y < 5: (a) It checks if both x is greater than 10 and y is less than 5 (b) It checks if either x is greater than 10 or y is less than 5 (c) It will always return True : \")\n",
    "if q5.lower() == \"a\":\n",
    "    print(\"Correct! The `and` operator checks if both conditions are true.\")\n",
    "    correct += 1\n",
    "else:\n",
    "    print(\"Incorrect. The correct answer is (a) It checks if both x is greater than 10 and y is less than 5.\")\n",
    "\n",
    "# Display the final score\n",
    "print(user_name + \", you scored \" + str(correct) + \"/\" + str(questions))\n",
    "\n"
   ]
  }
 ],
 "metadata": {
  "kernelspec": {
   "display_name": "Python 3.12.5 64-bit",
   "language": "python",
   "name": "python3"
  },
  "language_info": {
   "name": "python",
   "version": "3.12.5"
  },
  "vscode": {
   "interpreter": {
    "hash": "b0fa6594d8f4cbf19f97940f81e996739fb7646882a419484c72d19e05852a7e"
   }
  }
 },
 "nbformat": 4,
 "nbformat_minor": 2
}
