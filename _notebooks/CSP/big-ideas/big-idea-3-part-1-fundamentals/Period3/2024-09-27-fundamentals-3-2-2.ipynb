{
 "cells": [
  {
   "cell_type": "raw",
   "metadata": {
    "vscode": {
     "languageId": "raw"
    }
   },
   "source": [
    "---\n",
    "toc: false\n",
    "comments: true\n",
    "layout: post\n",
    "title: 3.2.2 Data Abstraction Part 2\n",
    "description: \n",
    "permalink: /csp/big-idea/p3/3-2-2\n",
    "categories: [CSP Big Ideas]\n",
    "author:  Gabriela Connelly, Michelle Kuruvilla\n",
    "menu: nav/csp_units/csp_unit3_p3_fundamentals.html\n",
    "---"
   ]
  },
  {
   "cell_type": "markdown",
   "metadata": {},
   "source": [
    "## Tuples\n",
    "\n",
    "\n",
    "A **tuple** is an immutable ordered collection of elements. Unlike lists, tuples cannot be modified after their creation, making them useful for storing fixed collections of items.\n"
   ]
  },
  {
   "cell_type": "code",
   "execution_count": null,
   "metadata": {},
   "outputs": [],
   "source": [
    "# Example of tuple operations in Python\n",
    "\n",
    "\n",
    "# Creating a tuple\n",
    "my_tuple = (10, 20, 30, \"Hello\")\n",
    "print(\"Initial Tuple:\", my_tuple)  # Output: Initial Tuple: (10, 20, 30, \"Hello\")\n",
    "\n",
    "\n",
    "# Accessing elements\n",
    "first_element = my_tuple[0]  # 10\n",
    "print(\"First Element:\", first_element)  # Output: First Element: 10\n",
    "\n",
    "\n",
    "# Length of the tuple\n",
    "length = len(my_tuple)\n",
    "print(\"Length of the Tuple:\", length)  # Output: Length of the Tuple: 4\n",
    "\n",
    "\n",
    "# Concatenation\n",
    "another_tuple = (40, 50)\n",
    "concatenated = my_tuple + another_tuple\n",
    "print(\"Concatenated Tuple:\", concatenated)  # Output: Concatenated Tuple: (10, 20, 30, \"Hello\", 40, 50)\n",
    "\n",
    "\n",
    "# Repetition\n",
    "repeated = my_tuple * 2\n",
    "print(\"Repeated Tuple:\", repeated)  # Output: Repeated Tuple: (10, 20, 30, \"Hello\", 10, 20, 30, \"Hello\")\n",
    "\n",
    "\n",
    "# Attempting to modify a tuple (will raise an error)\n",
    "# Uncommenting the line below will result in a TypeError\n",
    "# my_tuple[1] = 25  # This will result in a TypeError\n"
   ]
  },
  {
   "cell_type": "code",
   "execution_count": null,
   "metadata": {
    "vscode": {
     "languageId": "javascript"
    }
   },
   "outputs": [],
   "source": [
    "%%javascript\n",
    "\n",
    "// Although JavaScript doesn't have a built-in tuple type,\n",
    "// we can use arrays to emulate tuple behavior.\n",
    "\n",
    "\n",
    "// Creating a tuple-like array\n",
    "let myTuple = [10, \"Hello\", true];\n",
    "console.log(\"Initial Tuple:\", myTuple);  // Output: Initial Tuple: [10, \"Hello\", true]\n",
    "\n",
    "\n",
    "// Accessing elements\n",
    "let firstElement = myTuple[0];  // 10\n",
    "console.log(\"First Element:\", firstElement);  // Output: First Element: 10\n",
    "\n",
    "\n",
    "// Length of the tuple-like array\n",
    "let length = myTuple.length;\n",
    "console.log(\"Length of the Tuple-like Array:\", length);  // Output: Length of the Tuple-like Array: 3\n",
    "\n"
   ]
  },
  {
   "cell_type": "markdown",
   "metadata": {},
   "source": [
    "## Dictionaries\n",
    "A dictionary is a collection of key-value pairs, where each key is unique. It allows you to store and retrieve data based on a key rather than an index, like in a list."
   ]
  },
  {
   "cell_type": "code",
   "execution_count": null,
   "metadata": {},
   "outputs": [],
   "source": [
    "person = {\n",
    "    \"name\": \"Alice\",\n",
    "    \"age\": 25,\n",
    "    \"city\": \"New York\"\n",
    "}\n",
    "print(person[\"name\"])  # Output: Alice\n"
   ]
  },
  {
   "cell_type": "code",
   "execution_count": null,
   "metadata": {
    "vscode": {
     "languageId": "javascript"
    }
   },
   "outputs": [],
   "source": [
    "%%javascript\n",
    "\n",
    "// Define a dictionary (object) to store student information\n",
    "let students = {\n",
    "    \"Alice\": {\n",
    "        \"age\": 25,\n",
    "        \"isStudent\": true,\n",
    "        \"courses\": [\"Math\", \"Science\"]\n",
    "    },\n",
    "    \"Bob\": {\n",
    "        \"age\": 22,\n",
    "        \"isStudent\": true,\n",
    "        \"courses\": [\"History\", \"Art\"]\n",
    "    },\n",
    "    \"Charlie\": {\n",
    "        \"age\": 28,\n",
    "        \"isStudent\": false,\n",
    "        \"courses\": []\n",
    "    }\n",
    "};\n",
    "\n",
    "// Accessing information from the dictionary\n",
    "console.log(\"Alice's age: \", students[\"Alice\"][\"age\"]);  // Output: Alice's age: 25\n",
    "console.log(\"Bob's courses: \", students[\"Bob\"][\"courses\"]);  // Output: Bob's courses: [\"History\", \"Art\"]\n",
    "\n",
    "// Adding a new student to the dictionary\n",
    "students[\"David\"] = {\n",
    "    \"age\": 24,\n",
    "    \"isStudent\": true,\n",
    "    \"courses\": [\"Computer Science\", \"Physics\"]\n",
    "};\n",
    "\n",
    "// Modifying information\n",
    "students[\"Alice\"][\"isStudent\"] = false;  // Alice is no longer a student\n",
    "console.log(\"Updated Alice's information: \", students[\"Alice\"]);\n",
    "// Output: Updated Alice's information: {age: 25, isStudent: false, courses: [\"Math\", \"Science\"]}\n"
   ]
  },
  {
   "cell_type": "markdown",
   "metadata": {},
   "source": [
    "## Sets\n",
    "A set is an unordered collection of unique items. Sets are useful when you want to ensure that there are no duplicate elements.\n",
    "\n",
    "- Sets are unordered and unindexed. You cannot access elements by position.\n",
    "- Sets automatically remove duplicates."
   ]
  },
  {
   "cell_type": "code",
   "execution_count": null,
   "metadata": {},
   "outputs": [],
   "source": [
    "fruits = {\"apple\", \"banana\", \"orange\"}\n",
    "print(fruits)  # Output: {'banana', 'apple', 'orange'} (order is not guaranteed)\n",
    "\n",
    "# Adding a new item to a set\n",
    "fruits.add(\"grape\")\n",
    "print(fruits)  # Output: {'banana', 'grape', 'apple', 'orange'}\n",
    "\n",
    "# Duplicate items are ignored\n",
    "fruits.add(\"apple\")\n",
    "print(fruits)  # Output: {'banana', 'grape', 'apple', 'orange'}\n"
   ]
  },
  {
   "cell_type": "code",
   "execution_count": null,
   "metadata": {
    "vscode": {
     "languageId": "javascript"
    }
   },
   "outputs": [],
   "source": [
    "%%javascript\n",
    "\n",
    "// Creating a new Set with some initial values\n",
    "let fruits = new Set([\"apple\", \"banana\", \"orange\"]);\n",
    "\n",
    "// Adding values to the Set\n",
    "fruits.add(\"grape\");\n",
    "fruits.add(\"banana\");  // This won't be added again since it's a duplicate\n",
    "\n",
    "// Display the contents of the Set\n",
    "console.log(fruits);  // Output: Set(4) {\"apple\", \"banana\", \"orange\", \"grape\"}\n",
    "\n",
    "// Deleting an item from the Set\n",
    "fruits.delete(\"orange\");\n",
    "console.log(\"After deleting 'orange':\", fruits);  // Output: Set(3) {\"apple\", \"banana\", \"grape\"}\n"
   ]
  },
  {
   "cell_type": "markdown",
   "metadata": {},
   "source": [
    "## Booleans\n",
    "A boolean is a data type that can have one of two values: `True` or `False`. Booleans are commonly used in conditional statements to control the flow of programs.\n",
    "\n"
   ]
  },
  {
   "cell_type": "code",
   "execution_count": null,
   "metadata": {},
   "outputs": [],
   "source": [
    "is_sunny = True\n",
    "is_raining = False\n",
    "\n",
    "if is_sunny:\n",
    "    print(\"Go outside!\")  # Output: Go outside!\n"
   ]
  },
  {
   "cell_type": "code",
   "execution_count": null,
   "metadata": {
    "vscode": {
     "languageId": "javascript"
    }
   },
   "outputs": [],
   "source": [
    "%% javascript\n",
    "\n",
    "// Simple boolean values\n",
    "let isStudent = true;\n",
    "let isLoggedIn = false;\n",
    "\n",
    "// Check conditions with booleans\n",
    "if (isStudent) {\n",
    "    console.log(\"The user is a student.\");\n",
    "} else {\n",
    "    console.log(\"The user is not a student.\");\n",
    "}\n",
    "// Output: The user is a student.\n"
   ]
  },
  {
   "cell_type": "markdown",
   "metadata": {},
   "source": [
    "## None\n",
    "None is a special constant in Python that represents the absence of a value or a null value. It’s commonly used as a placeholder for optional or yet-to-be-assigned values.\n",
    "\n",
    "- None is often used to indicate \"no value\" or \"empty.\"\n"
   ]
  },
  {
   "cell_type": "code",
   "execution_count": null,
   "metadata": {},
   "outputs": [],
   "source": [
    "val = None\n",
    "print(val is None)  # Output: True\n"
   ]
  },
  {
   "cell_type": "code",
   "execution_count": null,
   "metadata": {
    "vscode": {
     "languageId": "javascript"
    }
   },
   "outputs": [],
   "source": [
    "let val = null;\n",
    "console.log(val === null);  // Output: true\n"
   ]
  }
 ],
 "metadata": {
  "language_info": {
   "name": "python"
  }
 },
 "nbformat": 4,
 "nbformat_minor": 2
}
