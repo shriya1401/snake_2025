{
 "cells": [
  {
   "cell_type": "raw",
   "metadata": {
    "vscode": {
     "languageId": "raw"
    }
   },
   "source": [
    "---\n",
    "toc: false\n",
    "comments: true\n",
    "layout: post\n",
    "title: 3.4 Strings Introduction\n",
    "description: Introductory page to strings\n",
    "permalink: /csp/big-idea/p3/3-4-0\n",
    "categories: [CSP Big Ideas]\n",
    "author:  Ahaan, Spencer, Vasanth, Xavier\n",
    "menu: nav/csp_units/csp_unit3_p3_fundamentals.html\n",
    "---"
   ]
  },
  {
   "cell_type": "markdown",
   "metadata": {},
   "source": [
    "## Strings\n",
    "Strings are one of the most common data types in programming languages. You can think of strings as the data type that stores text or characters within quotes. \n",
    "\n",
    "What the following lessons will teach you is how to create strings and then manipulate them to your liking. You'll then be tested on what you learned and your ability to use what you learned to do something entirely new in the hacks.\n",
    "\n",
    "For this introductory page, we'll go over characteristics of strings applicable by both Python & JS."
   ]
  },
  {
   "cell_type": "markdown",
   "metadata": {},
   "source": [
    "### Characteristics\n",
    "1. Strings are **immutable** This means once a string has been created, it can't be modified, requiring the programmer to create new strings when manipulating the original string to save the changes.\n",
    "\n",
    "2. Strings can be **indexed**. Indexing strings is the process of accessing a character or characters from a string. This is often helpful when we only want a key part of a string.\n",
    "\n",
    "3. Strings can be **concatenated**. Concatenating strings is the process of combining two strings together to make one new one.\n",
    "\n",
    "4. Strings use **methods/functions**. Methods or Functions allow us to manipulate strings in a variety of ways and for a variety of reasons."
   ]
  },
  {
   "cell_type": "markdown",
   "metadata": {},
   "source": [
    "There are further characteristics of strings, but one should get gist from the first four. Many of these characteristics are essential topics that we delve into more for both Python & JavaScript, such as concatenation and functions, and henceforth, are important to keep in mind.\n",
    "\n",
    "With this, you should be more than ready to take a look at the lessons."
   ]
  }
 ],
 "metadata": {
  "language_info": {
   "name": "python"
  }
 },
 "nbformat": 4,
 "nbformat_minor": 2
}
