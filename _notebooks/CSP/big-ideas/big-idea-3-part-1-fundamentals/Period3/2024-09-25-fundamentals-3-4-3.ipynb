{
 "cells": [
  {
   "cell_type": "raw",
   "metadata": {
    "vscode": {
     "languageId": "raw"
    }
   },
   "source": [
    "---\n",
    "toc: false\n",
    "comments: true\n",
    "layout: post\n",
    "title: 3.4.3 Javascript Strings\n",
    "description: This lesson is about how strings work in javascript.\n",
    "permalink: /csp/big-idea/p3/3-4-3\n",
    "categories: [CSP Big Ideas]\n",
    "author:  Ahaan, Spencer, Vasanth, Xavier\n",
    "menu: nav/csp_units/csp_unit3_p3_fundamentals.html\n",
    "---"
   ]
  },
  {
   "cell_type": "markdown",
   "metadata": {},
   "source": [
    "## Javascript Strings\n",
    "The concepts of Python Strings & Javascript Strings are the same, however the way these concepts are implemented across these two languages vary, and there are some important distinctions that'll be highlighted in this blog. If you haven't already, check out the first blog that goes into detail about what strings are as we won't be covering that here."
   ]
  },
  {
   "cell_type": "markdown",
   "metadata": {},
   "source": [
    "### Making Strings\n",
    "When it comes to making strings, there are three ways of going about it--- Each method requiring that you surround the text you want to make a string with these characters. These methods are listed below:\n",
    "\n",
    "Single Quotes ('...')\n",
    "Double Quotes (\"...\")\n",
    "Backticks     (`...`)\n",
    "\n",
    "Single Quotes and Double Quotes are the most conventionally used and serve the same purpose. Surrounding text as to delineate them as strings and not another data type. So most of the time, you'll be using either single or double quotes.\n",
    "\n",
    "However, the last option, strings that use backticks (known as template strings), are also very important to know and a proficient coder in Javascript will take advantage of this type of string when the opportunity arises. We'll come back to this string later, but what you should know now is that it allows you to implant javascript code that isn't inherently a string into your string, such as a variable.\n",
    "\n",
    "To confirm whether a variable is a string or not, you can put the potential string inside typeof().\n"
   ]
  },
  {
   "cell_type": "code",
   "execution_count": null,
   "metadata": {
    "vscode": {
     "languageId": "javascript"
    }
   },
   "outputs": [],
   "source": [
    "// Single Quotes\n",
    "let greeting = 'Hello World.'\n",
    "\n",
    "// Double Quotes\n",
    "let age = \"15\"\n",
    "\n",
    "// Checking if string\n",
    "typeof(greeting)\n",
    "typeof(age)"
   ]
  },
  {
   "cell_type": "markdown",
   "metadata": {},
   "source": [
    "### Concatenation\n",
    "Concatenation is the combining or joining of different strings. It allows us to take one string and merge it with another. Refer to the example below:"
   ]
  },
  {
   "cell_type": "code",
   "execution_count": null,
   "metadata": {
    "vscode": {
     "languageId": "javascript"
    }
   },
   "outputs": [],
   "source": [
    "let greeting = \"Hello \" + \"World\";\n",
    "console.log(greeting); // Outputs: Hello World"
   ]
  },
  {
   "cell_type": "markdown",
   "metadata": {},
   "source": [
    "The idea behind concatenation serves to solve the problem that often we need to separate strings to store dynamic data (such as data inputted by the user) and combine them to create one coherent string."
   ]
  },
  {
   "cell_type": "code",
   "execution_count": null,
   "metadata": {
    "vscode": {
     "languageId": "javascript"
    }
   },
   "outputs": [],
   "source": [
    "let userName = prompt(\"Enter your name: \");\n",
    "let userAge = prompt(\"Enter your age: \");\n",
    "\n",
    "let message = \"Your name is \" + userName + \" and you are \" + userAge + \" years old.\""
   ]
  },
  {
   "cell_type": "markdown",
   "metadata": {},
   "source": [
    "Now, while concatenation is great to know & understand, when coding in Javascript, there has never been a time where I have actually used concatenation in a real project, simply because of how messy and inefficient it is compared to **string interpolation**. \n"
   ]
  },
  {
   "cell_type": "markdown",
   "metadata": {},
   "source": [
    "### String Interpolation\n",
    "String interpolation brings us back to the sacred backticks or template string! Instead of joining different strings together, template strings allow us to have variables and other javascript expressions directly embedded into our string.\n",
    "\n",
    "The following example is the same as the one above, but we utilize interpolation instead of concatenation:"
   ]
  },
  {
   "cell_type": "code",
   "execution_count": null,
   "metadata": {
    "vscode": {
     "languageId": "javascript"
    }
   },
   "outputs": [],
   "source": [
    "let userName = prompt(\"Enter your name: \");\n",
    "let userAge = prompt(\"Enter your age: \");\n",
    "\n",
    "let message = `Your name is ${userName} and you are ${userAge} years old.`"
   ]
  },
  {
   "cell_type": "markdown",
   "metadata": {},
   "source": [
    "As you can see for yourself, interpolation is much cleaner & efficient than concatenation. The only things you need to do in order to interpolate a string is to:\n",
    "1. Use backticks\n",
    "2. Surround the variable or javascript expression in **${variable_here}**"
   ]
  },
  {
   "cell_type": "markdown",
   "metadata": {},
   "source": [
    "### Popcorn Hack #1\n",
    "> - Define three variables: name, age, city\n",
    "> - Combine these variables into the following message: Hello, my name is [*name*]. I am [*age*] years old and I live in [*city*].\n",
    "> - Do this exercise using both concatenation and interpolation"
   ]
  },
  {
   "cell_type": "markdown",
   "metadata": {},
   "source": [
    "<details>\n",
    "<summary>See Example Answer</summary>\n",
    "<pre><code>\n",
    "let name = Xavier\n",
    "let age = 15\n",
    "let city = San Diego\n",
    "\n",
    " //Concatenation\n",
    "let concatenatedMessage = \"Hello my name is \" + name + \". I am \" + age + \" years old and I live in \" + city + \".\"\n",
    "\n",
    "//Interpolation\n",
    "let Interpolatedmessage = \"Hello my name is ${name}. I am ${age} years old and I live in ${city}.\n",
    "    \n",
    "</code></pre>\n",
    "</details>"
   ]
  },
  {
   "cell_type": "markdown",
   "metadata": {},
   "source": [
    "### Indexing a Character\n",
    "\n",
    "Indexing a character is just a more technically correct way of saying how to access a character within a string. Each character in a string is assigned a number that we can use to access it individually."
   ]
  },
  {
   "cell_type": "code",
   "execution_count": null,
   "metadata": {
    "vscode": {
     "languageId": "javascript"
    }
   },
   "outputs": [],
   "source": [
    "let state = \"California\"\n",
    "\n",
    "console.log(state[0]) //Output: C\n",
    "console.log(state.at(0)) //Output: C\n",
    "\n",
    "console.log(state[-1]) //Output: undefined\n",
    "console.log(state.at(-1)) //Output: a"
   ]
  },
  {
   "cell_type": "markdown",
   "metadata": {},
   "source": [
    "If you recall from the Python Strings Lesson, the first character starts at 0 and we can only count backwards with negative numbers. For JavaScript, there are two ways to access a character:\n",
    "\n",
    "1. brackets: **[#]**\n",
    "2. at method: **.at(#)**\n",
    "\n",
    "I personally recommend using .at() as brackets can't do negative numbers (outputs undefined) unless you take a few extra steps, making it unreasonably more complex.\n",
    "\n",
    "However, unlike Python, we cannot index multiple characters through the methods listed above. It's not as simple unfortunately as [0:7]. This leads us into our next section on how to index multiple characters through **substrings**"
   ]
  },
  {
   "cell_type": "markdown",
   "metadata": {},
   "source": [
    "### Substrings\n",
    "There are 3 ways to retrieve a substring in JavaScript: ```substring```, ```substr```, & ```slice```\n",
    "\n",
    "For this blog post, we'll be exclusively covering ```slice``` which is arguably the most flexible of the three options. Feel free to look into the others, but keep in mind slice can do anything the other methods can and more.\n",
    "\n",
    "Substrings is a part of a string that we have taken using the **slice** function. It allows us to take more than one character as indexing allows.\n",
    "\n",
    "The slice() method extracts characters from a string between two specified indices and returns a new string. It takes two parameters:\n",
    "- The starting index (inclusive)\n",
    "- The ending index (exclusive)\n"
   ]
  },
  {
   "cell_type": "code",
   "execution_count": null,
   "metadata": {
    "vscode": {
     "languageId": "javascript"
    }
   },
   "outputs": [],
   "source": [
    "let message = \"Hello, World!\";\n",
    "\n",
    "let greeting = message.slice(0, 5); //Output: Hello\n",
    "let planet = message.slice(-6,-1); //Output: World"
   ]
  },
  {
   "cell_type": "markdown",
   "metadata": {},
   "source": [
    "When given a lot of data that is in the form of text (which it often is), utilizing this ability to extract certain portions of text from strings via slicing will serve to be vital."
   ]
  },
  {
   "cell_type": "markdown",
   "metadata": {},
   "source": [
    "### Popcorn Hack #2\n",
    "> You are given a string \"The quick brown fox jumps over the lazy dog\". Your task is to write code that uses the slice() method to:\n",
    "> - Extract the word \"quick\"\n",
    "> - Extract the word \"lazy\" using a negative starting index\n",
    "> - Extract everything from the word \"fox\" to the end of the sentence\n",
    "> - Output these extractions at the end of the code"
   ]
  },
  {
   "cell_type": "markdown",
   "metadata": {},
   "source": [
    "<details>\n",
    "<summary>See Example Answer</summary>\n",
    "<pre><code>\n",
    "//Define string\n",
    "let str = \"The quick brown fox jumps over the lazy dog\"\n",
    "\n",
    "//Extraction\n",
    "let wordOne = str.slice(4,9);\n",
    "let wordTwo = str.slice(-8,-4);\n",
    "let sentence = str.slice(16);\n",
    "\n",
    "//Output\n",
    "console.log(wordOne)\n",
    "console.log(wordTwo)\n",
    "console.log(sentence)\n",
    "    \n",
    "</code></pre>\n",
    "</details>"
   ]
  },
  {
   "cell_type": "markdown",
   "metadata": {},
   "source": [
    "### Escape Characters\n",
    "The \\ is often known as the escape character as inputting it into a string allows you to temporarily escape the string and add something to the string that isn't just text (or text that can't be added conventionally).\n",
    "\n",
    "One of the most common use cases of the escape character is making a new line:"
   ]
  },
  {
   "cell_type": "code",
   "execution_count": null,
   "metadata": {
    "vscode": {
     "languageId": "javascript"
    }
   },
   "outputs": [],
   "source": [
    "let greeting = \"Hello\\nWorld\""
   ]
  },
  {
   "cell_type": "markdown",
   "metadata": {},
   "source": [
    "As you can see in the example above, one ought only add a \\ then an n afterwards to create a new line.\n",
    "\n",
    "\n",
    "Other uses of the escape character include adding an actual slash into the string by doing ```\\\\``` or adding a tab by doing ```\\t```. There are plenty more examples of what escape characters can do & I encourage you look into them."
   ]
  },
  {
   "cell_type": "markdown",
   "metadata": {},
   "source": [
    "### String Methods\n",
    "You've already seen an example of a string method (The ```slice``` function), and what methods fundamentally are, are functions that can change or manipulate a string in a variety of ways.\n",
    "\n",
    "I've listed some examples below, but there are countless more that can be utilized."
   ]
  },
  {
   "cell_type": "code",
   "execution_count": null,
   "metadata": {
    "vscode": {
     "languageId": "javascript"
    }
   },
   "outputs": [],
   "source": [
    "let state = \"TeXas\";\n",
    "\n",
    "// Capitalize string\n",
    "let capitalize = state.toUpperCase(); //Output: TEXAS\n",
    "\n",
    "// Lowercase string\n",
    "let lowercase = state.toLowerCase(); //Output: texas\n",
    "\n",
    "\n",
    "// Remove added spaces\n",
    "let stateCapital = \"    Austin    \";\n",
    "let trim = stateCapital.trim() //Output: Austin\n",
    "\n",
    "\n",
    "// Repeat ha three times\n",
    "console.log(\"ha\".repeat(3));  //Output: hahaha"
   ]
  },
  {
   "cell_type": "markdown",
   "metadata": {},
   "source": [
    "### Popcorn Hack #3\n",
    ">Examine the following string: \"Spain, Song Dynasty, Aztecs, Byzantine Empire\"\n",
    "\n",
    ">Using a string method(s), make a program that replaces Spain with \"Al-Andalus\" and \"Aztecs\" with \"The Triple Alliance\" and then outputs the updated string at the end."
   ]
  },
  {
   "cell_type": "markdown",
   "metadata": {},
   "source": [
    "<details>\n",
    "<summary>See Example Answer</summary>\n",
    "<pre><code>\n",
    "let civilizations = \"Spain, Song Dynasty, Aztecs, Byzantine Empire\"\n",
    "\n",
    "let updatedCivilizations = civilizations.replace(\"Spain\", \"Al-Andalus\").replace(\"Aztecs\", \"The Triple Alliance\")\n",
    "\n",
    "console.log(updatedCivilizations)\n",
    "    \n",
    "</code></pre>\n",
    "</details>"
   ]
  },
  {
   "cell_type": "markdown",
   "metadata": {},
   "source": [
    "### Conclusion / Things to Research Further\n",
    "From making strings all the way to using functions to manipulate them, this lesson has covered all that you'll need to know when starting out with JavaScript strings. However, these are only the basics, and there is yet so much more that one can learn when it comes to strings. From comparing strings, converting strings to other data types, usage of regex, listless numbers of other string methods that are used, and much much more.\n",
    "\n",
    "That, I recommend you look into yourself. It's really quite interesting and will enchance your proficiencey of not only JavaScript but programming languages in general."
   ]
  }
 ],
 "metadata": {
  "kernelspec": {
   "display_name": "Python 3 (ipykernel)",
   "language": "python",
   "name": "python3"
  },
  "language_info": {
   "codemirror_mode": {
    "name": "ipython",
    "version": 3
   },
   "file_extension": ".py",
   "mimetype": "text/x-python",
   "name": "python",
   "nbconvert_exporter": "python",
   "pygments_lexer": "ipython3",
   "version": "3.12.1"
  }
 },
 "nbformat": 4,
 "nbformat_minor": 2
}
