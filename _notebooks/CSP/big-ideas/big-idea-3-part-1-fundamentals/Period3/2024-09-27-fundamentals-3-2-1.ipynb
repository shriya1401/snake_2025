{
 "cells": [
  {
   "cell_type": "raw",
   "metadata": {
    "vscode": {
     "languageId": "raw"
    }
   },
   "source": [
    "---\n",
    "toc: false\n",
    "comments: true\n",
    "layout: post\n",
    "title: 3.2.1 Data Types\n",
    "description: Student led teaching on data types and when to use them.\n",
    "permalink: /csp/big-idea/p3/3-2-1\n",
    "categories: [CSP Big Ideas]\n",
    "author:  Michelle Kurvilla\n",
    "menu: nav/csp_units/csp_unit3_p3_fundamentals.html\n",
    "---"
   ]
  },
  {
   "cell_type": "markdown",
   "metadata": {},
   "source": [
    "## Integers\n",
    "Integers are a important data type in computer science. They can be used to represent whole numbers, both positive and negative, including zero. In many programming languages, integers are used for counting, indexing, and various arithmetic operations.\n"
   ]
  },
  {
   "cell_type": "code",
   "execution_count": null,
   "metadata": {},
   "outputs": [],
   "source": [
    "# Example of integer operations in Python\n",
    "a = 5\n",
    "b = 3\n",
    "\n",
    "\n",
    "# Performing arithmetic operations\n",
    "sum_result = a + b       # 8\n",
    "product_result = a * b   # 15\n",
    "mod_result = a % b       # 2\n",
    "\n",
    "\n",
    "# Output the results\n",
    "print(\"Sum:\", sum_result)\n",
    "print(\"Product:\", product_result)\n",
    "print(\"Modulo:\", mod_result)\n",
    "\n",
    "\n"
   ]
  },
  {
   "cell_type": "code",
   "execution_count": null,
   "metadata": {
    "vscode": {
     "languageId": "javascript"
    }
   },
   "outputs": [],
   "source": [
    "// Integers in JavaScript\n",
    "\n",
    "\n",
    "// In JavaScript, integers are part of the broader \"Number\" type.\n",
    "// All numbers, whether integers or floating-point, are represented as a \"Number\".\n",
    "\n",
    "// Properties of Integers:\n",
    "console.log(\"Properties of Integers in JavaScript:\");\n",
    "console.log(\"1. Whole numbers without any decimal point.\");\n",
    "console.log(\"2. Represented as the Number type.\");\n",
    "console.log(\"3. Safe integers range from -(2^53 - 1) to (2^53 - 1).\");\n",
    "\n",
    "\n",
    "// Common Operations on Integers:\n",
    "let a = 5;\n",
    "let b = 3;\n",
    "\n",
    "\n",
    "// Performing arithmetic operations\n",
    "let sum = a + b;           // Addition\n",
    "let product = a * b;       // Multiplication\n",
    "let division = a / b;      // Division\n",
    "let mod = a % b;           // Modulo\n",
    "\n",
    "\n",
    "// Outputting the results\n",
    "console.log(`Sum: ${sum}`);           // 8\n",
    "console.log(`Product: ${product}`);    // 15\n",
    "console.log(`Division: ${division}`);  // 1.6666666666666667\n",
    "console.log(`Modulo: ${mod}`);         // 2\n",
    "\n",
    "\n",
    "// Incrementing and decrementing\n",
    "a++;                              // a becomes 6\n",
    "b--;                              // b becomes 2\n",
    "console.log(`Incremented a: ${a}`); // 6\n",
    "console.log(`Decremented b: ${b}`); // 2\n",
    "\n",
    "\n",
    "// Using BigInt for very large integers\n",
    "let largeNumber = 123456789012345678901234567890n; // n suffix denotes BigInt\n",
    "let anotherBigInt = BigInt(98765432109876543210);\n",
    "let bigSum = largeNumber + anotherBigInt; // BigInt addition\n",
    "\n"
   ]
  },
  {
   "cell_type": "markdown",
   "metadata": {},
   "source": [
    "## Floating-Point Numbers\n",
    "\n",
    "Floating-point numbers represent real numbers that have a decimal point. They are used to approximate real numbers when dealing with fractional or very large values in programming.\n"
   ]
  },
  {
   "cell_type": "code",
   "execution_count": null,
   "metadata": {},
   "outputs": [],
   "source": [
    "# Example of floating-point operations in Python\n",
    "x = 5.75\n",
    "y = 3.4\n",
    "\n",
    "\n",
    "# Performing arithmetic operations\n",
    "sum_result = x + y            # 9.15\n",
    "product_result = x * y        # 19.55\n",
    "division_result = x / y       # 1.6911764705882353\n",
    "\n",
    "\n",
    "# Output the results\n",
    "print(\"Sum:\", sum_result)\n",
    "print(\"Product:\", product_result)\n",
    "print(\"Division:\", division_result)\n",
    "\n",
    "\n",
    "# Floating-point precision issue\n",
    "a = 0.1\n",
    "b = 0.2\n",
    "precision_issue = a + b        # 0.30000000000000004\n",
    "\n",
    "\n",
    "# Output the precision issue result\n",
    "print(\"Precision Issue (0.1 + 0.2):\", precision_issue)\n"
   ]
  },
  {
   "cell_type": "code",
   "execution_count": null,
   "metadata": {
    "vscode": {
     "languageId": "javascript"
    }
   },
   "outputs": [],
   "source": [
    "%%javascript\n",
    "// Lesson on Floating-Point Numbers in JavaScript\n",
    "\n",
    "// Precision Issues\n",
    "let a = 0.1;\n",
    "let b = 0.2;\n",
    "let sum = a + b;\n",
    "console.log(`Expected: 0.3, Actual: ${sum}`); // Outputs: 0.30000000000000004\n",
    "\n",
    "\n",
    "// Understanding Rounding Errors\n",
    "let roundedSum = (0.1 + 0.2).toFixed(2);\n",
    "// rounds sum to 2 decimal places\n",
    "\n",
    "// Range of Floating-Point Numbers\n",
    "let maxFloat = Number.MAX_VALUE; // Maximum floating-point value\n",
    "console.log(`Maximum Float Value: ${maxFloat}`);\n",
    "let overflow = maxFloat * 2; // Attempting to exceed the limit\n",
    "console.log(`Overflow Example: ${overflow}`); // Outputs: Infinity\n"
   ]
  },
  {
   "cell_type": "markdown",
   "metadata": {},
   "source": [
    "## Strings\n",
    "\n",
    "\n",
    "A **string** is a sequence of characters, such as letters, numbers, symbols, and spaces. Strings are widely used in programming to represent text and are usually enclosed in quotes (`\" \"` or `' '`).\n"
   ]
  },
  {
   "cell_type": "code",
   "execution_count": null,
   "metadata": {},
   "outputs": [],
   "source": [
    "# Example of string operations in Python\n",
    "name = \"Alice\"\n",
    "greeting = \"Hello, \" + name   # Concatenation\n",
    "print(greeting)               # Output: Hello, Alice\n",
    "\n",
    "# String length\n",
    "length = len(name)            # 5\n",
    "\n",
    "# Using string methods\n",
    "uppercase_name = name.upper() # 'ALICE'\n"
   ]
  },
  {
   "cell_type": "code",
   "execution_count": null,
   "metadata": {
    "vscode": {
     "languageId": "javascript"
    }
   },
   "outputs": [],
   "source": [
    "%%javascript\n",
    "// Strings in Javascript\n",
    "// Scripts are used to automate tasks, manipulate data, and perform various operations in software applications\n",
    "\n",
    "\n",
    "// Example of a Simple Script: \n",
    "let greeting = \"Hello, World!\"; // Declare a variable with a greeting message\n",
    "console.log(greeting); // Output the greeting to the console\n",
    "\n",
    "\n",
    "// More Complex Script Example: \n",
    "console.log(\"\\n4. More Complex Script Example:\");\n",
    "// Demonstrates a more complex script involving functions.\n",
    "function calculateSum(a, b) {\n",
    "    return a + b; // Function to calculate the sum of two numbers\n",
    "}\n",
    "\n"
   ]
  },
  {
   "cell_type": "markdown",
   "metadata": {},
   "source": [
    "## Lists\n",
    "\n",
    "A **list** is an ordered collection of elements, which can include numbers, strings, or other objects. Lists are a fundamental data structure in programming that allows for efficient data management and manipulation.\n"
   ]
  },
  {
   "cell_type": "code",
   "execution_count": null,
   "metadata": {},
   "outputs": [],
   "source": [
    "## Examples of Lists in Python\n",
    "\n",
    "## Lists in Python are versatile and can be used to store a collection of items. Below are some common operations performed on lists.\n",
    "\n",
    "### Creating a List\n",
    "\n",
    "# Creating a list\n",
    "my_list = [10, 20, 30, 40]\n",
    "print(\"Initial List:\", my_list)  # Output: Initial List: [10, 20, 30, 40]\n"
   ]
  },
  {
   "cell_type": "code",
   "execution_count": null,
   "metadata": {
    "vscode": {
     "languageId": "javascript"
    }
   },
   "outputs": [],
   "source": [
    "%%javascript\n",
    "\n",
    "// In JavaScript, lists are typically represented using Arrays,\n",
    "// which are a special type of object for ordered collections of elements.\n",
    "\n",
    "// Creating an array\n",
    "let myArray = [10, 20, 30, 40];\n",
    "console.log(\"Initial Array:\", myArray);  // Output: Initial Array: [10, 20, 30, 40]\n",
    "\n",
    "\n",
    "// Accessing elements\n",
    "let firstElement = myArray[0];  // 10\n",
    "console.log(\"First Element:\", firstElement);  // Output: First Element: 10\n",
    "\n",
    "\n",
    "// Appending an element\n",
    "myArray.push(50);\n",
    "console.log(\"After Appending 50:\", myArray);  // Output: After Appending 50: [10, 20, 30, 40, 50]\n",
    "\n",
    "\n",
    "// Inserting an element\n",
    "myArray.splice(2, 0, 25);  // Insert 25 at index 2\n",
    "console.log(\"After Inserting 25 at index 2:\", myArray);  // Output: [10, 20, 25, 30, 40, 50]\n",
    "\n",
    "\n",
    "// Removing an element by value\n",
    "let removedElement = myArray.splice(3, 1);  // Remove 1 element at index 3\n",
    "console.log(\"Removed Element:\", removedElement);  // Output: Removed Element: 30\n",
    "console.log(\"Array After Removing Element at Index 3:\", myArray);  // Output: [10, 20, 25, 40, 50]\n",
    "\n"
   ]
  }
 ],
 "metadata": {
  "language_info": {
   "name": "python"
  }
 },
 "nbformat": 4,
 "nbformat_minor": 2
}
