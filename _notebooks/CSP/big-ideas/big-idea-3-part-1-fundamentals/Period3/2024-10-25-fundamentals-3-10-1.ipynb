{
 "cells": [
  {
   "cell_type": "raw",
   "metadata": {
    "vscode": {
     "languageId": "raw"
    }
   },
   "source": [
    "---\n",
    "toc: false\n",
    "comments: true\n",
    "layout: post\n",
    "title: 3.10 Python lists + Additional Information\n",
    "description: This is student-led teaching on lists! Here you'll learn how to manipulate individual elements or items in a list using indexing.\n",
    "permalink: /csp/big-idea/p3/3-10-1\n",
    "categories: [CSP Big Ideas]\n",
    "author:  Ryan, Jackson, Arush, Yash, Aranya\n",
    "menu: nav/csp_units/csp_unit3_p3_fundamentals.html\n",
    "---"
   ]
  },
  {
   "cell_type": "markdown",
   "metadata": {},
   "source": [
    "### Python List Basics \n",
    "In the context of Python, a list is a collection of items that are both ordered and changeable (or more formally mutable). Python lists support a variety of data types, such as integers (whole numbers), strings, or even decimal numbers. \n",
    "\n",
    "- You can create a Python list using square brackets []. The items inside of these brackets should be separated by commas. "
   ]
  },
  {
   "cell_type": "code",
   "execution_count": null,
   "metadata": {},
   "outputs": [],
   "source": [
    "my_list = [1, 2, 3, 'string', 4.78]\n",
    "print(my_list) ## This will print what is contained inside of the square brackets. Notice how the string is contained within quotation marks."
   ]
  },
  {
   "cell_type": "markdown",
   "metadata": {},
   "source": [
    "### Accessing and Modifying Python Lists \n",
    "\n",
    "When you want to reference a specific element in a Python list, you refer to it using its index. Python lists begin at an index of 0. However, to us this means the *first* item or element when moving left to right. This can get confusing, so if it helps, you can remember to just subtract one (EX: 5- 1 = index value of 4), if you are reading it from left to right. If you would like, you can also refer to items using a negative index, which means the computer will now read it right to left, this time starting at an index of -1. \n",
    "\n",
    "Because Python lists are mutable (changeable), you can also modify the value of a particular element in the list. Again, you do this by referring back to the index. For instance, if I had a list titled my_list, I could use the index of the 2nd element (1), and set it equal to the new string I want."
   ]
  },
  {
   "cell_type": "code",
   "execution_count": null,
   "metadata": {},
   "outputs": [],
   "source": [
    "my_list = [1, 2, 3, 'string', 4.78]\n",
    "first_item = my_list[0]  # 1\n",
    "last_item = my_list[-1]   # 4.78 (negative index counts from the end)\n",
    "\n",
    "my_list[1] = 'banana'  # Now my_list is [1, 'banana', 3, 'string', 4.78]. \n"
   ]
  },
  {
   "cell_type": "markdown",
   "metadata": {},
   "source": [
    "### Adding and Removing Items/Elements\n",
    "\n",
    "- If you would like to add an item to the end of your list, use the .append()) method. This is typically placed after the name of your list, since the period (.) allows you to access certain properties within the list. .insert() is also another way, but it instead inserts the element a particular index. The formatting is similar but instead you would format it as (index #, insert something here). Conversely, you can use the .remove method to remove an element the first time it occurs in a list. "
   ]
  },
  {
   "cell_type": "code",
   "execution_count": null,
   "metadata": {},
   "outputs": [],
   "source": [
    "my_list = [1, 2, 3, 'string', 4.78]\n",
    "my_list.append('orange')  # Adds 'orange' to the end\n",
    "my_list.insert(2, 'grape')  # Inserts 'grape' at index 2\n",
    "\n",
    "my_list.remove('3')  # Removes 3\n"
   ]
  },
  {
   "cell_type": "markdown",
   "metadata": {},
   "source": [
    "### Checking for Existence\n",
    "\n",
    "Checking for the existence of an element is simple! All you need to do is use the key words \"in\" or \"not in.\" Usually, this is paired with a print statement, in which the user receives a prompt that \"_ doesn't exist.\" You can also pair this with a for loop! Examples and explanations in \"Iterations.\" "
   ]
  },
  {
   "cell_type": "code",
   "execution_count": null,
   "metadata": {},
   "outputs": [],
   "source": [
    "fruits = ['apple', 'banana', 'cherry']\n",
    "\n",
    "# Check for existence\n",
    "if 'banana' in fruits:\n",
    "    print(\"Banana is in the list!\")\n",
    "else:\n",
    "    print(\"Banana is not in the list.\")"
   ]
  },
  {
   "cell_type": "markdown",
   "metadata": {},
   "source": [
    "### Iterations\n",
    "\n",
    "A for loop is the typical way iterations are done, not just in the context of Python lists. For loops *iterate* (go through each element and perform some kind of operation) through the list or sequence. You can also use while loops, but the formatting is slightly different. While loops will continue to run as long as a given condition is true, which is a key difference between a for loop and while loop. "
   ]
  },
  {
   "cell_type": "code",
   "execution_count": null,
   "metadata": {},
   "outputs": [],
   "source": [
    "fruits = ['apple', 'banana', 'cherry']\n",
    "\n",
    "for fruit in fruits:\n",
    "    print(fruit) ## For loop \n",
    "    \n",
    "i = 0\n",
    "while i < len(fruits):\n",
    "    print(fruits[i])\n",
    "    i += 1 ## While loop\n",
    "\n",
    "\n"
   ]
  },
  {
   "cell_type": "markdown",
   "metadata": {
    "vscode": {
     "languageId": "raw"
    }
   },
   "source": [
    "### More Examples "
   ]
  },
  {
   "cell_type": "raw",
   "metadata": {
    "vscode": {
     "languageId": "raw"
    }
   },
   "source": [
    "If you're a little lost on how to use a python list, below is an example that combines some of the operations and topics discussed in 3.10. "
   ]
  },
  {
   "cell_type": "code",
   "execution_count": null,
   "metadata": {},
   "outputs": [],
   "source": [
    "# Creating a list of colors\n",
    "colors = ['red', 'blue', 'green']\n",
    "\n",
    "# Modifying the list\n",
    "colors.append('yellow')  # Adds 'yellow' to the end\n",
    "colors.insert(1, 'orange')  # Inserts 'orange' at index 1\n",
    "print(colors)  # ['red', 'orange', 'blue', 'green', 'yellow']\n",
    "\n",
    "# Removing an element\n",
    "colors.remove('blue') # Removes 'blue'\n",
    "print(colors)  # ['red', 'orange', 'green', 'yellow']\n",
    "\n",
    "# Checking for existence\n",
    "if 'orange' in colors:\n",
    "    print(\"Orange is in the list!\") \n",
    "\n",
    "# Iterating over the list\n",
    "for color in colors:\n",
    "    print(color)  # Prints each color\n"
   ]
  }
 ],
 "metadata": {
  "kernelspec": {
   "display_name": "Python 3.12.5 64-bit",
   "language": "python",
   "name": "python3"
  },
  "language_info": {
   "name": "python",
   "version": "3.12.5"
  },
  "vscode": {
   "interpreter": {
    "hash": "b0fa6594d8f4cbf19f97940f81e996739fb7646882a419484c72d19e05852a7e"
   }
  }
 },
 "nbformat": 4,
 "nbformat_minor": 2
}
