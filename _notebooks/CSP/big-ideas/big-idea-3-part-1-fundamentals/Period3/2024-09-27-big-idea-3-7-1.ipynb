{
 "cells": [
  {
   "cell_type": "markdown",
   "metadata": {},
   "source": [
    "---\n",
    "toc: false\n",
    "comments: true\n",
    "layout: post\n",
    "title: 3.7 Intro To Nested Conditionals\n",
    "description: intro\n",
    "permalink: /csp/big-idea/p3/3-7-1\n",
    "categories: [CSP Big Ideas]\n",
    "author:  Zoe, Avika, Rutvik, Jonah, Aarush\n",
    "menu: nav/csp_units/csp_unit3_p3_fundamentals.html\n",
    "---"
   ]
  },
  {
   "cell_type": "markdown",
   "metadata": {},
   "source": [
    "## NESTED CONDITIONALS\n",
    "\n",
    "What are nested conditionals?\n",
    "   Answer: Conditionals inside of conditionals!\n",
    "\n",
    "Why are they useful?\n",
    "   Answer: Nested conditionals are useful when you need to check multiple conditions before performing an action.  They allow you to create complex logic flows.\n",
    "\n",
    "Can you think of some examples? Let's cover them!"
   ]
  },
  {
   "cell_type": "markdown",
   "metadata": {},
   "source": [
    "## PSUEDOCODE\n",
    "\n",
    "Let's start nice and simple. We'll lay out the logic of the nested conditionals using words. The goal is to display number that integers and greater than 1."
   ]
  },
  {
   "cell_type": "markdown",
   "metadata": {},
   "source": [
    "f the number entered has a decimal, then it will not be displayed (exit loop)\n",
    "    if the number the number is less than 0,  then it will not be displayed (exit loop)\n",
    "        else: display the number on the screen!"
   ]
  }
 ],
 "metadata": {
  "kernelspec": {
   "display_name": "Python 3.12.5 64-bit",
   "language": "python",
   "name": "python3"
  },
  "language_info": {
   "name": "python",
   "version": "3.12.5"
  },
  "orig_nbformat": 4,
  "vscode": {
   "interpreter": {
    "hash": "b0fa6594d8f4cbf19f97940f81e996739fb7646882a419484c72d19e05852a7e"
   }
  }
 },
 "nbformat": 4,
 "nbformat_minor": 2
}
