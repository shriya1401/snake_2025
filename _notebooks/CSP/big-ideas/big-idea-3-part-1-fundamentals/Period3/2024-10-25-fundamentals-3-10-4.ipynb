{
 "cells": [
  {
   "cell_type": "raw",
   "metadata": {
    "vscode": {
     "languageId": "raw"
    }
   },
   "source": [
    "---\n",
    "toc: false\n",
    "comments: true\n",
    "layout: post\n",
    "title: 3.10 Javascript Hacks + Homework \n",
    "description: Student practice using Javascript for lists. \n",
    "permalink: /csp/big-idea/p3/3-10-4\n",
    "categories: [CSP Big Ideas]\n",
    "author:  Ryan, Jackson, Arush, Yash, Aranya\n",
    "menu: nav/csp_units/csp_unit3_p3_fundamentals.html\n",
    "---"
   ]
  },
  {
   "cell_type": "markdown",
   "metadata": {},
   "source": [
    "### Popcorn Hack #2 \n",
    "\n",
    "All it takes to perform some complex calculations is one method. reduce() sums all the numbers in a given array. More specifically, reduce() takes a callback function (basically a function that can be referenced in later bits of code), which processes all the items in a given array. "
   ]
  },
  {
   "cell_type": "code",
   "execution_count": null,
   "metadata": {
    "vscode": {
     "languageId": "javascript"
    }
   },
   "outputs": [],
   "source": [
    "%%javascript\n",
    "\n",
    "const numbers = [1, 2, 3, 4, 5];\n",
    "const sum = numbers.reduce((accumulator, current) => accumulator + current, 0);\n",
    "\n",
    "console.log(sum); // Output: 15\n",
    "\n",
    "// Accumulator holds the running total (or whatever you want to accumulate). Current refers to the current item being processed. The second argument (0) initializes the accumulator."
   ]
  },
  {
   "cell_type": "markdown",
   "metadata": {},
   "source": [
    "### Javascript Hack\n",
    "\n",
    "- It's time to go shopping! Try to create a program that allows users to manage items using an array, which can be visually represented with a shopping cart. While not necessary, feel free to show the cart filling up with icons (items) as the user adds/subtracts items. "
   ]
  },
  {
   "cell_type": "markdown",
   "metadata": {},
   "source": [
    "### Homework \n",
    "\n",
    "Your homework is to complete the Python and Javascript hacks (only generic hacks, NOT popcorn). If you manage to incorporate the popcorn hacks into your homework, you get an A+ for the assignment. However, if you don't have time to include the popcorn hacks, that's okay! You still receive an A, anywhere between 90% and 95%, depending on quality of work. "
   ]
  },
  {
   "cell_type": "markdown",
   "metadata": {},
   "source": [
    "### Grading for All the Previous Items \n",
    "\n",
    "- Grading will be lenient, but you need all items contained within the generic hacks in order to get 100% or an A. There are 3 actual things you need to complete (2 Python hacks, 1 JavaScript)\n",
    "- 50% is the baseline grade, but you get credit for completing the generic hacks. \n",
    "- A (90 - 100) // B (80 - 89) // C (70 - 79) // D (60 - 69) // F (50 - 59)"
   ]
  }
 ],
 "metadata": {
  "language_info": {
   "name": "python"
  }
 },
 "nbformat": 4,
 "nbformat_minor": 2
}
