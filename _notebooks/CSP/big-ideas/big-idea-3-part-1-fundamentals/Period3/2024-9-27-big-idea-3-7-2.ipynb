{
 "cells": [
  {
   "cell_type": "raw",
   "metadata": {},
   "source": [
    "---\n",
    "toc: false\n",
    "comments: true\n",
    "layout: post\n",
    "title: 3.7 Python Hack For Nested Conditionals\n",
    "description: grade determiner in python\n",
    "permalink: /csp/big-idea/p3/3-7-2\n",
    "categories: [CSP Big Ideas]\n",
    "author:  Zoe, Avika, Rutvik, Jonah, Aarush\n",
    "menu: nav/csp_units/csp_unit3_p3_fundamentals.html\n",
    "---"
   ]
  },
  {
   "cell_type": "markdown",
   "metadata": {},
   "source": [
    "## POPCORN HACK: Python Example of Nested Conditionals!"
   ]
  },
  {
   "cell_type": "code",
   "execution_count": null,
   "metadata": {},
   "outputs": [],
   "source": [
    "# Function to determine the grade based on a score\n",
    "def determine_grade(score):\n",
    "    if score >= 90:\n",
    "        return \"A\"\n",
    "    elif score >= 80:\n",
    "        return \"B\"\n",
    "    elif score >= 70:\n",
    "        return \"C\"\n",
    "    else:\n",
    "        # Nested conditionals for borderline cases\n",
    "        if score >= 60:\n",
    "            print(\"Borderline case: Checking additional criteria...\")\n",
    "            extra_credit = input(\"Did the student complete extra credit? (yes/no): \").lower()\n",
    "            if extra_credit == \"yes\":\n",
    "                return \"C\"\n",
    "            else:\n",
    "                return \"D\"\n",
    "        else:\n",
    "            return \"F\"\n",
    "\n",
    "# Get user input for the score\n",
    "try:\n",
    "    score = int(input(\"Enter the student's score (0-100): \"))\n",
    "    if 0 <= score <= 100:\n",
    "        grade = determine_grade(score)\n",
    "        print(f\"The student's grade is: {grade}\")\n",
    "    else:\n",
    "        print(\"Please enter a valid score between 0 and 100.\")\n",
    "except ValueError:\n",
    "    print(\"Invalid input! Please enter a numeric value.\")"
   ]
  },
  {
   "cell_type": "markdown",
   "metadata": {},
   "source": []
  }
 ],
 "metadata": {
  "kernelspec": {
   "display_name": "Python 3.12.5 64-bit",
   "language": "python",
   "name": "python3"
  },
  "language_info": {
   "name": "python",
   "version": "3.12.5"
  },
  "orig_nbformat": 4,
  "vscode": {
   "interpreter": {
    "hash": "b0fa6594d8f4cbf19f97940f81e996739fb7646882a419484c72d19e05852a7e"
   }
  }
 },
 "nbformat": 4,
 "nbformat_minor": 2
}
