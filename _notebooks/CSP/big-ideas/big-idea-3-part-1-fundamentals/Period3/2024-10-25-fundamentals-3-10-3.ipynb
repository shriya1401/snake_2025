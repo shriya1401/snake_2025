{
 "cells": [
  {
   "cell_type": "raw",
   "metadata": {
    "vscode": {
     "languageId": "raw"
    }
   },
   "source": [
    "---\n",
    "toc: false\n",
    "comments: true\n",
    "layout: post\n",
    "title: 3.10 Python Hacks\n",
    "description: Student practice using python lists.\n",
    "permalink: /csp/big-idea/p3/3-10-3\n",
    "categories: [CSP Big Ideas]\n",
    "author:  Ryan, Jackson, Arush, Yash, Aranya\n",
    "menu: nav/csp_units/csp_unit3_p3_fundamentals.html\n",
    "---"
   ]
  },
  {
   "cell_type": "markdown",
   "metadata": {},
   "source": [
    "### Popcorn Hack\n",
    "\n",
    "If you have a Python list of numbers, but want to keep certain numbers (EX: even ones), you can actually use what is called a \"list comprehension.\" What this essentially does is it creates another list, but you can apply a filter or operation to it to help you get specific outputs. "
   ]
  },
  {
   "cell_type": "code",
   "execution_count": null,
   "metadata": {},
   "outputs": [],
   "source": [
    "numbers = [1, 2, 3, 4, 5, 6]\n",
    "even_numbers = [num for num in numbers if num % 2 == 0]\n",
    "\n",
    "print(even_numbers)  # Output: [2, 4, 6], thanks to the list comprehension! \n",
    "\n",
    "# List comprehensions allow you to write shorter code that is easier to read. It could even save you time! \n"
   ]
  },
  {
   "cell_type": "markdown",
   "metadata": {},
   "source": [
    "## Hacks\n",
    "\n",
    "Review the previous items and the lesson to produce: \n",
    "\n",
    "- Create a program that lets users manage a list of their choosing. Users can add elements, remove them, check if an element exists, and display the current list. \n",
    "- A function that can find the maximum and minimum value of a list using iteration."
   ]
  }
 ],
 "metadata": {
  "language_info": {
   "name": "python"
  }
 },
 "nbformat": 4,
 "nbformat_minor": 2
}
