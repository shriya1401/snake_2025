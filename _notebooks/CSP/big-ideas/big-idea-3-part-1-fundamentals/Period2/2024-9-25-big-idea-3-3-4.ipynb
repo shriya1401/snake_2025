{
 "cells": [
  {
   "cell_type": "raw",
   "metadata": {
    "vscode": {
     "languageId": "raw"
    }
   },
   "source": [
    "---\n",
    "toc: false\n",
    "comments: true\n",
    "layout: post\n",
    "title: 3.3 Mathematical Expressions\n",
    "description: Student led teaching on  Mathematical Expressions. Learn how mathematical expressions involve using arithmetic operators (like addition, subtraction, multiplication, and division) to perform calculations\n",
<<<<<<< HEAD
    "permalink: /csp/big-idea/p2/3-8-4\n",
=======
    "permalink: /csp/big-idea/3-3-4\n",
>>>>>>> 65d14f3a87dc06227be18ff7f3b0fbbbfd6f6945
    "categories: [CSP Big Ideas]\n",
    "author: Manas, Shriya, Lalita, Ethan\n",
    "menu: nav/csp_units/csp_unit3_p2_fundamentals.html\n",
    "---"
   ]
  },
  {
   "cell_type": "raw",
   "metadata": {
    "vscode": {
     "languageId": "raw"
    }
   },
   "source": [
    "Challenge: Try to implement more than one algorithm for the Fibonacci sequence"
   ]
  },
  {
   "cell_type": "code",
   "execution_count": null,
   "metadata": {},
   "outputs": [
    {
     "ename": "",
     "evalue": "",
     "output_type": "error",
     "traceback": [
      "\u001b[1;31mRunning cells with 'Python 3.12.5' requires the ipykernel package.\n",
      "\u001b[1;31mRun the following command to install 'ipykernel' into the Python environment. \n",
      "\u001b[1;31mCommand: '/opt/homebrew/bin/python3 -m pip install ipykernel -U --user --force-reinstall'"
     ]
    }
   ],
   "source": [
    "1. Python: Fibonacci Using Matrix Exponentiation\n",
    "\n",
    "import numpy as np\n",
    "\n",
    "def matrix_multiply(A, B):\n",
    "    # Perform matrix multiplication between two 2x2 matrices A and B\n",
    "    return [[A[0][0] * B[0][0] + A[0][1] * B[1][0],\n",
    "             A[0][0] * B[0][1] + A[0][1] * B[1][1]],\n",
    "            [A[1][0] * B[0][0] + A[1][1] * B[1][0],\n",
    "             A[1][0] * B[0][1] + A[1][1] * B[1][1]]]\n",
    "\n",
    "def matrix_power(M, power):\n",
    "    # Base identity matrix for multiplication\n",
    "    result = [[1, 0], [0, 1]]\n",
    "    \n",
    "    # Binary exponentiation for matrix power\n",
    "    while power:\n",
    "        if power % 2 != 0:\n",
    "            result = matrix_multiply(result, M)\n",
    "        M = matrix_multiply(M, M)\n",
    "        power //= 2\n",
    "    \n",
    "    return result\n",
    "\n",
    "def fibonacci_matrix(n):\n",
    "    # The transformation matrix for Fibonacci numbers\n",
    "    F = [[1, 1], [1, 0]]\n",
    "    \n",
    "    if n == 0:\n",
    "        return 0\n",
    "    if n == 1:\n",
    "        return 1\n",
    "    \n",
    "    # Raise the matrix to the (n-1)th power\n",
    "    result = matrix_power(F, n-1)\n",
    "    \n",
    "    return result[0][0]\n",
    "\n",
    "# Example Usage\n",
    "n = 50\n",
    "print(f\"Fibonacci number at position {n} is: {fibonacci_matrix(n)}\")\n"
   ]
  },
  {
   "cell_type": "raw",
   "metadata": {
    "vscode": {
     "languageId": "raw"
    }
   },
   "source": [
    "2. Java: Fibonacci Using Dynamic Programming\n",
    "\n",
    "public class FibonacciDP {\n",
    "    \n",
    "    // Method to calculate Fibonacci using dynamic programming with optimized space\n",
    "    public static long fibonacci(int n) {\n",
    "        // Base cases for Fibonacci\n",
    "        if (n == 0) return 0;\n",
    "        if (n == 1) return 1;\n",
    "\n",
    "        // Variables to store previous two Fibonacci numbers\n",
    "        long prev1 = 1, prev2 = 0;\n",
    "        long current = 0;\n",
    "\n",
    "        // Iteratively calculate Fibonacci\n",
    "        for (int i = 2; i <= n; i++) {\n",
    "            current = prev1 + prev2;\n",
    "            prev2 = prev1;\n",
    "            prev1 = current;\n",
    "        }\n",
    "\n",
    "        return current;\n",
    "    }\n",
    "\n",
    "    // Efficient matrix exponentiation approach (O(log n))\n",
    "    public static long fibonacciMatrix(int n) {\n",
    "        if (n == 0) return 0;\n",
    "        \n",
    "        long[][] F = { { 1, 1 }, { 1, 0 } };\n",
    "        power(F, n - 1);\n",
    "\n",
    "        return F[0][0];\n",
    "    }\n",
    "\n",
    "    // Helper method to perform matrix exponentiation\n",
    "    private static void power(long[][] F, int n) {\n",
    "        if (n == 0 || n == 1) return;\n",
    "\n",
    "        long[][] M = { { 1, 1 }, { 1, 0 } };\n",
    "\n",
    "        power(F, n / 2);\n",
    "        multiply(F, F); // Square the matrix\n",
    "\n",
    "        if (n % 2 != 0) multiply(F, M); // Multiply by M if n is odd\n",
    "    }\n",
    "\n",
    "    // Matrix multiplication helper\n",
    "    private static void multiply(long[][] F, long[][] M) {\n",
    "        long x = F[0][0] * M[0][0] + F[0][1] * M[1][0];\n",
    "        long y = F[0][0] * M[0][1] + F[0][1] * M[1][1];\n",
    "        long z = F[1][0] * M[0][0] + F[1][1] * M[1][0];\n",
    "        long w = F[1][0] * M[0][1] + F[1][1] * M[1][1];\n",
    "\n",
    "        F[0][0] = x;\n",
    "        F[0][1] = y;\n",
    "        F[1][0] = z;\n",
    "        F[1][1] = w;\n",
    "    }\n",
    "\n",
    "    public static void main(String[] args) {\n",
    "        int n = 50;\n",
    "\n",
    "        // Using dynamic programming with optimized space\n",
    "        System.out.println(\"Fibonacci number at position \" + n + \" using DP is: \" + fibonacci(n));\n",
    "\n",
    "        // Using matrix exponentiation (O(log n))\n",
    "        System.out.println(\"Fibonacci number at position \" + n + \" using Matrix Exponentiation is: \" + fibonacciMatrix(n));\n",
    "    }\n",
    "}\n"
   ]
  },
  {
   "cell_type": "raw",
   "metadata": {
    "vscode": {
     "languageId": "raw"
    }
   },
   "source": [
    "    <script src=\"https://utteranc.es/client.js\"\n",
    "        repo=\"shriya1401/portfolio_2025\"\n",
    "        issue-term=\"pathname\"\n",
    "        theme=\"github-light\"\n",
    "        crossorigin=\"anonymous\"\n",
    "        async>\n",
    "    </script>"
   ]
  }
 ],
 "metadata": {
  "kernelspec": {
   "display_name": "Python 3",
   "language": "python",
   "name": "python3"
  },
  "language_info": {
   "name": "python",
   "version": "3.12.5"
  }
 },
 "nbformat": 4,
 "nbformat_minor": 2
}
