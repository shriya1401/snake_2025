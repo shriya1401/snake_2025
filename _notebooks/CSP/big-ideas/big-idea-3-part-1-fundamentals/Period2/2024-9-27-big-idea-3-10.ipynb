{
 "cells": [
  {
   "cell_type": "raw",
   "metadata": {},
   "source": [
    "---\n",
    "toc: false\n",
    "comments: true\n",
    "layout: post\n",
    "title: 3.10 List Operations\n",
    "description: Student led teaching on Lists. Learn how storage and manipulation of multiple items using indexing to access individual elements.\n",
    "permalink: /csp/big-idea/p2/3-10\n",
    "categories: [CSP Big Ideas]\n",
    "author:  Alex, Daksha, Darsh, Zach\n",
    "menu: nav/csp_units/csp_unit3_p2_fundamentals.html\n",
    "---"
   ]
  },
  {
   "cell_type": "markdown",
   "metadata": {},
   "source": [
    "# Overview of our content"
   ]
  },
  {
   "cell_type": "markdown",
   "metadata": {},
   "source": [
    "\n",
    "_3.10.1_ List Operations\n",
    "- Assigning values\n",
    "- Inserting\n",
    "- Appending\n",
    "- Removing\n",
    "- Length\n",
    "\n",
    "_3.10.2_ Pseudocode (Sum of even numbers in list)\n",
    "- Variables\n",
    "- Create number list\n",
    "- Modulus operator\n",
    "- For loops, If statements\n",
    "\n",
    "_3.10.3_ Hacks (Functions)\n",
    "- Find Max and Min num in list\n",
    "- Iterating through list using loop\n",
    "\n",
    "_3.10.4_ Hacks (Lists)\n",
    "- Take user input\n",
    "- List elements have attributes/values"
   ]
  }
 ],
 "metadata": {
  "language_info": {
   "name": "python"
  }
 },
 "nbformat": 4,
 "nbformat_minor": 2
}
