{
 "cells": [
  {
   "cell_type": "raw",
   "metadata": {},
   "source": [
    "---\n",
    "toc: false\n",
    "comments: true\n",
    "layout: post\n",
    "title: 3.10.4 List Input\n",
    "description: Student led teaching on Lists. Learn how storage and manipulation of multiple items using indexing to access individual elements.\n",
    "permalink: /csp/big-idea/p2/3-10-4\n",
    "categories: [CSP Big Ideas]\n",
    "author:  Alex, Daksha, Darsh, Zach\n",
    "menu: nav/csp_units/csp_unit3_p2_fundamentals.html\n",
    "---"
   ]
  },
  {
   "cell_type": "markdown",
   "metadata": {
    "vscode": {
     "languageId": "plaintext"
    }
   },
   "source": [
    "# Hacks List with user input\n",
    "\n",
    "# Using objects with different types and attributes"
   ]
  },
  {
   "cell_type": "code",
   "execution_count": 1,
   "metadata": {
    "vscode": {
     "languageId": "javascript"
    }
   },
   "outputs": [
    {
     "data": {
      "application/javascript": "let people = [];\nfunction addPerson() {\n\n    let name = prompt(\"Enter the person's name:\");\n    let age = parseInt(prompt(\"Enter the person's age:\"));\n    let isStudent = confirm(\"Is this person a student? Click 'OK' for Yes, 'Cancel' for No.\");\n\n    let person = {\n        name: name,\n        age: age,\n        isStudent: isStudent\n    };\n\n    people.push(person);\n\n    console.log(people);\n}\n\n\nfunction displayList() {\n    people.forEach((person, index) => {\n        console.log(`Person ${index + 1}: Name: ${person.name}, Age: ${person.age}, Student: ${person.isStudent}`);\n    });\n}\n",
      "text/plain": [
       "<IPython.core.display.Javascript object>"
      ]
     },
     "metadata": {},
     "output_type": "display_data"
    }
   ],
   "source": [
    "%%javascript\n",
    "let people = [];\n",
    "function addPerson() {\n",
    "\n",
    "    let name = prompt(\"Enter the person's name:\");\n",
    "    let age = parseInt(prompt(\"Enter the person's age:\"));\n",
    "    let isStudent = confirm(\"Is this person a student? Click 'OK' for Yes, 'Cancel' for No.\");\n",
    "\n",
    "    let person = {\n",
    "        name: name,\n",
    "        age: age,\n",
    "        isStudent: isStudent\n",
    "    };\n",
    "\n",
    "    people.push(person);\n",
    "\n",
    "    console.log(people);\n",
    "}\n",
    "\n",
    "\n",
    "function displayList() {\n",
    "    people.forEach((person, index) => {\n",
    "        console.log(`Person ${index + 1}: Name: ${person.name}, Age: ${person.age}, Student: ${person.isStudent}`);\n",
    "    });\n",
    "}\n"
   ]
  },
  {
   "cell_type": "markdown",
   "metadata": {},
   "source": [
    "The let people = []; command stores the objects using user input (adds a persons input)\n",
    "prompt() asks the age of the person, and ok for true/cancel for no (asks for name, age, and student)\n",
    "The function displayList() command logs the details and makes sure every object is displayed (displays the code)\n",
    "some other codes such as addperson() adds new user input and then displayList would list the people entered (would add new person)"
   ]
  },
  {
   "cell_type": "markdown",
   "metadata": {},
   "source": [
    "Key Ideas:\n",
    "Array - Data structure that holds multiple values in a single variable\n",
    "Object - An object is a collection of related data and functions\n",
    "Function - Reusable book of code that performs a specific task\n",
    "Prompt - JavaScript Function creating a dialog box prompting the user for a name\n",
    "Array Method - Iterates elements of an array, executing a provided function "
   ]
  }
 ],
 "metadata": {
  "kernelspec": {
   "display_name": "venv",
   "language": "python",
   "name": "python3"
  },
  "language_info": {
   "codemirror_mode": {
    "name": "ipython",
    "version": 3
   },
   "file_extension": ".py",
   "mimetype": "text/x-python",
   "name": "python",
   "nbconvert_exporter": "python",
   "pygments_lexer": "ipython3",
   "version": "3.12.3"
  }
 },
 "nbformat": 4,
 "nbformat_minor": 2
}
