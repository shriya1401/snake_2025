{
 "cells": [
  {
   "cell_type": "raw",
   "metadata": {},
   "source": [
    "---\n",
    "toc: false\n",
    "comments: true\n",
    "layout: post\n",
    "title: 3.10.3 List Functions\n",
    "description: Student led teaching on Lists. Learn how storage and manipulation of multiple items using indexing to access individual elements.\n",
    "permalink: /csp/big-idea/p2/3-10-3\n",
    "categories: [CSP Big Ideas]\n",
    "author:  Alex, Daksha, Darsh, Zach\n",
    "menu: nav/csp_units/csp_unit3_p2_fundamentals.html\n",
    "---"
   ]
  },
  {
   "cell_type": "markdown",
   "metadata": {
    "vscode": {
     "languageId": "plaintext"
    }
   },
   "source": [
    "### Find Max and Min Numbers in a List\n",
    "\n",
    "This Python code defines a function to find the maximum and minimum numbers in a list.\n",
    "\n",
    "1. **Function**: `find_max_min(numbers)` takes a list and returns the max and min values.\n",
    "2. **Empty List Check**: Returns `(None, None)` if the list is empty.\n",
    "3. **Initialization**: Sets `max_num` and `min_num` to the first element.\n",
    "4. **Iteration**: Loops through the list to update `max_num` and `min_num`.\n",
    "5. **Example Usage**:\n",
    "\n",
    "```python\n",
    "numbers = [3, 1, 4, 1, 5, 9]\n",
    "max_num, min_num = find_max_min(numbers)\n",
    "print(f\"Max: {max_num}, Min: {min_num}\")\n"
   ]
  },
  {
   "cell_type": "code",
   "execution_count": 1,
   "metadata": {},
   "outputs": [
    {
     "name": "stdout",
     "output_type": "stream",
     "text": [
      "Maximum number: 9\n",
      "Minimum number: 1\n"
     ]
    }
   ],
   "source": [
    "def find_max_min(numbers):\n",
    "    if not numbers:\n",
    "        return None, None  # Return None if the list is empty\n",
    "    \n",
    "    max_num = numbers[0]\n",
    "    min_num = numbers[0]\n",
    "    \n",
    "    for num in numbers:\n",
    "        if num > max_num:\n",
    "            max_num = num\n",
    "        if num < min_num:\n",
    "            min_num = num\n",
    "            \n",
    "    return max_num, min_num\n",
    "\n",
    "# Example usage\n",
    "numbers = [3, 1, 4, 1, 5, 9, 2, 6, 5, 3, 5]\n",
    "max_num, min_num = find_max_min(numbers)\n",
    "\n",
    "print(f\"Maximum number: {max_num}\")\n",
    "print(f\"Minimum number: {min_num}\")\n"
   ]
  },
  {
   "cell_type": "markdown",
   "metadata": {},
   "source": [
    "### Iteration Through Loops in Python\n",
    "\n",
    "This code demonstrates how to iterate through a list using both a `for` loop and a `while` loop.\n",
    "\n",
    "1. **For Loop**: Iterates through each element in a list.\n",
    "2. **While Loop**: Continues until a condition is no longer met.\n",
    "\n",
    "#### Example Code:\n",
    "\n",
    "```python\n",
    "# List of numbers\n",
    "numbers = [1, 2, 3, 4, 5]\n",
    "\n",
    "# Using a for loop\n",
    "print(\"Using a for loop:\")\n",
    "for num in numbers:\n",
    "    print(num)\n",
    "\n",
    "# Using a while loop\n",
    "print(\"\\nUsing a while loop:\")\n",
    "index = 0\n",
    "while index < len(numbers):\n",
    "    print(numbers[index])\n",
    "    index += 1\n"
   ]
  },
  {
   "cell_type": "code",
   "execution_count": 2,
   "metadata": {},
   "outputs": [
    {
     "name": "stdout",
     "output_type": "stream",
     "text": [
      "Using a for loop:\n",
      "1\n",
      "2\n",
      "3\n",
      "4\n",
      "5\n",
      "\n",
      "Using a while loop:\n",
      "1\n",
      "2\n",
      "3\n",
      "4\n",
      "5\n"
     ]
    }
   ],
   "source": [
    "# List of numbers\n",
    "numbers = [1, 2, 3, 4, 5]\n",
    "\n",
    "# Using a for loop\n",
    "print(\"Using a for loop:\")\n",
    "for num in numbers:\n",
    "    print(num)\n",
    "\n",
    "# Using a while loop\n",
    "print(\"\\nUsing a while loop:\")\n",
    "index = 0\n",
    "while index < len(numbers):\n",
    "    print(numbers[index])\n",
    "    index += 1\n"
   ]
  },
  {
   "cell_type": "markdown",
   "metadata": {},
   "source": [
    "Another Example"
   ]
  },
  {
   "cell_type": "code",
   "execution_count": 3,
   "metadata": {},
   "outputs": [
    {
     "name": "stdout",
     "output_type": "stream",
     "text": [
      "Using a for loop:\n",
      "apple\n",
      "banana\n",
      "cherry\n",
      "date\n",
      "elderberry\n",
      "\n",
      "Using a while loop:\n",
      "apple\n",
      "banana\n",
      "cherry\n",
      "date\n",
      "elderberry\n"
     ]
    }
   ],
   "source": [
    "# List of fruits\n",
    "fruits = [\"apple\", \"banana\", \"cherry\", \"date\", \"elderberry\"]\n",
    "\n",
    "# Using a for loop\n",
    "print(\"Using a for loop:\")\n",
    "for fruit in fruits:\n",
    "    print(fruit)\n",
    "\n",
    "# Using a while loop\n",
    "print(\"\\nUsing a while loop:\")\n",
    "index = 0\n",
    "while index < len(fruits):\n",
    "    print(fruits[index])\n",
    "    index += 1\n"
   ]
  },
  {
   "cell_type": "markdown",
   "metadata": {},
   "source": [
    "And here is a cool Rock, Paper, Scissors Game that uses iterations through the lists by using loops to find the right number"
   ]
  },
  {
   "cell_type": "code",
   "execution_count": 3,
   "metadata": {},
   "outputs": [
    {
     "name": "stdout",
     "output_type": "stream",
     "text": [
      "Collecting ipywidgets\n",
      "  Using cached ipywidgets-8.1.5-py3-none-any.whl.metadata (2.3 kB)\n",
      "Requirement already satisfied: comm>=0.1.3 in /home/darsh22/nighthawk/sprint2_2025/venv/lib/python3.12/site-packages (from ipywidgets) (0.2.2)\n",
      "Requirement already satisfied: ipython>=6.1.0 in /home/darsh22/nighthawk/sprint2_2025/venv/lib/python3.12/site-packages (from ipywidgets) (8.27.0)\n",
      "Requirement already satisfied: traitlets>=4.3.1 in /home/darsh22/nighthawk/sprint2_2025/venv/lib/python3.12/site-packages (from ipywidgets) (5.14.3)\n",
      "Collecting widgetsnbextension~=4.0.12 (from ipywidgets)\n",
      "  Using cached widgetsnbextension-4.0.13-py3-none-any.whl.metadata (1.6 kB)\n",
      "Collecting jupyterlab-widgets~=3.0.12 (from ipywidgets)\n",
      "  Using cached jupyterlab_widgets-3.0.13-py3-none-any.whl.metadata (4.1 kB)\n",
      "Requirement already satisfied: decorator in /home/darsh22/nighthawk/sprint2_2025/venv/lib/python3.12/site-packages (from ipython>=6.1.0->ipywidgets) (5.1.1)\n",
      "Requirement already satisfied: jedi>=0.16 in /home/darsh22/nighthawk/sprint2_2025/venv/lib/python3.12/site-packages (from ipython>=6.1.0->ipywidgets) (0.19.1)\n",
      "Requirement already satisfied: matplotlib-inline in /home/darsh22/nighthawk/sprint2_2025/venv/lib/python3.12/site-packages (from ipython>=6.1.0->ipywidgets) (0.1.7)\n",
      "Requirement already satisfied: prompt-toolkit<3.1.0,>=3.0.41 in /home/darsh22/nighthawk/sprint2_2025/venv/lib/python3.12/site-packages (from ipython>=6.1.0->ipywidgets) (3.0.47)\n",
      "Requirement already satisfied: pygments>=2.4.0 in /home/darsh22/nighthawk/sprint2_2025/venv/lib/python3.12/site-packages (from ipython>=6.1.0->ipywidgets) (2.18.0)\n",
      "Requirement already satisfied: stack-data in /home/darsh22/nighthawk/sprint2_2025/venv/lib/python3.12/site-packages (from ipython>=6.1.0->ipywidgets) (0.6.3)\n",
      "Requirement already satisfied: pexpect>4.3 in /home/darsh22/nighthawk/sprint2_2025/venv/lib/python3.12/site-packages (from ipython>=6.1.0->ipywidgets) (4.9.0)\n",
      "Requirement already satisfied: parso<0.9.0,>=0.8.3 in /home/darsh22/nighthawk/sprint2_2025/venv/lib/python3.12/site-packages (from jedi>=0.16->ipython>=6.1.0->ipywidgets) (0.8.4)\n",
      "Requirement already satisfied: ptyprocess>=0.5 in /home/darsh22/nighthawk/sprint2_2025/venv/lib/python3.12/site-packages (from pexpect>4.3->ipython>=6.1.0->ipywidgets) (0.7.0)\n",
      "Requirement already satisfied: wcwidth in /home/darsh22/nighthawk/sprint2_2025/venv/lib/python3.12/site-packages (from prompt-toolkit<3.1.0,>=3.0.41->ipython>=6.1.0->ipywidgets) (0.2.13)\n",
      "Requirement already satisfied: executing>=1.2.0 in /home/darsh22/nighthawk/sprint2_2025/venv/lib/python3.12/site-packages (from stack-data->ipython>=6.1.0->ipywidgets) (2.1.0)\n",
      "Requirement already satisfied: asttokens>=2.1.0 in /home/darsh22/nighthawk/sprint2_2025/venv/lib/python3.12/site-packages (from stack-data->ipython>=6.1.0->ipywidgets) (2.4.1)\n",
      "Requirement already satisfied: pure-eval in /home/darsh22/nighthawk/sprint2_2025/venv/lib/python3.12/site-packages (from stack-data->ipython>=6.1.0->ipywidgets) (0.2.3)\n",
      "Requirement already satisfied: six>=1.12.0 in /home/darsh22/nighthawk/sprint2_2025/venv/lib/python3.12/site-packages (from asttokens>=2.1.0->stack-data->ipython>=6.1.0->ipywidgets) (1.16.0)\n",
      "Using cached ipywidgets-8.1.5-py3-none-any.whl (139 kB)\n",
      "Using cached jupyterlab_widgets-3.0.13-py3-none-any.whl (214 kB)\n",
      "Using cached widgetsnbextension-4.0.13-py3-none-any.whl (2.3 MB)\n",
      "Installing collected packages: widgetsnbextension, jupyterlab-widgets, ipywidgets\n",
      "Successfully installed ipywidgets-8.1.5 jupyterlab-widgets-3.0.13 widgetsnbextension-4.0.13\n",
      "Note: you may need to restart the kernel to use updated packages.\n"
     ]
    }
   ],
   "source": [
    "pip install ipywidgets\n"
   ]
  },
  {
   "cell_type": "code",
   "execution_count": 5,
   "metadata": {},
   "outputs": [
    {
     "data": {
      "text/html": [
       "\n",
       "    <div style=\"background-color: black; color: white; padding: 10px; border-radius: 5px;\">\n",
       "        <p>You chose: <strong>rock</strong></p>\n",
       "        <p>Computer chose: <strong>scissors</strong></p>\n",
       "        <p>You win!</p>\n",
       "    </div>\n",
       "    "
      ],
      "text/plain": [
       "<IPython.core.display.HTML object>"
      ]
     },
     "metadata": {},
     "output_type": "display_data"
    }
   ],
   "source": [
    "import random\n",
    "import ipywidgets as widgets\n",
    "from IPython.display import display, clear_output, HTML\n",
    "\n",
    "# Game choices\n",
    "choices = [\"rock\", \"paper\", \"scissors\"]\n",
    "\n",
    "# Function to determine the winner\n",
    "def determine_winner(player, computer):\n",
    "    if player == computer:\n",
    "        return \"It's a tie!\"\n",
    "    elif (player == \"rock\" and computer == \"scissors\") or \\\n",
    "         (player == \"paper\" and computer == \"rock\") or \\\n",
    "         (player == \"scissors\" and computer == \"paper\"):\n",
    "        return \"You win!\"\n",
    "    else:\n",
    "        return \"Computer wins!\"\n",
    "\n",
    "# Function to handle button clicks\n",
    "def on_button_click(choice):\n",
    "    computer_choice = random.choice(choices)\n",
    "    result = determine_winner(choice, computer_choice)\n",
    "    \n",
    "    # Clear previous output\n",
    "    clear_output(wait=True)\n",
    "    \n",
    "    # Display choices and result with dark theme\n",
    "    output_html = f\"\"\"\n",
    "    <div style=\"background-color: black; color: white; padding: 10px; border-radius: 5px;\">\n",
    "        <p>You chose: <strong>{choice}</strong></p>\n",
    "        <p>Computer chose: <strong>{computer_choice}</strong></p>\n",
    "        <p>{result}</p>\n",
    "    </div>\n",
    "    \"\"\"\n",
    "    \n",
    "    display(HTML(output_html))\n",
    "\n",
    "# Create buttons for each choice\n",
    "buttons = {choice: widgets.Button(description=choice.capitalize()) for choice in choices}\n",
    "\n",
    "# Set up the button click event\n",
    "for choice, button in buttons.items():\n",
    "    button.on_click(lambda b, choice=choice: on_button_click(choice))\n",
    "\n",
    "# Display buttons\n",
    "display(*buttons.values())\n",
    "\n"
   ]
  }
 ],
 "metadata": {
  "kernelspec": {
   "display_name": "venv",
   "language": "python",
   "name": "python3"
  },
  "language_info": {
   "codemirror_mode": {
    "name": "ipython",
    "version": 3
   },
   "file_extension": ".py",
   "mimetype": "text/x-python",
   "name": "python",
   "nbconvert_exporter": "python",
   "pygments_lexer": "ipython3",
   "version": "3.12.3"
  }
 },
 "nbformat": 4,
 "nbformat_minor": 2
}
