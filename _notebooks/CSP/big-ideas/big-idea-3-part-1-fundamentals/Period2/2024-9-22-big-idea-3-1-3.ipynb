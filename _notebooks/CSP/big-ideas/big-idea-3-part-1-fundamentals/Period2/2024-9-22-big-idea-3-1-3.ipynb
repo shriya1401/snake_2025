{
 "cells": [
  {
   "cell_type": "raw",
   "metadata": {
    "vscode": {
     "languageId": "raw"
    }
   },
   "source": [
    "---\n",
    "layout: post\n",
    "title: Javascript Variables\n",
    "description: Creating a lesson by using Javascript. \n",
    "categories: [Python, Javascript]\n",
    "permalink: /csp/big-idea/p2/3-1-3\n",
    "menu: nav/csp_units/csp_unit3_p2_fundamentals.html\n",
    "toc: true\n",
    "comments: true\n",
    "---"
   ]
  },
  {
   "cell_type": "markdown",
   "metadata": {},
   "source": [
    "# JavaScript Variables and Data Types\n",
    "\n",
    "In this notebook, we will explore different types of variables and data types used in JavaScript. JavaScript is a dynamically typed language, which means that variables do not need to be explicitly declared with a type. The type of the variable is determined by the value assigned to it.\n",
    "\n",
    "### Types of Variables in JavaScript:\n",
    "- `var`: Declares a variable, optionally initializing it to a value.\n",
    "- `let`: Declares a block-scoped local variable, optionally initializing it to a value.\n",
    "- `const`: Declares a block-scoped, read-only constant.\n",
    "\n",
    "### Data Types in JavaScript:\n",
    "- Primitive Data Types:\n",
    "  - `String`\n",
    "  - `Number`\n",
    "  - `Boolean`\n",
    "  - `Null`\n",
    "  - `Undefined`\n",
    "  - `Symbol`\n",
    "- Non-primitive Data Types:\n",
    "  - `Object`\n",
    "  - `Array`\n",
    "  - `Function`"
   ]
  },
  {
   "cell_type": "markdown",
   "metadata": {},
   "source": [
    "## Naming convention in JavaScript\n",
    "The convention in JavaScript is different in Python on its use of **camelCase for variables**, functions, and mehods;  verus Python usage of snake_case.\n",
    "\n",
    "- **camelCase** is used for variables, functions, and methods.\n",
    "- **PascalCase** is used for class names and constructor functions.\n",
    "- **UPPER_SNAKE_CASE** is used for constants."
   ]
  },
  {
   "cell_type": "markdown",
   "metadata": {
    "vscode": {
     "languageId": "javascript"
    }
   },
   "source": [
    "## Strings in JavaScript\n",
    "\n",
    "A **string** in JavaScript is used to represent textual data. Strings are created by enclosing characters within quotes (single or double quotes).\n",
    "\n",
    "### Example:\n",
    "In this example, we will declare a string variable and print it to the console.\n"
   ]
  },
  {
   "cell_type": "code",
   "execution_count": 115,
   "metadata": {
    "vscode": {
     "languageId": "javascript"
    }
   },
   "outputs": [
    {
     "data": {
      "application/javascript": "// 1. Strings\nlet name = \"Arhaan\";\nconsole.log(\"String: \", name);\nelement.append(\"String: \" + name + \"<br>\");\n",
      "text/plain": [
       "<IPython.core.display.Javascript object>"
      ]
     },
     "metadata": {},
     "output_type": "display_data"
    }
   ],
   "source": [
    "%%javascript\n",
    "// 1. Strings\n",
    "let name = \"Arhaan\";\n",
    "console.log(\"String: \", name);\n",
    "element.append(\"String: \" + name + \"<br>\");"
   ]
  },
  {
   "cell_type": "markdown",
   "metadata": {},
   "source": [
    "## Numbers in JavaScript\n",
    "\n",
    "JavaScript has only one type of number. Numbers can be written with or without decimals. They can be integers or floating-point numbers.\n",
    "\n",
    "### Example:\n",
    "In this example, we will declare a number variable and print it to the console.\n"
   ]
  },
  {
   "cell_type": "code",
   "execution_count": 116,
   "metadata": {
    "vscode": {
     "languageId": "javascript"
    }
   },
   "outputs": [
    {
     "data": {
      "application/javascript": "// 2. Numbers\nlet age = 15;\nconsole.log(\"Number: \", age);\nelement.append(\"Number: \" + age + \"<br>\");\n",
      "text/plain": [
       "<IPython.core.display.Javascript object>"
      ]
     },
     "metadata": {},
     "output_type": "display_data"
    }
   ],
   "source": [
    "%%javascript\n",
    "// 2. Numbers\n",
    "let age = 15;\n",
    "console.log(\"Number: \", age);\n",
    "element.append(\"Number: \" + age + \"<br>\");\n"
   ]
  },
  {
   "cell_type": "markdown",
   "metadata": {},
   "source": [
    "## Booleans in JavaScript\n",
    "\n",
    "A **boolean** represents one of two values: `true` or `false`. Booleans are typically used for logical operations.\n",
    "\n",
    "### Example:\n",
    "In this example, we will declare a boolean variable and print it to the console.\n"
   ]
  },
  {
   "cell_type": "code",
   "execution_count": 117,
   "metadata": {
    "vscode": {
     "languageId": "javascript"
    }
   },
   "outputs": [
    {
     "data": {
      "application/javascript": "// 3. Booleans\nlet isStudent = true;\nconsole.log(\"Boolean: \", isStudent);\nelement.append(\"Boolean: \" + isStudent + \"<br>\");\n",
      "text/plain": [
       "<IPython.core.display.Javascript object>"
      ]
     },
     "metadata": {},
     "output_type": "display_data"
    }
   ],
   "source": [
    "%%javascript\n",
    "// 3. Booleans\n",
    "let isStudent = true;\n",
    "console.log(\"Boolean: \", isStudent);\n",
    "element.append(\"Boolean: \" + isStudent + \"<br>\");\n"
   ]
  },
  {
   "cell_type": "markdown",
   "metadata": {},
   "source": [
    "## Undefined in JavaScript\n",
    "\n",
    "A variable in JavaScript that has been declared but not assigned a value has the value `undefined`.\n",
    "\n",
    "### Example:\n",
    "In this example, we will declare an undefined variable and print its value.\n"
   ]
  },
  {
   "cell_type": "code",
   "execution_count": 118,
   "metadata": {
    "vscode": {
     "languageId": "javascript"
    }
   },
   "outputs": [
    {
     "data": {
      "application/javascript": "// 4. Undefined\nlet undefinedVar;\nconsole.log(\"Undefined: \", undefinedVar);\nelement.append(\"Undefined: \" + undefinedVar + \"<br>\");\n",
      "text/plain": [
       "<IPython.core.display.Javascript object>"
      ]
     },
     "metadata": {},
     "output_type": "display_data"
    }
   ],
   "source": [
    "%%javascript\n",
    "// 4. Undefined\n",
    "let undefinedVar;\n",
    "console.log(\"Undefined: \", undefinedVar);\n",
    "element.append(\"Undefined: \" + undefinedVar + \"<br>\");\n"
   ]
  },
  {
   "cell_type": "markdown",
   "metadata": {},
   "source": [
    "## Null in JavaScript\n",
    "\n",
    "The `null` value represents the intentional absence of any object value. It is often used to indicate that a variable should not contain any value.\n",
    "\n",
    "### Example:\n",
    "In this example, we will declare a null variable and print its value.\n"
   ]
  },
  {
   "cell_type": "code",
   "execution_count": 119,
   "metadata": {
    "vscode": {
     "languageId": "javascript"
    }
   },
   "outputs": [
    {
     "data": {
      "application/javascript": "// 5. Null\nlet nullVar = null;\nconsole.log(\"Null: \", nullVar);\nelement.append(\"Null: \" + nullVar + \"<br>\");\n",
      "text/plain": [
       "<IPython.core.display.Javascript object>"
      ]
     },
     "metadata": {},
     "output_type": "display_data"
    }
   ],
   "source": [
    "%%javascript\n",
    "// 5. Null\n",
    "let nullVar = null;\n",
    "console.log(\"Null: \", nullVar);\n",
    "element.append(\"Null: \" + nullVar + \"<br>\");\n"
   ]
  },
  {
   "cell_type": "markdown",
   "metadata": {},
   "source": [
    "## Arrays and Objects in JavaScript\n",
    "\n",
    "### Arrays:\n",
    "Arrays are used to store multiple values in a single variable. Each value is called an element, and arrays can store values of any type.\n",
    "\n",
    "### Objects:\n",
    "Objects are collections of key-value pairs where each key (also called a property) is associated with a value. Objects are the most important data type in JavaScript. They are also called **JSON Objects** and are similart to Python dictionaries.\n",
    "\n",
    "### Example:\n",
    "In this example, we will declare an array and an object and print them to the console.\n"
   ]
  },
  {
   "cell_type": "code",
   "execution_count": 120,
   "metadata": {
    "vscode": {
     "languageId": "javascript"
    }
   },
   "outputs": [
    {
     "data": {
      "application/javascript": "// 6. Arrays (Non-primitive)\nlet hobbies = [\"Basketball\", \"Coding\", \"Data Analytics\"];\nconsole.log(\"Array: \", hobbies);\nelement.append(\"Array: \" + hobbies.join(\", \") + \"<br>\");\n\n// 7. Objects (Non-primitive)\nlet student = {\n  name: \"Arhaan Memon\",\n  grade: 10,\n  interests: hobbies\n};\nconsole.log(\"Object: \", student);\nelement.append(\"Object: \" + JSON.stringify(student) + \"<br>\");\n",
      "text/plain": [
       "<IPython.core.display.Javascript object>"
      ]
     },
     "metadata": {},
     "output_type": "display_data"
    }
   ],
   "source": [
    "%%javascript\n",
    "// 6. Arrays (Non-primitive)\n",
    "let hobbies = [\"Basketball\", \"Coding\", \"Data Analytics\"];\n",
    "console.log(\"Array: \", hobbies);\n",
    "element.append(\"Array: \" + hobbies.join(\", \") + \"<br>\");\n",
    "\n",
    "// 7. Objects (Non-primitive)\n",
    "let student = {\n",
    "  name: \"Arhaan Memon\",\n",
    "  grade: 10,\n",
    "  interests: hobbies\n",
    "};\n",
    "console.log(\"Object: \", student);\n",
    "element.append(\"Object: \" + JSON.stringify(student) + \"<br>\");\n"
   ]
  },
  {
   "cell_type": "markdown",
   "metadata": {},
   "source": [
    "## Traversing a Dictionary (Object) in JavaScript\n",
    "\n",
    "In JavaScript, objects can be used as dictionaries, where keys map to values. To access the values of an object, we can use either dot notation or bracket notation. \n",
    "\n",
    "### Example:\n",
    "In this example, we will declare an object (dictionary) and traverse its key-value pairs.\n"
   ]
  },
  {
   "cell_type": "code",
   "execution_count": 121,
   "metadata": {
    "vscode": {
     "languageId": "javascript"
    }
   },
   "outputs": [
    {
     "data": {
      "application/javascript": "// Example of a JavaScript object (dictionary)\nlet studentInfo = {\n  name: \"Arhaan Memon\",\n  age: 15,\n  grade: 10,\n  interests: [\"Basketball\", \"Coding\", \"Data Analytics\"]\n};\n\n\n// Traversing the object using a for...in loop\nfor (let key in studentInfo) {\n  console.log(key + \": \" + studentInfo[key]); // Logs each key and its associated value\n  element.append(key + \": \" + studentInfo[key] + \"<br>\");\n}\n",
      "text/plain": [
       "<IPython.core.display.Javascript object>"
      ]
     },
     "metadata": {},
     "output_type": "display_data"
    }
   ],
   "source": [
    "%%javascript\n",
    "// Example of a JavaScript object (dictionary)\n",
    "let studentInfo = {\n",
    "  name: \"Arhaan Memon\",\n",
    "  age: 15,\n",
    "  grade: 10,\n",
    "  interests: [\"Basketball\", \"Coding\", \"Data Analytics\"]\n",
    "};\n",
    "\n",
    "\n",
    "// Traversing the object using a for...in loop\n",
    "for (let key in studentInfo) {\n",
    "  console.log(key + \": \" + studentInfo[key]); // Logs each key and its associated value\n",
    "  element.append(key + \": \" + studentInfo[key] + \"<br>\");\n",
    "}\n"
   ]
  }
 ],
 "metadata": {
  "kernelspec": {
   "display_name": "Python 3",
   "language": "python",
   "name": "python3"
  },
  "language_info": {
   "codemirror_mode": {
    "name": "ipython",
    "version": 3
   },
   "file_extension": ".py",
   "mimetype": "text/x-python",
   "name": "python",
   "nbconvert_exporter": "python",
   "pygments_lexer": "ipython3",
   "version": "3.11.5"
  }
 },
 "nbformat": 4,
 "nbformat_minor": 2
}
