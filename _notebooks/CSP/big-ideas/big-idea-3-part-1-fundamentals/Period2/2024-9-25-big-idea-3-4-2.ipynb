{
 "cells": [
  {
   "cell_type": "raw",
   "metadata": {
    "vscode": {
     "languageId": "raw"
    }
   },
   "source": [
    "---\n",
    "layout: post\n",
    "title: 3.4 Strings\n",
    "description: Creating a lesson by using Javascript. \n",
    "categories: [Python, Javascript]\n",
    "permalink: /csp/big-idea/p2/3-4-2\n",
    "menu: nav/csp_units/csp_unit3_p2_fundamentals.html\n",
    "toc: true\n",
    "comments: true\n",
    "---\n",
    "\n"
   ]
  },
  {
   "cell_type": "markdown",
   "metadata": {},
   "source": [
    "# String Operations in Python\n",
    "\n",
    "Strings are an ordered sequence of characters, which can include letters, numbers, or even spaces. A **substring** is part of an existing string. Various procedures are available in Python for working with strings."
   ]
  },
  {
   "cell_type": "markdown",
   "metadata": {},
   "source": [
    "## Len Function\n",
    "\n",
    "The len function returns the number of characters in a string. \n",
    "\n",
    "For example:"
   ]
  },
  {
   "cell_type": "markdown",
   "metadata": {},
   "source": [
    "```python\n",
    "len (\"APCSP\") # Output is 5\n",
    "```"
   ]
  },
  {
   "cell_type": "code",
   "execution_count": 1,
   "metadata": {},
   "outputs": [
    {
     "data": {
      "text/plain": [
       "5"
      ]
     },
     "execution_count": 1,
     "metadata": {},
     "output_type": "execute_result"
    }
   ],
   "source": [
    "len (\"APCSP\")"
   ]
  },
  {
   "cell_type": "markdown",
   "metadata": {},
   "source": [
    "This function will return 5, which is the number of characters in the string \"APCSP\""
   ]
  },
  {
   "cell_type": "markdown",
   "metadata": {},
   "source": [
    "## Concat Feature\n",
    "\n",
    "The concat function merges both strings together. For example, if I wanted to say Hi Bob, instead of writing \"Hi Bob\" as a string, I could concat the string to say Hi + Bob. For example:\n"
   ]
  },
  {
   "cell_type": "markdown",
   "metadata": {},
   "source": [
    "```python\n",
    "concat = \"Hi\" + \"Bob\"\n",
    "\n",
    "print(concat) #Output is HiBob\n",
    "\n",
    "```"
   ]
  },
  {
   "cell_type": "code",
   "execution_count": 10,
   "metadata": {},
   "outputs": [
    {
     "name": "stdout",
     "output_type": "stream",
     "text": [
      "HiBob\n"
     ]
    }
   ],
   "source": [
    "concat = \"Hi\" + \"Bob\"\n",
    "\n",
    "print(concat)\n",
    "\n"
   ]
  },
  {
   "cell_type": "markdown",
   "metadata": {},
   "source": [
    "Note that you don't actually have to use concat as the name of the variable, the concat serves as a function you can do even when the variable is not named concat. For example:"
   ]
  },
  {
   "cell_type": "markdown",
   "metadata": {},
   "source": [
    "```python\n",
    "story = \"The quick brown fox \" + \"jumped over the lazy dog\"\n",
    "\n",
    "print(story) # Output is The quick brown fox jumped over the lazy dog"
   ]
  },
  {
   "cell_type": "code",
   "execution_count": 6,
   "metadata": {},
   "outputs": [
    {
     "name": "stdout",
     "output_type": "stream",
     "text": [
      "The quick brown fox jumped over the lazy dog\n"
     ]
    }
   ],
   "source": [
    "story = \"The quick brown fox \" + \"jumped over the lazy dog\"\n",
    "\n",
    "print(story)"
   ]
  },
  {
   "cell_type": "markdown",
   "metadata": {},
   "source": [
    "Now, let's talk about substrings. Substrings are portions of strings. In python, you can extract substrings by specifying the start and end index positions of the characters that you want. Let's try it out with the story variable we just created!"
   ]
  },
  {
   "cell_type": "markdown",
   "metadata": {},
   "source": [
    "```python\n",
    "storysubstring = story[3:9]\n",
    "\n",
    "print(storysubstring)\n",
    "\n",
    "# Output is \"quick\"\n",
    "```"
   ]
  },
  {
   "cell_type": "code",
   "execution_count": 8,
   "metadata": {},
   "outputs": [
    {
     "name": "stdout",
     "output_type": "stream",
     "text": [
      " quick\n"
     ]
    }
   ],
   "source": [
    "storysubstring = story[3:9]\n",
    "\n",
    "print(storysubstring)\n",
    "\n",
    "# Output is \"quick\""
   ]
  },
  {
   "cell_type": "markdown",
   "metadata": {},
   "source": [
    "As you can see, we specified which characters we wanted using brackets following the variable of choice. The output of the command was \"quick\", as quick is the first 3-9 characters of the string story, or asa we learned, \"quick\" is the substring."
   ]
  },
  {
   "cell_type": "markdown",
   "metadata": {},
   "source": [
    "Now let's recap what we've learned with...:\n",
    "\n",
    "# Popcorn Hack #4\n",
    "\n",
    "The goal of this hack is to find the third-sixth characters of my full name. Let's start!\n",
    "\n",
    "Here we're going to start off by finding the number of characters in our last name. I'll be using my last name as an example. I'll first make it a variable, then find the length of it."
   ]
  },
  {
   "cell_type": "markdown",
   "metadata": {},
   "source": [
    "```python\n",
    "last_name = \"Thaha\"\n",
    "length = len(last_name)\n",
    "\n",
    "print(length) # Output: 5\n",
    "```"
   ]
  },
  {
   "cell_type": "code",
   "execution_count": 6,
   "metadata": {},
   "outputs": [
    {
     "name": "stdout",
     "output_type": "stream",
     "text": [
      "5\n"
     ]
    }
   ],
   "source": [
    "last_name = \"Thaha\"\n",
    "length = len(last_name)\n",
    "\n",
    "print(length) # Output: 5"
   ]
  },
  {
   "cell_type": "markdown",
   "metadata": {},
   "source": [
    "I'll now use the concat feature to merge my first and last name."
   ]
  },
  {
   "cell_type": "code",
   "execution_count": 7,
   "metadata": {},
   "outputs": [
    {
     "name": "stdout",
     "output_type": "stream",
     "text": [
      "MihirThaha\n"
     ]
    }
   ],
   "source": [
    "first_name = \"Mihir\"\n",
    "\n",
    "last_name = \"Thaha\"\n",
    "\n",
    "full_name = first_name + last_name\n",
    "\n",
    "print(full_name)"
   ]
  },
  {
   "cell_type": "markdown",
   "metadata": {},
   "source": [
    "```python\n",
    "first_name = \"Mihir\"\n",
    "\n",
    "last_name = \"Thaha\"\n",
    "\n",
    "full_name = first_name + last_name\n",
    "\n",
    "print(full_name) # Output is MihirThaha\n",
    "```\n"
   ]
  },
  {
   "cell_type": "markdown",
   "metadata": {},
   "source": [
    "Finally, let's use the substring feature to find the 3rd to 6th characters in my last name"
   ]
  },
  {
   "cell_type": "markdown",
   "metadata": {},
   "source": [
    "```python\n",
    "namesubstring = full_name[2:6]   # Note that we use 2 instead of three, because the counting starts at 0 instead of one. If we want to start from the third character, we'd need to start from 2.\n",
    "print(namesubstring)\n",
    "# Output is hirT\n"
   ]
  },
  {
   "cell_type": "code",
   "execution_count": 11,
   "metadata": {},
   "outputs": [
    {
     "name": "stdout",
     "output_type": "stream",
     "text": [
      "hirT\n"
     ]
    }
   ],
   "source": [
    "namesubstring = full_name[2:6]\n",
    "print(namesubstring)"
   ]
  },
  {
   "cell_type": "markdown",
   "metadata": {},
   "source": [
    "## Palindromes Hack\n",
    "A palindrome is a string that reads the same from left to right. For example, 5005 and racecar are both palindromes because they read the same from left to right."
   ]
  },
  {
   "cell_type": "code",
   "execution_count": 13,
   "metadata": {},
   "outputs": [
    {
     "name": "stdout",
     "output_type": "stream",
     "text": [
      "True\n",
      "False\n"
     ]
    }
   ],
   "source": [
    "def palindrome(input_str):\n",
    "    # Remove spaces and convert the string to lowercase\n",
    "    clean_str = input_str.replace(\" \", \"\").lower()\n",
    "\n",
    "    # Check if the cleaned string is equal to its reverse\n",
    "    return clean_str == clean_str[::-1]\n",
    "\n",
    "# Example usage\n",
    "print(palindrome(\"A man a plan a canal Panama\"))  # Should return True\n",
    "print(palindrome(\"hello\"))  # Should return False\n"
   ]
  },
  {
   "cell_type": "markdown",
   "metadata": {},
   "source": [
    "```python\n",
    "def palindrome(input_str):\n",
    "    # Remove spaces and convert the string to lowercase\n",
    "    clean_str = input_str.replace(\" \", \"\").lower()\n",
    "\n",
    "    # Check if the cleaned string is equal to its reverse\n",
    "    return clean_str == clean_str[::-1]\n",
    "\n",
    "# Example usage\n",
    "print(palindrome(\"A man a plan a canal Panama\"))  # Should return True\n",
    "print(palindrome(\"hello\"))  # Should return False\n",
    "```"
   ]
  },
  {
   "cell_type": "code",
   "execution_count": 15,
   "metadata": {},
   "outputs": [
    {
     "name": "stdout",
     "output_type": "stream",
     "text": [
      "True\n",
      "False\n"
     ]
    }
   ],
   "source": [
    "\n",
    "def palindrome(input_str):\n",
    "    # Remove spaces and convert the string to lowercase\n",
    "    clean_str = input_str.replace(\" \", \"\").lower()\n",
    "    # Check if the cleaned string is equal to its reverse\n",
    "    return clean_str == clean_str[::-1]\n",
    "\n",
    "\n",
    "print(palindrome(\"taco cat\")) # True\n",
    "print(palindrome(\"hi\")) # False\n"
   ]
  },
  {
   "cell_type": "markdown",
   "metadata": {},
   "source": [
    "```python\n",
    "\n",
    "\n",
    "    return clean_str == clean_str[::-1]\n",
    "\n",
    "\n",
    "\n",
    "\n",
    "print(palindrome(\"taco cat\")) # True\n",
    "print(palindrome(\"hi\")) # False\n",
    "```\n"
   ]
  },
  {
   "cell_type": "markdown",
   "metadata": {},
   "source": [
    "This function checks if the string is the same forward as it is reverse\n",
    "\n",
    "If it is a palendrome, the function will output True, and if it's not then the function will output false!\n"
   ]
  },
  {
   "cell_type": "markdown",
   "metadata": {},
   "source": [
    "## Reverse Order Hack\n",
    "\n",
    "Take a sentence as input, then reverse the order of words, but not the characters within the words.\n",
    "\n",
    "Instructions:\n",
    "\n",
    "Split the sentence into words, reverse the word list, and then join them back into a string.\n",
    "Try this with different sentences! \n",
    "\n",
    "```python\n",
    "def reverse_words(input_str):\n",
    "    words = input_str.split()\n",
    "    reversed_words = \" \".join(words[::-1])\n",
    "    return reversed_words\n",
    "\n",
    "sentence = \"I love coding!\"\n",
    "print(reverse_words(sentence))\n",
    "```"
   ]
  },
  {
   "cell_type": "code",
   "execution_count": null,
   "metadata": {},
   "outputs": [],
   "source": [
    "def reverse_words(input_str):\n",
    "    words = input_str.split()\n",
    "    reversed_words = \" \".join(words[::-1])\n",
    "    return reversed_words\n",
    "\n",
    "sentence = \"I love coding!\"\n",
    "print(reverse_words(sentence))\n"
   ]
  },
  {
   "cell_type": "markdown",
   "metadata": {},
   "source": [
    "These hacks allow you to experiment with string manipulations such as counting character occurrences and reversing word orders.\n",
    "\n",
    "\n",
    "\n",
    "\n",
    "\n",
    "\n"
   ]
  },
  {
   "cell_type": "markdown",
   "metadata": {},
   "source": [
    "## Remove Wovels\n",
    "\n",
    "Write a function that takes a sentence as input and removes all the vowels (a, e, i, o, u) from it, both uppercase and lowercase. The program should return the modified sentence.\n",
    "\n",
    "Instructions:\n",
    "\n",
    "Use a loop or list comprehension to filter out vowels.\n",
    "Test it with sentences that contain both uppercase and lowercase vowels."
   ]
  },
  {
   "cell_type": "code",
   "execution_count": null,
   "metadata": {},
   "outputs": [],
   "source": [
    "def remove_vowels(input_str):\n",
    "    vowels = \"aeiouAEIOU\"\n",
    "    result = ''.join([char for char in input_str if char not in vowels])\n",
    "    return result\n",
    "\n",
    "sentence = \"I enjoy learning Python!\"\n",
    "print(remove_vowels(sentence))\n"
   ]
  },
  {
   "cell_type": "markdown",
   "metadata": {},
   "source": [
    "```python\n",
    "def remove_vowels(input_str):\n",
    "    vowels = \"aeiouAEIOU\"\n",
    "    result = ''.join([char for char in input_str if char not in vowels])\n",
    "    return result\n",
    "\n",
    "sentence = \"I enjoy learning Python!\"\n",
    "print(remove_vowels(sentence))\n",
    "```"
   ]
  },
  {
   "cell_type": "markdown",
   "metadata": {},
   "source": [
    "This hack encourages practice with loops or list comprehensions and string filtering!"
   ]
  }
 ],
 "metadata": {
  "kernelspec": {
   "display_name": "Python 3",
   "language": "python",
   "name": "python3"
  },
  "language_info": {
   "codemirror_mode": {
    "name": "ipython",
    "version": 3
   },
   "file_extension": ".py",
   "mimetype": "text/x-python",
   "name": "python",
   "nbconvert_exporter": "python",
   "pygments_lexer": "ipython3",
   "version": "3.12.3"
  }
 },
 "nbformat": 4,
 "nbformat_minor": 2
}
