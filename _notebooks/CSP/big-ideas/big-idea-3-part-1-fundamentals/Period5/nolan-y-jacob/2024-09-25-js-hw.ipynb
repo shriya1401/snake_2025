{
  "cells": [
    {
      "cell_type": "raw",
      "metadata": {
        "vscode": {
          "languageId": "raw"
        }
      },
      "source": [
        "---\n",
        "layout: post\n",
        "title: 3.2 - Data Abstraction | Javascript & Assignments\n",
        "description: Nolan & Jacob's Data Abstraction Presentation\n",
        "author: Nolan\n",
        "toc: true\n",
        "comments: true\n",
        "categories: [CSP Big Ideas]\n",
        "---"
      ]
    },
    {
      "cell_type": "markdown",
      "metadata": {},
      "source": [
        "### Javascript Example\n",
        "\n",
        "Here's an example of what the code above looks like in Javascript."
      ]
    },
    {
      "cell_type": "code",
      "execution_count": 3,
      "metadata": {
        "vscode": {
          "languageId": "javascript"
        }
      },
      "outputs": [
        {
          "data": {
            "application/javascript": "var possesions = {\n  owner: \"Lil Bro\",\n  dollars: 50,\n  food: [\"apps\", \"pizza\", \"banana\"],\n};\n\nconsole.log(possesions);\n// -> { owner: \"Lil Bro\", dollars: 50, food: [\"apps\",\"pizza\",\"banana\"] }\npossesions.food[2] = \"half-eaten banana\";\nconsole.log(possesions.food);\n// -> [ \"apps\", \"pizza\", \"half-eaten banana\" ]\npossesions.dollars = possesions.dollars / 2;\nconsole.log(possesions.dollars);\n// -> 25\n\nconsole.log(JSON.stringify(possesions));\n// -> {\"owner\":\"Lil Bro\",\"dollars\":25,\"food\":[\"apps\",\"pizza\",\"half-eaten banana\"]}\n",
            "text/plain": [
              "<IPython.core.display.Javascript object>"
            ]
          },
          "metadata": {},
          "output_type": "display_data"
        }
      ],
      "source": [
        "%%javascript\n",
        "var possesions = {\n",
        "  owner: \"Lil Bro\",\n",
        "  dollars: 50,\n",
        "  food: [\"apps\", \"pizza\", \"banana\"],\n",
        "};\n",
        "\n",
        "console.log(possesions);\n",
        "// -> { owner: \"Lil Bro\", dollars: 50, food: [\"apps\",\"pizza\",\"banana\"] }\n",
        "possesions.food[2] = \"half-eaten banana\";\n",
        "console.log(possesions.food);\n",
        "// -> [ \"apps\", \"pizza\", \"half-eaten banana\" ]\n",
        "possesions.dollars = possesions.dollars / 2;\n",
        "console.log(possesions.dollars);\n",
        "// -> 25\n",
        "\n",
        "console.log(JSON.stringify(possesions));\n",
        "// -> {\"owner\":\"Lil Bro\",\"dollars\":25,\"food\":[\"apps\",\"pizza\",\"half-eaten banana\"]}\n"
      ]
    },
    {
      "cell_type": "markdown",
      "metadata": {},
      "source": [
        "## Hacks (homework)\n",
        "* Find a JSON file/data online\n",
        "* Read and edit the JSON using at least 5 different types of variables. Do this in Python and in Javascript"
      ]
    }
  ],
  "metadata": {
    "kernelspec": {
      "display_name": "Python 3",
      "language": "python",
      "name": "python3"
    },
    "language_info": {
      "codemirror_mode": {
        "name": "ipython",
        "version": 3
      },
      "file_extension": ".py",
      "mimetype": "text/x-python",
      "name": "python",
      "nbconvert_exporter": "python",
      "pygments_lexer": "ipython3",
      "version": "3.11.2"
    },
    "orig_nbformat": 4
  },
  "nbformat": 4,
  "nbformat_minor": 2
}
