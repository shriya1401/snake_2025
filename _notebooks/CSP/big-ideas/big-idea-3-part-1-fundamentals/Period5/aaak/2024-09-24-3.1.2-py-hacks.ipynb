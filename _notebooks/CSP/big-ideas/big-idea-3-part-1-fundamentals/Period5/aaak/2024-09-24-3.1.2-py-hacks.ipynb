{
 "cells": [
  {
   "cell_type": "raw",
   "metadata": {
    "vscode": {
     "languageId": "raw"
    }
   },
   "source": [
    "---\n",
    "toc: false\n",
    "comments: true\n",
    "layout: post\n",
    "title: 3.1 Python Variables Popcorn Hacks\n",
    "description: In classroom Python challenges, aka popcorn hacks\n",
    "permalink: /csp/big-idea/3.1/p5/py/hacks\n",
    "categories: [CSP Big Ideas]\n",
    "author: Aadi, Aaditya, Aditya, Kanhay\n",
    "menu: nav/csp_units/csp_unit3_p5_fundamentals.html\n",
    "---"
   ]
  },
  {
   "cell_type": "code",
   "execution_count": null,
   "metadata": {},
   "outputs": [],
   "source": [
    "# Try making your own set of 3 variables\n",
    "\n",
    "# Example:\n",
    "\n",
    "a = 20\n",
    "favorite_subject = \"CSP\"\n",
    "favorite_sport = \"Basketball\"\n",
    "\n",
    "# Popcorn Hacks: Now try making your own SnakeCase variable and set the variable equal to a integer.\n",
    "\n",
    "# Example:\n",
    "\n",
    "cool_sport = \"Basketball\"\n",
    "\n",
    "# Popcorn Hack: Try making your own PascalCase variable\n",
    "\n",
    "# Example:\n",
    "\n",
    "CoolSport = \"Basketball\"\n",
    "\n",
    "# Popcorn Hack: Try making your own CamelCase variable\n",
    "\n",
    "# Example:\n",
    "\n",
    "coolSport = \"Basketball\""
   ]
  }
 ],
 "metadata": {
  "kernelspec": {
   "display_name": "Python 3",
   "language": "python",
   "name": "python3"
  },
  "language_info": {
   "codemirror_mode": {
    "name": "ipython",
    "version": 3
   },
   "file_extension": ".py",
   "mimetype": "text/x-python",
   "name": "python",
   "nbconvert_exporter": "python",
   "pygments_lexer": "ipython3",
   "version": "3.10.12"
  }
 },
 "nbformat": 4,
 "nbformat_minor": 2
}
