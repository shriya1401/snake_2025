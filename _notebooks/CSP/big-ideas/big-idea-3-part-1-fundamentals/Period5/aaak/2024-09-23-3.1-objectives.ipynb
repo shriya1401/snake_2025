{
 "cells": [
  {
   "cell_type": "raw",
   "metadata": {
    "vscode": {
     "languageId": "raw"
    }
   },
   "source": [
    "---\n",
    "toc: false\n",
    "comments: true\n",
    "layout: post\n",
    "title: 3.1 Objectives \n",
    "description: 3.1 JavaScript and Python Homework\n",
    "permalink: /csp/big-idea/3.1/p5/objectives\n",
    "categories: [CSP Big Ideas]\n",
    "author: Aadi, Aaditya, Aditya, Kanhay\n",
    "menu: nav/csp_units/csp_unit3_p5_fundamentals.html\n",
    "---"
   ]
  },
  {
   "cell_type": "markdown",
   "metadata": {
    "vscode": {
     "languageId": "plaintext"
    }
   },
   "source": [
    "## 3.1 Homework \n",
    "\n",
    "### Attempt all of these in both JavaScript and Python!\n",
    "\n",
    "Create 3 Variables\n",
    "\t- One String Variable for your name\n",
    "\t- One Integer Variable for your age\n",
    "\t- One Float Variable for your favorite number\n",
    "\n",
    "Naming Conventions:\n",
    "\t- Create one variable using snake_case for a favorite food.\n",
    "\t- Create one variable using PascalCase for a favorite hobby.\n",
    "\t- Create one variable using camelCase for your favorite color.\n",
    "\t\n",
    "List and Dictionary:\n",
    "\t- Create a list that contains your name, age, and favorite number.\n",
    "\t- Create a dictionary with keys for \"name\", \"age\", and \"favorite_number\"."
   ]
  }
 ],
 "metadata": {
  "language_info": {
   "name": "python"
  }
 },
 "nbformat": 4,
 "nbformat_minor": 2
}
