{
 "cells": [
  {
   "cell_type": "raw",
   "metadata": {
    "vscode": {
     "languageId": "raw"
    }
   },
   "source": [
    "---\n",
    "toc: false\n",
    "comments: true\n",
    "layout: post\n",
    "title: 3.4 Python Strings\n",
    "description: Learning how to use strings in Python\n",
    "permalink: /csp/big-idea/3.4/py/strings\n",
    "categories: [CSP Big Ideas]\n",
    "author: Aadi, Aaditya, Aditya, Kanhay\n",
    "menu: nav/csp_units/csp_unit3_p5_fundamentals.html\n",
    "---"
   ]
  },
  {
   "cell_type": "markdown",
   "metadata": {},
   "source": [
    "## Introduction to Strings in Python\n",
    "\n",
    "A string is a sequence of characters enclosed in quotes.\n",
    "\n",
    "Python provides a variety of methods that we can use to manipulate strings."
   ]
  },
  {
   "cell_type": "code",
   "execution_count": 5,
   "metadata": {},
   "outputs": [
    {
     "name": "stdout",
     "output_type": "stream",
     "text": [
      "Hello, World!\n",
      "This is a multi-line string.\n",
      "It can span multiple lines.\n",
      "HELLO, WORLD!\n",
      "hello, world!\n",
      "Hello, world!\n",
      "Hooray, World!\n",
      "['Hello', ' World!']\n",
      "Python is fun\n"
     ]
    }
   ],
   "source": [
    "\n",
    "# Example of strings\n",
    "single_quote_str = 'Hello, World!'\n",
    "triple_quote_str = '''This is a multi-line string.\n",
    "It can span multiple lines.'''\n",
    "\n",
    "print(single_quote_str)\n",
    "print(triple_quote_str)\n",
    "\n",
    "# 1. upper() - Converts all characters in the string to uppercase.\n",
    "print(single_quote_str.upper())\n",
    "\n",
    "# 2. lower() - Converts all characters in the string to lowercase.\n",
    "print(single_quote_str.lower())\n",
    "\n",
    "# 3. capitalize() - Capitalizes the first character of the string.\n",
    "print(single_quote_str.capitalize())\n",
    "\n",
    "# 4. replace() - Replaces a substring with another substring.\n",
    "print(single_quote_str.replace(\"Hello\", \"Hooray\"))\n",
    "\n",
    "# 5. split() - Splits the string into a list of substrings based on a delimiter.\n",
    "print(single_quote_str.split(','))\n",
    "\n",
    "# 6. join() - Joins a list of strings into a single string with a specified delimiter.\n",
    "words = ['Python', 'is', 'fun']\n",
    "print(' '.join(words))\n"
   ]
  },
  {
   "cell_type": "markdown",
   "metadata": {},
   "source": [
    "# Functions for Strings\n",
    "\n",
    "Python provides a variety of functions that we can use to manipulate strings."
   ]
  },
  {
   "cell_type": "code",
   "execution_count": 6,
   "metadata": {},
   "outputs": [
    {
     "name": "stdout",
     "output_type": "stream",
     "text": [
      "13\n",
      "123\n",
      "My name is Aaditya and I am 132 years old.\n"
     ]
    }
   ],
   "source": [
    "\n",
    "# 1. len() - Returns the length of the string.\n",
    "print(len(single_quote_str))\n",
    "\n",
    "# 2. str() - Converts a value to a string.\n",
    "num = 123\n",
    "print(str(num))\n",
    "\n",
    "# 3. f-strings - Formats strings using placeholders inside curly braces.\n",
    "name = \"Aaditya\"\n",
    "age = 132\n",
    "print(f\"My name is {name} and I am {age} years old.\")"
   ]
  }
 ],
 "metadata": {
  "kernelspec": {
   "display_name": "Python 3",
   "language": "python",
   "name": "python3"
  },
  "language_info": {
   "codemirror_mode": {
    "name": "ipython",
    "version": 3
   },
   "file_extension": ".py",
   "mimetype": "text/x-python",
   "name": "python",
   "nbconvert_exporter": "python",
   "pygments_lexer": "ipython3",
   "version": "3.10.12"
  }
 },
 "nbformat": 4,
 "nbformat_minor": 2
}
