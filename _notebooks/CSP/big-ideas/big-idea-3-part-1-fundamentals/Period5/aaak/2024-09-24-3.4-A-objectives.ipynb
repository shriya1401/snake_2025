{
 "cells": [
  {
   "cell_type": "raw",
   "metadata": {
    "vscode": {
     "languageId": "raw"
    }
   },
   "source": [
    "---\n",
    "toc: false\n",
    "comments: true\n",
    "layout: post\n",
    "title: 3.4 Objectives\n",
    "description: 3.1 JavaScript and Python Homework\n",
    "categories: [CSP Big Ideas]\n",
    "author: Aadi, Aaditya, Aditya, Kanhay\n",
    "permalink: /csp/big-idea/3.4/p5/objectives\n",
    "menu: nav/csp_units/csp_unit3_p5_fundamentals.html\n",
    "---"
   ]
  },
  {
   "cell_type": "markdown",
   "metadata": {},
   "source": [
    "## 3.4 Homework\n",
    "\n",
    "### Attempt all of these in both JavaScript and Python!\n",
    "\n",
    "Make two functions for:\n",
    "\n",
    "Character Count\n",
    "\t- Write a function that accepts a string input from the user and counts:\n",
    "\t\t- Total letters\n",
    "\t\t- Total numbers\n",
    "\t\t- Total spaces\n",
    "Vowel Count\n",
    "\t- Add functionality to count the number of vowels (both uppercase and lowercase) in the input string"
   ]
  }
 ],
 "metadata": {
  "language_info": {
   "name": "python"
  }
 },
 "nbformat": 4,
 "nbformat_minor": 2
}
