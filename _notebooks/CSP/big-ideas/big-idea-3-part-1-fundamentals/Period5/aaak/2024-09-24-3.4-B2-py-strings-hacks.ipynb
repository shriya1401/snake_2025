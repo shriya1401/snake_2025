{
 "cells": [
  {
   "cell_type": "raw",
   "metadata": {
    "vscode": {
     "languageId": "raw"
    }
   },
   "source": [
    "---\n",
    "toc: false\n",
    "comments: true\n",
    "layout: post\n",
    "title: 3.4 Python Strings Popcorn Hacks\n",
    "description: 3.4 Python popcorn hacks\n",
    "permalink: /csp/big-idea/3.4/py/strings/hacks\n",
    "categories: [CSP Big Ideas]\n",
    "author: Aadi, Aaditya, Aditya, Kanhay\n",
    "menu: nav/csp_units/csp_unit3_p5_fundamentals.html\n",
    "---"
   ]
  },
  {
   "cell_type": "code",
   "execution_count": null,
   "metadata": {},
   "outputs": [],
   "source": [
    "# Find the number of characters in your last name using len.\n",
    "\n",
    "# Example:\n",
    "\n",
    "length = len(\"Williams\")\n",
    "print(length)\n",
    "\n",
    "# Use concat to merge your first and last name together.\n",
    "\n",
    "# Example:\n",
    "\n",
    "concat_string = \"Trent\" + \"Williams\"\n",
    "print(concat_string)\n",
    "\n",
    "# Use substring to show only the 3rd to 6th characters\n",
    "\n",
    "# Example:\n",
    "\n",
    "substring = concat_string[2:6]\n",
    "print(substring)"
   ]
  }
 ],
 "metadata": {
  "language_info": {
   "name": "python"
  }
 },
 "nbformat": 4,
 "nbformat_minor": 2
}
