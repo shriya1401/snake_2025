{
 "cells": [
  {
   "cell_type": "raw",
   "metadata": {
    "vscode": {
     "languageId": "raw"
    }
   },
   "source": [
    "---\n",
    "toc: false\n",
    "comments: true\n",
    "layout: post\n",
    "title: 3.1 JavaScript Variables\n",
    "description: Learning how to use variables in JavaScript\n",
    "permalink: /csp/big-idea/3.1/p5/js/info\n",
    "categories: [CSP Big Ideas]\n",
    "author: Aadi\n",
    "menu: nav/csp_units/csp_unit3_p5_fundamentals.html\n",
    "---"
   ]
  },
  {
   "cell_type": "markdown",
   "metadata": {
    "vscode": {
     "languageId": "plaintext"
    }
   },
   "source": [
    "## What is a Variable\n",
    "\n",
    "A variable is a named container that stores data or values that can change. We use variables in programming a lot!\n",
    "\n",
    "In JavaScript, variable names must follow this criteria:\n",
    "- Starts with a letter, underscore, or dollar sign\n",
    "- Contains only letters, underscores, dollar signs, or numbers\n",
    "\n",
    "For example, these are valid variable names:\n",
    "\n",
    "```\n",
    "Angry_bird\n",
    "badP1GG13\n",
    "_thing\n",
    "$Another_thing\n",
    "```\n",
    "\n",
    "And these are invalid variable names:\n",
    "\n",
    "```\n",
    "1foo\n",
    "b@r\n",
    "!@#$%\n",
    "\"hello\"\n",
    "```"
   ]
  },
  {
   "cell_type": "markdown",
   "metadata": {},
   "source": [
    "## Naming Conventions\n",
    "\n",
    "There are many naming conventions for variables in programming.\n",
    "\n",
    "# snake_case\n",
    "\n",
    "In snake case, words in variables are all lowercase and are separated by a comma. These are some examples:\n",
    "\n",
    "```\n",
    "foo_bar\n",
    "one_two\n",
    "peppa_pig\n",
    "```\n",
    "\n",
    "# camelCase\n",
    "\n",
    "In camel case, the first word is lowercase, and the first letter of the remaining words are uppercase. These are some examples:\n",
    "\n",
    "```\n",
    "fooBar\n",
    "oneTwo\n",
    "peppaPig\n",
    "```\n",
    "\n",
    "# PascalCase\n",
    "\n",
    "In pascal case, The first letter of each word is uppercase. These are some examples:\n",
    "\n",
    "```\n",
    "FooBar\n",
    "OneTwo\n",
    "PeppaPig\n",
    "```\n",
    "\n",
    "In JavaScript, we mainly use camel case for variables."
   ]
  },
  {
   "cell_type": "markdown",
   "metadata": {},
   "source": [
    "## Assigning Variables\n",
    "\n",
    "To assign variables to values, we can use `let`. For example:\n",
    "\n",
    "```js\n",
    "let fooBar = \"random string\";\n",
    "```"
   ]
  },
  {
   "cell_type": "markdown",
   "metadata": {},
   "source": [
    "## Data Types\n",
    "\n",
    "Variables can be of several different data types. Each data type behaves differently.\n",
    "\n",
    "These are the most common data types:\n",
    "\n",
    "# String\n",
    "\n",
    "A string is a chain of text. You can use any letters, numbers, and special characters. We keep this text inside quotation marks.\n",
    "\n",
    "```js\n",
    "let myName = \"Aadi Bhat\";\n",
    "let random = \"!! asoasd 1-20123\";\n",
    "```\n",
    "\n",
    "# Integer\n",
    "\n",
    "An integer is... An integer! In other words, a whole number. We don't use any decimals or commas to represent these.\n",
    "\n",
    "```js\n",
    "let myAge = 15;\n",
    "let bigNumber = 16777216;\n",
    "```\n",
    "\n",
    "# Float\n",
    "\n",
    "A float is a non-whole number. We use decimals to help us represent these.\n",
    "\n",
    "```js\n",
    "let myExactAge = 15.2164;\n",
    "let pie = 8.53973422267;\n",
    "```\n",
    "\n",
    "# Boolean\n",
    "\n",
    "A boolean is either true or false. Nothing in between!\n",
    "\n",
    "```js\n",
    "let isHungry = true;\n",
    "let isStanding = false;\n",
    "```\n",
    "\n",
    "# Array\n",
    "\n",
    "An array is a list of elements. These elements can be any data type, including another array! An array is not limited to having just one data type. We put these comma-separated elements inside brackets.\n",
    "\n",
    "```js\n",
    "let friends = [\"Aadi\", \"Aaditya\", \"Aditya\", \"Kanhay\"];\n",
    "let mix = [\"abcde\", 12345, 3.14, false, friends];\n",
    "```\n",
    "\n",
    "# Object\n",
    "\n",
    "Similar to an array, but the elements are stored in key-value pairs. Once again, these values can be any data type. We separate keys and values with a colon, and everything goes inside curly braces.\n",
    "\n",
    "```js\n",
    "let person = {\n",
    "    name: \"Aadi\",\n",
    "    age: 15,\n",
    "    ipAddress: \"256.256.256.256\" // very good ip address\n",
    "};\n",
    "```"
   ]
  },
  {
   "cell_type": "markdown",
   "metadata": {},
   "source": [
    "## Logging\n",
    "\n",
    "You can log outputs to the JavaScript console! This is similar to printing in other languages, like Python.\n",
    "\n",
    "This is an example of logging a variable:\n",
    "\n",
    "```js\n",
    "let favoriteClass = \"CSP\";\n",
    "console.log(favoriteClass);\n",
    "```\n",
    "\n",
    "This will log `CSP` to the console.\n",
    "\n",
    "To see this on your website, you can do `Ctrl+Shift+i` or `Cmd+Shift+i` to inspect element, and then go to the `Console` tab."
   ]
  }
 ],
 "metadata": {
  "language_info": {
   "name": "python"
  }
 },
 "nbformat": 4,
 "nbformat_minor": 2
}
