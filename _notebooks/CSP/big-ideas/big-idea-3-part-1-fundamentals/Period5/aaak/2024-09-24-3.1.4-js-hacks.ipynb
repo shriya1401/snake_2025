{
 "cells": [
  {
   "cell_type": "raw",
   "metadata": {
    "vscode": {
     "languageId": "raw"
    }
   },
   "source": [
    "---\n",
    "toc: false\n",
    "comments: true\n",
    "layout: post\n",
    "title: 3.1 JavaScript Variables Popcorn Hacks\n",
    "description: In classrom JavaScript challenges, aka popcorn hacks\n",
    "permalink: /csp/big-idea/3.1/p5/js/hacks\n",
    "categories: [CSP Big Ideas]\n",
    "author: Aadi, Aaditya, Aditya, Kanhay\n",
    "menu: nav/csp_units/csp_unit3_p5_fundamentals.html\n",
    "---"
   ]
  },
  {
   "cell_type": "markdown",
   "metadata": {},
   "source": [
    "```js\n",
    "// Declare a set of your own three variables\n",
    "\n",
    "// Example:\n",
    "\n",
    "let a = 20;\n",
    "let favorite_subject = \"CSP\";\n",
    "let favorite_sport = \"Basketball\";\n",
    "\n",
    "\n",
    "// Declare an object variable, and log the object to the console\n",
    "\n",
    "// Example:\n",
    "\n",
    "const person = {\n",
    "    firstName: \"Cool\",\n",
    "    lastName: \"Person\",\n",
    "    age: 40,\n",
    "    job: teacher,\n",
    "    hobbies: [\"reading\", \"traveling\", \"coding\"]\n",
    "};\n",
    "\n",
    "console.log(person);\n",
    "\n",
    "\n",
    "// Create two integer type variables, and create two string type variables, and add the two sets of variables together, and log to the console\n",
    "\n",
    "let num1 = 30;\n",
    "let num2 = 10;\n",
    "\n",
    "let string1 = \"This is \";\n",
    "let string2 = \"very cool.\";\n",
    "\n",
    "console.log(num1 + num2);\n",
    "console.log(string1 + string2);\n",
    "```"
   ]
  }
 ],
 "metadata": {
  "kernelspec": {
   "display_name": "Python 3",
   "language": "python",
   "name": "python3"
  },
  "language_info": {
   "codemirror_mode": {
    "name": "ipython",
    "version": 3
   },
   "file_extension": ".py",
   "mimetype": "text/x-python",
   "name": "python",
   "nbconvert_exporter": "python",
   "pygments_lexer": "ipython3",
   "version": "3.10.12"
  }
 },
 "nbformat": 4,
 "nbformat_minor": 2
}
