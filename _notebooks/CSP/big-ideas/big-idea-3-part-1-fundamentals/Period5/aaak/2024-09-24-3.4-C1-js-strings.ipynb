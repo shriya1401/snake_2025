{
 "cells": [
  {
   "cell_type": "raw",
   "metadata": {
    "vscode": {
     "languageId": "raw"
    }
   },
   "source": [
    "---\n",
    "toc: false\n",
    "comments: true\n",
    "layout: post\n",
    "title: 3.4 JavaScript Strings\n",
    "description: Learning how to use strings in JavaScript\n",
    "permalink: /csp/big-idea/3.4/js/strings\n",
    "categories: [CSP Big Ideas]\n",
    "author: Aadi, Aaditya, Aditya, Kanhay\n",
    "menu: nav/csp_units/csp_unit3_p5_fundamentals.html\n",
    "---"
   ]
  },
  {
   "cell_type": "markdown",
   "metadata": {},
   "source": [
    "## What is a String\n",
    "\n",
    "A string is a chain of characters. You can use any letters, numbers, and special characters!\n",
    "\n",
    "As said in 3.1, to declare a string, you use quotation marks:\n",
    "\n",
    "```js\n",
    "let myString = \"Happy birthday!!\";\n",
    "```\n",
    "\n",
    "Strings have many properties. For example, we can return the length of a string (the number of characters in it) using the `length` property:\n",
    "\n",
    "```js\n",
    "let text = \"JavaScript\";\n",
    "console.log(text.length); // logs 10 to the console\n",
    "```"
   ]
  },
  {
   "cell_type": "markdown",
   "metadata": {},
   "source": [
    "## String Concatenation\n",
    "\n",
    "Concatenation in programming means to chain together values!\n",
    "\n",
    "We can concatenate strings using the plus sign:\n",
    "\n",
    "```js\n",
    "let firstName = \"Aadi\";\n",
    "let lastName = \"Bhat\";\n",
    "console.log(firstName + \" \" + lastName); // logs Aadi Bhat\n",
    "```\n",
    "\n",
    "We can also use commas if we want a space by default:\n",
    "\n",
    "```js\n",
    "console.log(firstName, lastName);\n",
    "```"
   ]
  },
  {
   "cell_type": "markdown",
   "metadata": {},
   "source": [
    "## Substrings\n",
    "\n",
    "A substring is a smaller part of a string.\n",
    "\n",
    "An easy way to take a substring of a string is using the `substring` property:\n",
    "\n",
    "```js\n",
    "let alpha = \"abcdefg\";\n",
    "console.log(alpha.substring(0, 3)); // logs abc\n",
    "console.log(alpha.substring(3)) // logs defg\n",
    "```"
   ]
  },
  {
   "cell_type": "markdown",
   "metadata": {},
   "source": [
    "## Making Functions for Strings\n",
    "\n",
    "Let's make some functions that take a string data type as a parameter!\n",
    "\n",
    "This function will take in a string and return `true` or `false` if the string is a palindrome or not, respectively:\n",
    "\n",
    "```js\n",
    "function isPalindrome(string) {\n",
    "    // remove all spaces and convert string to lowercase\n",
    "\tcleanString = string.replace(\" \", \"\").toLowerCase();\n",
    "\n",
    "    // reverse the string\n",
    "    reversedString = cleanString.split(\"\").reverse().join(\"\");\n",
    "    \n",
    "    // returns if the strings are equal\n",
    "  \treturn cleanString == reversedString;\n",
    "}\n",
    "\n",
    "console.log(isPalindrome(\"abcDE DCBA\")); // logs true\n",
    "console.log(isPalindrome(\"apple juice\")); // logs false\n",
    "```"
   ]
  }
 ],
 "metadata": {
  "language_info": {
   "name": "python"
  }
 },
 "nbformat": 4,
 "nbformat_minor": 2
}
