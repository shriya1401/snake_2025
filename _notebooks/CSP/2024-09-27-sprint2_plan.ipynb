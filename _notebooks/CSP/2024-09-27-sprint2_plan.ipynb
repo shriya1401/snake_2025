{
 "cells": [
  {
   "cell_type": "raw",
   "metadata": {
    "vscode": {
     "languageId": "raw"
    }
   },
   "source": [
    "---\n",
    "layout: post\n",
    "title: Sprint 2 - Objectives \n",
    "description:  Student Teach and Software Development Objectives for Sprint 2\n",
    "type: issues \n",
    "courses: { csp: {week: 5} }\n",
    "comments: true\n",
    "---"
   ]
  },
  {
   "cell_type": "markdown",
   "metadata": {},
   "source": [
    "## Issues\n",
    "Teacher and Peer evaluation are critical to our success and improvements.   Be sure to support meeting objectives by providing feedback and acting on feedback received."
   ]
  },
  {
   "cell_type": "markdown",
   "metadata": {},
   "source": [
    "## Student Teaching - Part 1 Fundamentals\n",
    "\n",
    "Students will engage in lesson preparation, teaching, and grading. This activity is often called \"Team Teach\". The process and purpose are as follows:\n",
    "\n",
    "1. Learn Big Idea 3 from the College Board.\n",
    "2. Build a lesson using Python and JavaScript for each of the programming fundamentals provided by the teacher's starters.\n",
    "3. The lesson should include a Tech Talk portion, popcorn hacks, and homework hacks. The lesson should NOT have more than 5 minutes of talking before engaging students in an activity (e.g., popcorn hacks).\n",
    "4. Be prepared to grade homework. This means having a plan for homework and a plan for grading the homework. You will grade on a \"1-point\" scale. Weight popcorn hacks and homework hacks in the grading.\n",
    "5. Lesson time will be between 20 and 30 minutes. Homework time should be about the same as lesson time."
   ]
  },
  {
   "cell_type": "markdown",
   "metadata": {},
   "source": [
    "### Lesson Building (Mr M, Mr B reviews on Intro Utterances)\n",
    "\n",
    "#### Lesson Building Checklist \n",
    "\n",
    "| **Assignment**          | **Weightage** | **Grade** |\n",
    "|-------------------------|---------------|-----------|\n",
    "| Baseline Grade          | 50%           |           |\n",
    "| Plan                    | 5%            |           |\n",
    "| Pull Request            | 10%           |           |\n",
    "| Topic Relevancy         | 15%           |           |\n",
    "| Classroom Integration   | 10%           |           |\n",
    "| Total                   | 90%           |           |\n",
    "|                         |               |           |\n",
    "| 2nd Place in Period     | 5% (Bonus)    | [Y/N]     |\n",
    "| 1st Place in Period     | 10% (Bonus)   | [Y/N]     |\n",
    "| Total                   |               |           |\n",
    "| Usage in other teaching | _TBD_         | [Y/N]     |\n",
    "\n",
    "#### Raw Form\n",
    "\n",
    "```text\n",
    "| **Assignment**          | **Weightage** | **Grade** |\n",
    "|-------------------------|---------------|-----------|\n",
    "| Baseline Grade          | 50%           |           |\n",
    "| Plan                    | 5%            |           |\n",
    "| Pull Request            | 10%           |           |\n",
    "| Topic Relevancy         | 15%           |           |\n",
    "| Classroom Integration   | 10%           |           |\n",
    "| Total                   | 90%           |           |\n",
    "|                         |               |           |\n",
    "| 2nd Place in Period     | 5% (Bonus)    | [Y/N]     |\n",
    "| 1st Place in Period     | 10% (Bonus)   | [Y/N]     |\n",
    "| Total                   |               |           |\n",
    "| Usage in other teaching | _TBD_         | [Y/N]     |\n",
    "```\n"
   ]
  },
  {
   "cell_type": "markdown",
   "metadata": {},
   "source": [
    "### Lesson Review - Topic Relevancy (Stdent Review)\n",
    "\n",
    "Peer review checklist.  Guideance\n",
    "\n",
    "- Scurm Master should coordinate.\n",
    "\n",
    "- Peer grading should be coordinated in Slack, if there are any issues.\n",
    "\n",
    "- Lesson providers will receive reviews from a peers in another class, doing the same topic, by enabling Utterances on your topic(s).\n",
    "\n",
    "- Peer graders will grade on Utterances.  Be sure two people provide a review to every section of lesson (ie 2 reviews on intro, 2 reviews on .1, 2 reviews on .2, ...).  \n",
    "\n",
    "- Assingments are to review corresponding topics in other classes.\n",
    "  - P1 reviews P2\n",
    "  - P2 reviews P3 \n",
    "  - P3 reviews P4\n",
    "  - P4 reviews P5 \n",
    "  - P5 reviews P1\n",
    "\n",
    "Note 1. **The purpose is NOT MORPH lessons to be the same, boring!!!**\n",
    "Note 2. **Student reviewers will be evaluated on how and if you perform a review** \n",
    "Note 3. **Student lesson providers will be evaluated if the improve lesson based off of feedback.  Remebmer/document your changes**\n",
    "\n",
    "\n",
    "#### Relevancy Checklist\n",
    "\n",
    "\n",
    "| **Assignment**          | **Weightage** | **Grade** | **Comments** |\n",
    "|-------------------------|---------------|-----------|--------------|\n",
    "| College Board Coverage  | 20            | TBD       | TBD          |\n",
    "| Python Examples         | 15            | TBD       | TBD          |\n",
    "| JavaScript Examples     | 15            | TBD       | TBD          |\n",
    "| Popcorn Hack Usage      | 10            | TBD       | TBD          |\n",
    "| Homework                | 10            | TBD       | TBD          |\n",
    "| Grading Plan            | 10            | TBD       | TBD          |\n",
    "| Original an Creative    | 10            | TBD       | TBD          |\n",
    "| **Total**               | **90**        |           |              |\n",
    "\n",
    "\n",
    "#### Raw Form\n",
    "\n",
    "```text\n",
    " **Assignment**          | **Weightage** | **Grade** | **Comments** |\n",
    "|-------------------------|---------------|-----------|--------------|\n",
    "| College Board Coverage  | 20            | TBD       | TBD          |\n",
    "| Python Examples         | 15            | TBD       | TBD          |\n",
    "| JavaScript Examples     | 15            | TBD       | TBD          |\n",
    "| Popcorn Hack Usage      | 10            | TBD       | TBD          |\n",
    "| Homework Hacks          | 10            | TBD       | TBD          |\n",
    "| Grading Plan            | 10            | TBD       | TBD          |\n",
    "| Original Work           | 10            | TBD       | TBD          |\n",
    "| **Total**               | **90**        |           |              |\n",
    "```"
   ]
  }
 ],
 "metadata": {
  "language_info": {
   "name": "python"
  }
 },
 "nbformat": 4,
 "nbformat_minor": 2
}
